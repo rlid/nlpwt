{
 "cells": [
  {
   "cell_type": "code",
   "execution_count": 56,
   "id": "initial_id",
   "metadata": {
    "collapsed": true,
    "ExecuteTime": {
     "end_time": "2023-12-22T11:50:05.777178509Z",
     "start_time": "2023-12-22T11:50:04.406993815Z"
    }
   },
   "outputs": [
    {
     "data": {
      "text/plain": "['XNLI',\n 'tydiqa',\n 'SQuAD',\n 'PAN-X.af',\n 'PAN-X.ar',\n 'PAN-X.bg',\n 'PAN-X.bn',\n 'PAN-X.de',\n 'PAN-X.el',\n 'PAN-X.en',\n 'PAN-X.es',\n 'PAN-X.et',\n 'PAN-X.eu',\n 'PAN-X.fa',\n 'PAN-X.fi',\n 'PAN-X.fr',\n 'PAN-X.he',\n 'PAN-X.hi',\n 'PAN-X.hu',\n 'PAN-X.id',\n 'PAN-X.it',\n 'PAN-X.ja',\n 'PAN-X.jv',\n 'PAN-X.ka',\n 'PAN-X.kk',\n 'PAN-X.ko',\n 'PAN-X.ml',\n 'PAN-X.mr',\n 'PAN-X.ms',\n 'PAN-X.my',\n 'PAN-X.nl',\n 'PAN-X.pt',\n 'PAN-X.ru',\n 'PAN-X.sw',\n 'PAN-X.ta',\n 'PAN-X.te',\n 'PAN-X.th',\n 'PAN-X.tl',\n 'PAN-X.tr',\n 'PAN-X.ur',\n 'PAN-X.vi',\n 'PAN-X.yo',\n 'PAN-X.zh',\n 'MLQA.ar.ar',\n 'MLQA.ar.de',\n 'MLQA.ar.vi',\n 'MLQA.ar.zh',\n 'MLQA.ar.en',\n 'MLQA.ar.es',\n 'MLQA.ar.hi',\n 'MLQA.de.ar',\n 'MLQA.de.de',\n 'MLQA.de.vi',\n 'MLQA.de.zh',\n 'MLQA.de.en',\n 'MLQA.de.es',\n 'MLQA.de.hi',\n 'MLQA.vi.ar',\n 'MLQA.vi.de',\n 'MLQA.vi.vi',\n 'MLQA.vi.zh',\n 'MLQA.vi.en',\n 'MLQA.vi.es',\n 'MLQA.vi.hi',\n 'MLQA.zh.ar',\n 'MLQA.zh.de',\n 'MLQA.zh.vi',\n 'MLQA.zh.zh',\n 'MLQA.zh.en',\n 'MLQA.zh.es',\n 'MLQA.zh.hi',\n 'MLQA.en.ar',\n 'MLQA.en.de',\n 'MLQA.en.vi',\n 'MLQA.en.zh',\n 'MLQA.en.en',\n 'MLQA.en.es',\n 'MLQA.en.hi',\n 'MLQA.es.ar',\n 'MLQA.es.de',\n 'MLQA.es.vi',\n 'MLQA.es.zh',\n 'MLQA.es.en',\n 'MLQA.es.es',\n 'MLQA.es.hi',\n 'MLQA.hi.ar',\n 'MLQA.hi.de',\n 'MLQA.hi.vi',\n 'MLQA.hi.zh',\n 'MLQA.hi.en',\n 'MLQA.hi.es',\n 'MLQA.hi.hi',\n 'XQuAD.ar',\n 'XQuAD.de',\n 'XQuAD.vi',\n 'XQuAD.zh',\n 'XQuAD.en',\n 'XQuAD.es',\n 'XQuAD.hi',\n 'XQuAD.el',\n 'XQuAD.ru',\n 'XQuAD.th',\n 'XQuAD.tr',\n 'bucc18.de',\n 'bucc18.fr',\n 'bucc18.zh',\n 'bucc18.ru',\n 'PAWS-X.de',\n 'PAWS-X.en',\n 'PAWS-X.es',\n 'PAWS-X.fr',\n 'PAWS-X.ja',\n 'PAWS-X.ko',\n 'PAWS-X.zh',\n 'tatoeba.afr',\n 'tatoeba.ara',\n 'tatoeba.ben',\n 'tatoeba.bul',\n 'tatoeba.deu',\n 'tatoeba.cmn',\n 'tatoeba.ell',\n 'tatoeba.est',\n 'tatoeba.eus',\n 'tatoeba.fin',\n 'tatoeba.fra',\n 'tatoeba.heb',\n 'tatoeba.hin',\n 'tatoeba.hun',\n 'tatoeba.ind',\n 'tatoeba.ita',\n 'tatoeba.jav',\n 'tatoeba.jpn',\n 'tatoeba.kat',\n 'tatoeba.kaz',\n 'tatoeba.kor',\n 'tatoeba.mal',\n 'tatoeba.mar',\n 'tatoeba.nld',\n 'tatoeba.pes',\n 'tatoeba.por',\n 'tatoeba.rus',\n 'tatoeba.spa',\n 'tatoeba.swh',\n 'tatoeba.tam',\n 'tatoeba.tel',\n 'tatoeba.tgl',\n 'tatoeba.tha',\n 'tatoeba.tur',\n 'tatoeba.urd',\n 'tatoeba.vie',\n 'udpos.Afrikaans',\n 'udpos.Arabic',\n 'udpos.Basque',\n 'udpos.Bulgarian',\n 'udpos.Dutch',\n 'udpos.English',\n 'udpos.Estonian',\n 'udpos.Finnish',\n 'udpos.French',\n 'udpos.German',\n 'udpos.Greek',\n 'udpos.Hebrew',\n 'udpos.Hindi',\n 'udpos.Hungarian',\n 'udpos.Indonesian',\n 'udpos.Italian',\n 'udpos.Japanese',\n 'udpos.Kazakh',\n 'udpos.Korean',\n 'udpos.Chinese',\n 'udpos.Marathi',\n 'udpos.Persian',\n 'udpos.Portuguese',\n 'udpos.Russian',\n 'udpos.Spanish',\n 'udpos.Tagalog',\n 'udpos.Tamil',\n 'udpos.Telugu',\n 'udpos.Thai',\n 'udpos.Turkish',\n 'udpos.Urdu',\n 'udpos.Vietnamese',\n 'udpos.Yoruba']"
     },
     "execution_count": 56,
     "metadata": {},
     "output_type": "execute_result"
    }
   ],
   "source": [
    "from datasets import get_dataset_config_names\n",
    "\n",
    "xtreme_subsets = get_dataset_config_names('xtreme')\n",
    "xtreme_subsets"
   ]
  },
  {
   "cell_type": "code",
   "outputs": [
    {
     "data": {
      "text/plain": "['PAN-X.af',\n 'PAN-X.ar',\n 'PAN-X.bg',\n 'PAN-X.bn',\n 'PAN-X.de',\n 'PAN-X.el',\n 'PAN-X.en',\n 'PAN-X.es',\n 'PAN-X.et',\n 'PAN-X.eu',\n 'PAN-X.fa',\n 'PAN-X.fi',\n 'PAN-X.fr',\n 'PAN-X.he',\n 'PAN-X.hi',\n 'PAN-X.hu',\n 'PAN-X.id',\n 'PAN-X.it',\n 'PAN-X.ja',\n 'PAN-X.jv',\n 'PAN-X.ka',\n 'PAN-X.kk',\n 'PAN-X.ko',\n 'PAN-X.ml',\n 'PAN-X.mr',\n 'PAN-X.ms',\n 'PAN-X.my',\n 'PAN-X.nl',\n 'PAN-X.pt',\n 'PAN-X.ru',\n 'PAN-X.sw',\n 'PAN-X.ta',\n 'PAN-X.te',\n 'PAN-X.th',\n 'PAN-X.tl',\n 'PAN-X.tr',\n 'PAN-X.ur',\n 'PAN-X.vi',\n 'PAN-X.yo',\n 'PAN-X.zh']"
     },
     "execution_count": 57,
     "metadata": {},
     "output_type": "execute_result"
    }
   ],
   "source": [
    "panx_subsets = [s for s in xtreme_subsets if s.startswith('PAN')]\n",
    "panx_subsets"
   ],
   "metadata": {
    "collapsed": false,
    "ExecuteTime": {
     "end_time": "2023-12-22T11:50:05.777688553Z",
     "start_time": "2023-12-22T11:50:05.777113198Z"
    }
   },
   "id": "a34b46b1efaee61a",
   "execution_count": 57
  },
  {
   "cell_type": "code",
   "outputs": [
    {
     "data": {
      "text/plain": "DatasetDict({\n    train: Dataset({\n        features: ['tokens', 'ner_tags', 'langs'],\n        num_rows: 20000\n    })\n    validation: Dataset({\n        features: ['tokens', 'ner_tags', 'langs'],\n        num_rows: 10000\n    })\n    test: Dataset({\n        features: ['tokens', 'ner_tags', 'langs'],\n        num_rows: 10000\n    })\n})"
     },
     "execution_count": 58,
     "metadata": {},
     "output_type": "execute_result"
    }
   ],
   "source": [
    "from datasets import load_dataset\n",
    "\n",
    "load_dataset('xtreme', name='PAN-X.de')"
   ],
   "metadata": {
    "collapsed": false,
    "ExecuteTime": {
     "end_time": "2023-12-22T11:50:07.504674491Z",
     "start_time": "2023-12-22T11:50:05.777297430Z"
    }
   },
   "id": "3d7ff500c9f06a84",
   "execution_count": 58
  },
  {
   "cell_type": "code",
   "outputs": [],
   "source": [
    "from collections import defaultdict\n",
    "from datasets import DatasetDict\n",
    "\n",
    "langs = ['de', 'fr', 'it', 'en']\n",
    "fracs = [0.629, 0.229, 0.084, 0.059]\n",
    "\n",
    "panx_ch = defaultdict(DatasetDict)\n",
    "\n",
    "for lang, frac in zip(langs, fracs):\n",
    "    ds = load_dataset('xtreme', name=f'PAN-X.{lang}')\n",
    "    for set_name in ds:\n",
    "        panx_ch[lang][set_name] = ds[set_name].shuffle(seed=0).select(range(int(frac * ds[set_name].num_rows)))"
   ],
   "metadata": {
    "collapsed": false,
    "ExecuteTime": {
     "end_time": "2023-12-22T11:50:13.482804296Z",
     "start_time": "2023-12-22T11:50:07.507966889Z"
    }
   },
   "id": "a1b80105f6f98f25",
   "execution_count": 59
  },
  {
   "cell_type": "code",
   "outputs": [
    {
     "data": {
      "text/plain": "         de        fr        it        en\n0  0.628372  0.228771  0.083916  0.058941",
      "text/html": "<div>\n<style scoped>\n    .dataframe tbody tr th:only-of-type {\n        vertical-align: middle;\n    }\n\n    .dataframe tbody tr th {\n        vertical-align: top;\n    }\n\n    .dataframe thead th {\n        text-align: right;\n    }\n</style>\n<table border=\"1\" class=\"dataframe\">\n  <thead>\n    <tr style=\"text-align: right;\">\n      <th></th>\n      <th>de</th>\n      <th>fr</th>\n      <th>it</th>\n      <th>en</th>\n    </tr>\n  </thead>\n  <tbody>\n    <tr>\n      <th>0</th>\n      <td>0.628372</td>\n      <td>0.228771</td>\n      <td>0.083916</td>\n      <td>0.058941</td>\n    </tr>\n  </tbody>\n</table>\n</div>"
     },
     "execution_count": 60,
     "metadata": {},
     "output_type": "execute_result"
    }
   ],
   "source": [
    "import pandas as pd\n",
    "\n",
    "num_samples = pd.DataFrame({lang: [panx_ch[lang]['train'].num_rows] for lang in langs})\n",
    "num_samples / num_samples.iloc[0].sum()"
   ],
   "metadata": {
    "collapsed": false,
    "ExecuteTime": {
     "end_time": "2023-12-22T11:50:13.490818173Z",
     "start_time": "2023-12-22T11:50:13.486387456Z"
    }
   },
   "id": "e283257bca125710",
   "execution_count": 60
  },
  {
   "cell_type": "code",
   "outputs": [
    {
     "data": {
      "text/plain": "{'tokens': ['2.000',\n  'Einwohnern',\n  'an',\n  'der',\n  'Danziger',\n  'Bucht',\n  'in',\n  'der',\n  'polnischen',\n  'Woiwodschaft',\n  'Pommern',\n  '.'],\n 'ner_tags': [0, 0, 0, 0, 5, 6, 0, 0, 5, 5, 6, 0],\n 'langs': ['de',\n  'de',\n  'de',\n  'de',\n  'de',\n  'de',\n  'de',\n  'de',\n  'de',\n  'de',\n  'de',\n  'de']}"
     },
     "execution_count": 61,
     "metadata": {},
     "output_type": "execute_result"
    }
   ],
   "source": [
    "panx_ch['de']['train'][0]"
   ],
   "metadata": {
    "collapsed": false,
    "ExecuteTime": {
     "end_time": "2023-12-22T11:50:13.503815762Z",
     "start_time": "2023-12-22T11:50:13.489756024Z"
    }
   },
   "id": "9a68976d3751dd03",
   "execution_count": 61
  },
  {
   "cell_type": "code",
   "outputs": [
    {
     "data": {
      "text/plain": "{'tokens': Sequence(feature=Value(dtype='string', id=None), length=-1, id=None),\n 'ner_tags': Sequence(feature=ClassLabel(names=['O', 'B-PER', 'I-PER', 'B-ORG', 'I-ORG', 'B-LOC', 'I-LOC'], id=None), length=-1, id=None),\n 'langs': Sequence(feature=Value(dtype='string', id=None), length=-1, id=None)}"
     },
     "execution_count": 62,
     "metadata": {},
     "output_type": "execute_result"
    }
   ],
   "source": [
    "panx_ch['de']['train'].features"
   ],
   "metadata": {
    "collapsed": false,
    "ExecuteTime": {
     "end_time": "2023-12-22T11:50:13.517887001Z",
     "start_time": "2023-12-22T11:50:13.502669773Z"
    }
   },
   "id": "f5e8521415bb9ffe",
   "execution_count": 62
  },
  {
   "cell_type": "code",
   "outputs": [
    {
     "data": {
      "text/plain": "'B-LOC'"
     },
     "execution_count": 63,
     "metadata": {},
     "output_type": "execute_result"
    }
   ],
   "source": [
    "tags = panx_ch['de']['train'].features['ner_tags'].feature\n",
    "tags\n",
    "tags.int2str(5)"
   ],
   "metadata": {
    "collapsed": false,
    "ExecuteTime": {
     "end_time": "2023-12-22T11:50:13.557781447Z",
     "start_time": "2023-12-22T11:50:13.508550442Z"
    }
   },
   "id": "211ab048736289d3",
   "execution_count": 63
  },
  {
   "cell_type": "code",
   "outputs": [
    {
     "data": {
      "text/plain": "Map:   0%|          | 0/12580 [00:00<?, ? examples/s]",
      "application/vnd.jupyter.widget-view+json": {
       "version_major": 2,
       "version_minor": 0,
       "model_id": "a65c0a0a4ca44293a14846243549753c"
      }
     },
     "metadata": {},
     "output_type": "display_data"
    },
    {
     "data": {
      "text/plain": "Map:   0%|          | 0/6290 [00:00<?, ? examples/s]",
      "application/vnd.jupyter.widget-view+json": {
       "version_major": 2,
       "version_minor": 0,
       "model_id": "2ac990eb5df14c2697344723e2cc648f"
      }
     },
     "metadata": {},
     "output_type": "display_data"
    },
    {
     "data": {
      "text/plain": "Map:   0%|          | 0/6290 [00:00<?, ? examples/s]",
      "application/vnd.jupyter.widget-view+json": {
       "version_major": 2,
       "version_minor": 0,
       "model_id": "3613da365e88405391e47aa79ac552ff"
      }
     },
     "metadata": {},
     "output_type": "display_data"
    }
   ],
   "source": [
    "panx_de = panx_ch['de'].map(lambda batch: {'ner_tags_str': [tags.int2str(i) for i in batch['ner_tags']]})"
   ],
   "metadata": {
    "collapsed": false,
    "ExecuteTime": {
     "end_time": "2023-12-22T11:50:14.836324768Z",
     "start_time": "2023-12-22T11:50:13.522838332Z"
    }
   },
   "id": "6f269f1654bf9ee5",
   "execution_count": 64
  },
  {
   "cell_type": "code",
   "outputs": [
    {
     "data": {
      "text/plain": "DatasetDict({\n    train: Dataset({\n        features: ['tokens', 'ner_tags', 'langs', 'ner_tags_str'],\n        num_rows: 12580\n    })\n    validation: Dataset({\n        features: ['tokens', 'ner_tags', 'langs', 'ner_tags_str'],\n        num_rows: 6290\n    })\n    test: Dataset({\n        features: ['tokens', 'ner_tags', 'langs', 'ner_tags_str'],\n        num_rows: 6290\n    })\n})"
     },
     "execution_count": 65,
     "metadata": {},
     "output_type": "execute_result"
    }
   ],
   "source": [
    "panx_de"
   ],
   "metadata": {
    "collapsed": false,
    "ExecuteTime": {
     "end_time": "2023-12-22T11:50:14.881417128Z",
     "start_time": "2023-12-22T11:50:14.837127765Z"
    }
   },
   "id": "e09f7b9041019436",
   "execution_count": 65
  },
  {
   "cell_type": "code",
   "outputs": [
    {
     "data": {
      "text/plain": "          tokens  ner_tags langs ner_tags_str\n0          2.000         0    de            O\n1     Einwohnern         0    de            O\n2             an         0    de            O\n3            der         0    de            O\n4       Danziger         5    de        B-LOC\n5          Bucht         6    de        I-LOC\n6             in         0    de            O\n7            der         0    de            O\n8     polnischen         5    de        B-LOC\n9   Woiwodschaft         5    de        B-LOC\n10       Pommern         6    de        I-LOC\n11             .         0    de            O",
      "text/html": "<div>\n<style scoped>\n    .dataframe tbody tr th:only-of-type {\n        vertical-align: middle;\n    }\n\n    .dataframe tbody tr th {\n        vertical-align: top;\n    }\n\n    .dataframe thead th {\n        text-align: right;\n    }\n</style>\n<table border=\"1\" class=\"dataframe\">\n  <thead>\n    <tr style=\"text-align: right;\">\n      <th></th>\n      <th>tokens</th>\n      <th>ner_tags</th>\n      <th>langs</th>\n      <th>ner_tags_str</th>\n    </tr>\n  </thead>\n  <tbody>\n    <tr>\n      <th>0</th>\n      <td>2.000</td>\n      <td>0</td>\n      <td>de</td>\n      <td>O</td>\n    </tr>\n    <tr>\n      <th>1</th>\n      <td>Einwohnern</td>\n      <td>0</td>\n      <td>de</td>\n      <td>O</td>\n    </tr>\n    <tr>\n      <th>2</th>\n      <td>an</td>\n      <td>0</td>\n      <td>de</td>\n      <td>O</td>\n    </tr>\n    <tr>\n      <th>3</th>\n      <td>der</td>\n      <td>0</td>\n      <td>de</td>\n      <td>O</td>\n    </tr>\n    <tr>\n      <th>4</th>\n      <td>Danziger</td>\n      <td>5</td>\n      <td>de</td>\n      <td>B-LOC</td>\n    </tr>\n    <tr>\n      <th>5</th>\n      <td>Bucht</td>\n      <td>6</td>\n      <td>de</td>\n      <td>I-LOC</td>\n    </tr>\n    <tr>\n      <th>6</th>\n      <td>in</td>\n      <td>0</td>\n      <td>de</td>\n      <td>O</td>\n    </tr>\n    <tr>\n      <th>7</th>\n      <td>der</td>\n      <td>0</td>\n      <td>de</td>\n      <td>O</td>\n    </tr>\n    <tr>\n      <th>8</th>\n      <td>polnischen</td>\n      <td>5</td>\n      <td>de</td>\n      <td>B-LOC</td>\n    </tr>\n    <tr>\n      <th>9</th>\n      <td>Woiwodschaft</td>\n      <td>5</td>\n      <td>de</td>\n      <td>B-LOC</td>\n    </tr>\n    <tr>\n      <th>10</th>\n      <td>Pommern</td>\n      <td>6</td>\n      <td>de</td>\n      <td>I-LOC</td>\n    </tr>\n    <tr>\n      <th>11</th>\n      <td>.</td>\n      <td>0</td>\n      <td>de</td>\n      <td>O</td>\n    </tr>\n  </tbody>\n</table>\n</div>"
     },
     "execution_count": 66,
     "metadata": {},
     "output_type": "execute_result"
    }
   ],
   "source": [
    "de_example = panx_de['train'][0]\n",
    "pd.DataFrame(de_example)"
   ],
   "metadata": {
    "collapsed": false,
    "ExecuteTime": {
     "end_time": "2023-12-22T11:50:14.882546878Z",
     "start_time": "2023-12-22T11:50:14.881193067Z"
    }
   },
   "id": "5894b29af2307914",
   "execution_count": 66
  },
  {
   "cell_type": "code",
   "outputs": [
    {
     "data": {
      "text/plain": "             LOC   ORG   PER\ntrain       6186  5366  5810\nvalidation  3172  2683  2893\ntest        3180  2573  3071",
      "text/html": "<div>\n<style scoped>\n    .dataframe tbody tr th:only-of-type {\n        vertical-align: middle;\n    }\n\n    .dataframe tbody tr th {\n        vertical-align: top;\n    }\n\n    .dataframe thead th {\n        text-align: right;\n    }\n</style>\n<table border=\"1\" class=\"dataframe\">\n  <thead>\n    <tr style=\"text-align: right;\">\n      <th></th>\n      <th>LOC</th>\n      <th>ORG</th>\n      <th>PER</th>\n    </tr>\n  </thead>\n  <tbody>\n    <tr>\n      <th>train</th>\n      <td>6186</td>\n      <td>5366</td>\n      <td>5810</td>\n    </tr>\n    <tr>\n      <th>validation</th>\n      <td>3172</td>\n      <td>2683</td>\n      <td>2893</td>\n    </tr>\n    <tr>\n      <th>test</th>\n      <td>3180</td>\n      <td>2573</td>\n      <td>3071</td>\n    </tr>\n  </tbody>\n</table>\n</div>"
     },
     "execution_count": 73,
     "metadata": {},
     "output_type": "execute_result"
    }
   ],
   "source": [
    "from collections import Counter\n",
    "\n",
    "split2freqs = defaultdict(Counter)\n",
    "\n",
    "for split, dataset in panx_de.items():\n",
    "    for row in dataset['ner_tags_str']:\n",
    "        row = [tag.split('-')[1] for tag in row if tag.startswith('B')]\n",
    "        split2freqs[split] += Counter(row) \n",
    "\n",
    "pd.DataFrame.from_dict(split2freqs, orient='index')        "
   ],
   "metadata": {
    "collapsed": false,
    "ExecuteTime": {
     "end_time": "2023-12-22T11:53:44.947111278Z",
     "start_time": "2023-12-22T11:53:44.859601241Z"
    }
   },
   "id": "93cf47156ad16af8",
   "execution_count": 73
  },
  {
   "cell_type": "code",
   "outputs": [
    {
     "data": {
      "text/plain": "tokenizer_config.json:   0%|          | 0.00/29.0 [00:00<?, ?B/s]",
      "application/vnd.jupyter.widget-view+json": {
       "version_major": 2,
       "version_minor": 0,
       "model_id": "1dff7a8720a347a7b3914dc710cfe388"
      }
     },
     "metadata": {},
     "output_type": "display_data"
    },
    {
     "data": {
      "text/plain": "config.json:   0%|          | 0.00/570 [00:00<?, ?B/s]",
      "application/vnd.jupyter.widget-view+json": {
       "version_major": 2,
       "version_minor": 0,
       "model_id": "bc036337815745afbdb0ce085cd5c973"
      }
     },
     "metadata": {},
     "output_type": "display_data"
    },
    {
     "data": {
      "text/plain": "vocab.txt:   0%|          | 0.00/213k [00:00<?, ?B/s]",
      "application/vnd.jupyter.widget-view+json": {
       "version_major": 2,
       "version_minor": 0,
       "model_id": "aa2b97062d0c40d6b794fe2d78582e3a"
      }
     },
     "metadata": {},
     "output_type": "display_data"
    },
    {
     "data": {
      "text/plain": "tokenizer.json:   0%|          | 0.00/436k [00:00<?, ?B/s]",
      "application/vnd.jupyter.widget-view+json": {
       "version_major": 2,
       "version_minor": 0,
       "model_id": "871c4e1685a54ea9823582e1dbc33ba7"
      }
     },
     "metadata": {},
     "output_type": "display_data"
    },
    {
     "data": {
      "text/plain": "config.json:   0%|          | 0.00/615 [00:00<?, ?B/s]",
      "application/vnd.jupyter.widget-view+json": {
       "version_major": 2,
       "version_minor": 0,
       "model_id": "110deed728454901a28d44b2b7a45ed7"
      }
     },
     "metadata": {},
     "output_type": "display_data"
    },
    {
     "data": {
      "text/plain": "sentencepiece.bpe.model:   0%|          | 0.00/5.07M [00:00<?, ?B/s]",
      "application/vnd.jupyter.widget-view+json": {
       "version_major": 2,
       "version_minor": 0,
       "model_id": "964705855d5c4963865e8f4be2872f65"
      }
     },
     "metadata": {},
     "output_type": "display_data"
    },
    {
     "data": {
      "text/plain": "tokenizer.json:   0%|          | 0.00/9.10M [00:00<?, ?B/s]",
      "application/vnd.jupyter.widget-view+json": {
       "version_major": 2,
       "version_minor": 0,
       "model_id": "de898815c39442e9a9cda3daec12b9a4"
      }
     },
     "metadata": {},
     "output_type": "display_data"
    }
   ],
   "source": [
    "from transformers import AutoTokenizer\n",
    "\n",
    "bert_model_name = 'bert-base-cased'\n",
    "xlmr_model_name = 'xlm-roberta-base'\n",
    "\n",
    "bert_tokenizer = AutoTokenizer.from_pretrained(bert_model_name)\n",
    "xlmr_tokenizer = AutoTokenizer.from_pretrained(xlmr_model_name)"
   ],
   "metadata": {
    "collapsed": false,
    "ExecuteTime": {
     "end_time": "2023-12-22T12:09:15.970864783Z",
     "start_time": "2023-12-22T12:09:09.893098586Z"
    }
   },
   "id": "b05cfdc7959cb6a",
   "execution_count": 74
  },
  {
   "cell_type": "code",
   "outputs": [
    {
     "data": {
      "text/plain": "       0      1      2       3      4    5     6      7      8     9\n0  [CLS]   Jack    Spa  ##rrow  loves  New  York      !  [SEP]  None\n1    <s>  ▁Jack  ▁Spar     row  ▁love    s  ▁New  ▁York      !  </s>",
      "text/html": "<div>\n<style scoped>\n    .dataframe tbody tr th:only-of-type {\n        vertical-align: middle;\n    }\n\n    .dataframe tbody tr th {\n        vertical-align: top;\n    }\n\n    .dataframe thead th {\n        text-align: right;\n    }\n</style>\n<table border=\"1\" class=\"dataframe\">\n  <thead>\n    <tr style=\"text-align: right;\">\n      <th></th>\n      <th>0</th>\n      <th>1</th>\n      <th>2</th>\n      <th>3</th>\n      <th>4</th>\n      <th>5</th>\n      <th>6</th>\n      <th>7</th>\n      <th>8</th>\n      <th>9</th>\n    </tr>\n  </thead>\n  <tbody>\n    <tr>\n      <th>0</th>\n      <td>[CLS]</td>\n      <td>Jack</td>\n      <td>Spa</td>\n      <td>##rrow</td>\n      <td>loves</td>\n      <td>New</td>\n      <td>York</td>\n      <td>!</td>\n      <td>[SEP]</td>\n      <td>None</td>\n    </tr>\n    <tr>\n      <th>1</th>\n      <td>&lt;s&gt;</td>\n      <td>▁Jack</td>\n      <td>▁Spar</td>\n      <td>row</td>\n      <td>▁love</td>\n      <td>s</td>\n      <td>▁New</td>\n      <td>▁York</td>\n      <td>!</td>\n      <td>&lt;/s&gt;</td>\n    </tr>\n  </tbody>\n</table>\n</div>"
     },
     "execution_count": 80,
     "metadata": {},
     "output_type": "execute_result"
    }
   ],
   "source": [
    "text = 'Jack Sparrow loves New York!'\n",
    "\n",
    "bert_tokens = bert_tokenizer(text).tokens()\n",
    "xlmr_tokens = xlmr_tokenizer(text).tokens()\n",
    "\n",
    "pd.DataFrame([bert_tokens, xlmr_tokens])"
   ],
   "metadata": {
    "collapsed": false,
    "ExecuteTime": {
     "end_time": "2023-12-22T12:13:20.859677506Z",
     "start_time": "2023-12-22T12:13:20.852213981Z"
    }
   },
   "id": "dc9c6851ad2928f5",
   "execution_count": 80
  },
  {
   "cell_type": "code",
   "outputs": [
    {
     "data": {
      "text/plain": "('<s>▁Jack▁Sparrow▁loves▁New▁York!</s>',\n '<s> Jack Sparrow loves New York!</s>')"
     },
     "execution_count": 83,
     "metadata": {},
     "output_type": "execute_result"
    }
   ],
   "source": [
    "''.join(xlmr_tokens), ''.join(xlmr_tokens).replace(u'\\u2581', ' ')"
   ],
   "metadata": {
    "collapsed": false,
    "ExecuteTime": {
     "end_time": "2023-12-22T12:24:50.201531287Z",
     "start_time": "2023-12-22T12:24:50.155731718Z"
    }
   },
   "id": "ac2241fbc35813e5",
   "execution_count": 83
  },
  {
   "cell_type": "code",
   "outputs": [],
   "source": [],
   "metadata": {
    "collapsed": false
   },
   "id": "cd966c35b80db3de"
  }
 ],
 "metadata": {
  "kernelspec": {
   "display_name": "Python 3",
   "language": "python",
   "name": "python3"
  },
  "language_info": {
   "codemirror_mode": {
    "name": "ipython",
    "version": 2
   },
   "file_extension": ".py",
   "mimetype": "text/x-python",
   "name": "python",
   "nbconvert_exporter": "python",
   "pygments_lexer": "ipython2",
   "version": "2.7.6"
  }
 },
 "nbformat": 4,
 "nbformat_minor": 5
}
