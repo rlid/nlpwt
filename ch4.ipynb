{
 "cells": [
  {
   "cell_type": "code",
   "execution_count": 1,
   "id": "initial_id",
   "metadata": {
    "collapsed": true,
    "ExecuteTime": {
     "end_time": "2023-12-23T17:01:04.252150230Z",
     "start_time": "2023-12-23T17:01:02.619044333Z"
    }
   },
   "outputs": [
    {
     "data": {
      "text/plain": "['XNLI',\n 'tydiqa',\n 'SQuAD',\n 'PAN-X.af',\n 'PAN-X.ar',\n 'PAN-X.bg',\n 'PAN-X.bn',\n 'PAN-X.de',\n 'PAN-X.el',\n 'PAN-X.en',\n 'PAN-X.es',\n 'PAN-X.et',\n 'PAN-X.eu',\n 'PAN-X.fa',\n 'PAN-X.fi',\n 'PAN-X.fr',\n 'PAN-X.he',\n 'PAN-X.hi',\n 'PAN-X.hu',\n 'PAN-X.id',\n 'PAN-X.it',\n 'PAN-X.ja',\n 'PAN-X.jv',\n 'PAN-X.ka',\n 'PAN-X.kk',\n 'PAN-X.ko',\n 'PAN-X.ml',\n 'PAN-X.mr',\n 'PAN-X.ms',\n 'PAN-X.my',\n 'PAN-X.nl',\n 'PAN-X.pt',\n 'PAN-X.ru',\n 'PAN-X.sw',\n 'PAN-X.ta',\n 'PAN-X.te',\n 'PAN-X.th',\n 'PAN-X.tl',\n 'PAN-X.tr',\n 'PAN-X.ur',\n 'PAN-X.vi',\n 'PAN-X.yo',\n 'PAN-X.zh',\n 'MLQA.ar.ar',\n 'MLQA.ar.de',\n 'MLQA.ar.vi',\n 'MLQA.ar.zh',\n 'MLQA.ar.en',\n 'MLQA.ar.es',\n 'MLQA.ar.hi',\n 'MLQA.de.ar',\n 'MLQA.de.de',\n 'MLQA.de.vi',\n 'MLQA.de.zh',\n 'MLQA.de.en',\n 'MLQA.de.es',\n 'MLQA.de.hi',\n 'MLQA.vi.ar',\n 'MLQA.vi.de',\n 'MLQA.vi.vi',\n 'MLQA.vi.zh',\n 'MLQA.vi.en',\n 'MLQA.vi.es',\n 'MLQA.vi.hi',\n 'MLQA.zh.ar',\n 'MLQA.zh.de',\n 'MLQA.zh.vi',\n 'MLQA.zh.zh',\n 'MLQA.zh.en',\n 'MLQA.zh.es',\n 'MLQA.zh.hi',\n 'MLQA.en.ar',\n 'MLQA.en.de',\n 'MLQA.en.vi',\n 'MLQA.en.zh',\n 'MLQA.en.en',\n 'MLQA.en.es',\n 'MLQA.en.hi',\n 'MLQA.es.ar',\n 'MLQA.es.de',\n 'MLQA.es.vi',\n 'MLQA.es.zh',\n 'MLQA.es.en',\n 'MLQA.es.es',\n 'MLQA.es.hi',\n 'MLQA.hi.ar',\n 'MLQA.hi.de',\n 'MLQA.hi.vi',\n 'MLQA.hi.zh',\n 'MLQA.hi.en',\n 'MLQA.hi.es',\n 'MLQA.hi.hi',\n 'XQuAD.ar',\n 'XQuAD.de',\n 'XQuAD.vi',\n 'XQuAD.zh',\n 'XQuAD.en',\n 'XQuAD.es',\n 'XQuAD.hi',\n 'XQuAD.el',\n 'XQuAD.ru',\n 'XQuAD.th',\n 'XQuAD.tr',\n 'bucc18.de',\n 'bucc18.fr',\n 'bucc18.zh',\n 'bucc18.ru',\n 'PAWS-X.de',\n 'PAWS-X.en',\n 'PAWS-X.es',\n 'PAWS-X.fr',\n 'PAWS-X.ja',\n 'PAWS-X.ko',\n 'PAWS-X.zh',\n 'tatoeba.afr',\n 'tatoeba.ara',\n 'tatoeba.ben',\n 'tatoeba.bul',\n 'tatoeba.deu',\n 'tatoeba.cmn',\n 'tatoeba.ell',\n 'tatoeba.est',\n 'tatoeba.eus',\n 'tatoeba.fin',\n 'tatoeba.fra',\n 'tatoeba.heb',\n 'tatoeba.hin',\n 'tatoeba.hun',\n 'tatoeba.ind',\n 'tatoeba.ita',\n 'tatoeba.jav',\n 'tatoeba.jpn',\n 'tatoeba.kat',\n 'tatoeba.kaz',\n 'tatoeba.kor',\n 'tatoeba.mal',\n 'tatoeba.mar',\n 'tatoeba.nld',\n 'tatoeba.pes',\n 'tatoeba.por',\n 'tatoeba.rus',\n 'tatoeba.spa',\n 'tatoeba.swh',\n 'tatoeba.tam',\n 'tatoeba.tel',\n 'tatoeba.tgl',\n 'tatoeba.tha',\n 'tatoeba.tur',\n 'tatoeba.urd',\n 'tatoeba.vie',\n 'udpos.Afrikaans',\n 'udpos.Arabic',\n 'udpos.Basque',\n 'udpos.Bulgarian',\n 'udpos.Dutch',\n 'udpos.English',\n 'udpos.Estonian',\n 'udpos.Finnish',\n 'udpos.French',\n 'udpos.German',\n 'udpos.Greek',\n 'udpos.Hebrew',\n 'udpos.Hindi',\n 'udpos.Hungarian',\n 'udpos.Indonesian',\n 'udpos.Italian',\n 'udpos.Japanese',\n 'udpos.Kazakh',\n 'udpos.Korean',\n 'udpos.Chinese',\n 'udpos.Marathi',\n 'udpos.Persian',\n 'udpos.Portuguese',\n 'udpos.Russian',\n 'udpos.Spanish',\n 'udpos.Tagalog',\n 'udpos.Tamil',\n 'udpos.Telugu',\n 'udpos.Thai',\n 'udpos.Turkish',\n 'udpos.Urdu',\n 'udpos.Vietnamese',\n 'udpos.Yoruba']"
     },
     "execution_count": 1,
     "metadata": {},
     "output_type": "execute_result"
    }
   ],
   "source": [
    "from datasets import get_dataset_config_names\n",
    "\n",
    "xtreme_subsets = get_dataset_config_names('xtreme')\n",
    "xtreme_subsets"
   ]
  },
  {
   "cell_type": "code",
   "outputs": [
    {
     "data": {
      "text/plain": "['PAN-X.af',\n 'PAN-X.ar',\n 'PAN-X.bg',\n 'PAN-X.bn',\n 'PAN-X.de',\n 'PAN-X.el',\n 'PAN-X.en',\n 'PAN-X.es',\n 'PAN-X.et',\n 'PAN-X.eu',\n 'PAN-X.fa',\n 'PAN-X.fi',\n 'PAN-X.fr',\n 'PAN-X.he',\n 'PAN-X.hi',\n 'PAN-X.hu',\n 'PAN-X.id',\n 'PAN-X.it',\n 'PAN-X.ja',\n 'PAN-X.jv',\n 'PAN-X.ka',\n 'PAN-X.kk',\n 'PAN-X.ko',\n 'PAN-X.ml',\n 'PAN-X.mr',\n 'PAN-X.ms',\n 'PAN-X.my',\n 'PAN-X.nl',\n 'PAN-X.pt',\n 'PAN-X.ru',\n 'PAN-X.sw',\n 'PAN-X.ta',\n 'PAN-X.te',\n 'PAN-X.th',\n 'PAN-X.tl',\n 'PAN-X.tr',\n 'PAN-X.ur',\n 'PAN-X.vi',\n 'PAN-X.yo',\n 'PAN-X.zh']"
     },
     "execution_count": 2,
     "metadata": {},
     "output_type": "execute_result"
    }
   ],
   "source": [
    "panx_subsets = [s for s in xtreme_subsets if s.startswith('PAN')]\n",
    "panx_subsets"
   ],
   "metadata": {
    "collapsed": false,
    "ExecuteTime": {
     "end_time": "2023-12-23T17:01:04.253661945Z",
     "start_time": "2023-12-23T17:01:04.251131340Z"
    }
   },
   "id": "a34b46b1efaee61a",
   "execution_count": 2
  },
  {
   "cell_type": "code",
   "outputs": [
    {
     "data": {
      "text/plain": "DatasetDict({\n    train: Dataset({\n        features: ['tokens', 'ner_tags', 'langs'],\n        num_rows: 20000\n    })\n    validation: Dataset({\n        features: ['tokens', 'ner_tags', 'langs'],\n        num_rows: 10000\n    })\n    test: Dataset({\n        features: ['tokens', 'ner_tags', 'langs'],\n        num_rows: 10000\n    })\n})"
     },
     "execution_count": 3,
     "metadata": {},
     "output_type": "execute_result"
    }
   ],
   "source": [
    "from datasets import load_dataset\n",
    "\n",
    "load_dataset('xtreme', name='PAN-X.de')"
   ],
   "metadata": {
    "collapsed": false,
    "ExecuteTime": {
     "end_time": "2023-12-23T17:01:05.659852510Z",
     "start_time": "2023-12-23T17:01:04.251262241Z"
    }
   },
   "id": "3d7ff500c9f06a84",
   "execution_count": 3
  },
  {
   "cell_type": "code",
   "outputs": [],
   "source": [
    "from collections import defaultdict\n",
    "from datasets import DatasetDict\n",
    "\n",
    "langs = ['de', 'fr', 'it', 'en']\n",
    "fracs = [0.629, 0.229, 0.084, 0.059]\n",
    "\n",
    "panx_ch = defaultdict(DatasetDict)\n",
    "\n",
    "for lang, frac in zip(langs, fracs):\n",
    "    ds = load_dataset('xtreme', name=f'PAN-X.{lang}')\n",
    "    for set_name in ds:\n",
    "        panx_ch[lang][set_name] = ds[set_name].shuffle(seed=0).select(range(int(frac * ds[set_name].num_rows)))"
   ],
   "metadata": {
    "collapsed": false,
    "ExecuteTime": {
     "end_time": "2023-12-23T17:01:11.462337671Z",
     "start_time": "2023-12-23T17:01:05.653639839Z"
    }
   },
   "id": "a1b80105f6f98f25",
   "execution_count": 4
  },
  {
   "cell_type": "code",
   "outputs": [
    {
     "data": {
      "text/plain": "         de        fr        it        en\n0  0.628372  0.228771  0.083916  0.058941",
      "text/html": "<div>\n<style scoped>\n    .dataframe tbody tr th:only-of-type {\n        vertical-align: middle;\n    }\n\n    .dataframe tbody tr th {\n        vertical-align: top;\n    }\n\n    .dataframe thead th {\n        text-align: right;\n    }\n</style>\n<table border=\"1\" class=\"dataframe\">\n  <thead>\n    <tr style=\"text-align: right;\">\n      <th></th>\n      <th>de</th>\n      <th>fr</th>\n      <th>it</th>\n      <th>en</th>\n    </tr>\n  </thead>\n  <tbody>\n    <tr>\n      <th>0</th>\n      <td>0.628372</td>\n      <td>0.228771</td>\n      <td>0.083916</td>\n      <td>0.058941</td>\n    </tr>\n  </tbody>\n</table>\n</div>"
     },
     "execution_count": 5,
     "metadata": {},
     "output_type": "execute_result"
    }
   ],
   "source": [
    "import pandas as pd\n",
    "\n",
    "num_samples = pd.DataFrame({lang: [panx_ch[lang]['train'].num_rows] for lang in langs})\n",
    "num_samples / num_samples.iloc[0].sum()"
   ],
   "metadata": {
    "collapsed": false,
    "ExecuteTime": {
     "end_time": "2023-12-23T17:01:11.468774324Z",
     "start_time": "2023-12-23T17:01:11.464414571Z"
    }
   },
   "id": "e283257bca125710",
   "execution_count": 5
  },
  {
   "cell_type": "code",
   "outputs": [
    {
     "data": {
      "text/plain": "{'tokens': ['2.000',\n  'Einwohnern',\n  'an',\n  'der',\n  'Danziger',\n  'Bucht',\n  'in',\n  'der',\n  'polnischen',\n  'Woiwodschaft',\n  'Pommern',\n  '.'],\n 'ner_tags': [0, 0, 0, 0, 5, 6, 0, 0, 5, 5, 6, 0],\n 'langs': ['de',\n  'de',\n  'de',\n  'de',\n  'de',\n  'de',\n  'de',\n  'de',\n  'de',\n  'de',\n  'de',\n  'de']}"
     },
     "execution_count": 6,
     "metadata": {},
     "output_type": "execute_result"
    }
   ],
   "source": [
    "panx_ch['de']['train'][0]"
   ],
   "metadata": {
    "collapsed": false,
    "ExecuteTime": {
     "end_time": "2023-12-23T17:01:11.479384978Z",
     "start_time": "2023-12-23T17:01:11.469169678Z"
    }
   },
   "id": "9a68976d3751dd03",
   "execution_count": 6
  },
  {
   "cell_type": "code",
   "outputs": [
    {
     "data": {
      "text/plain": "{'tokens': Sequence(feature=Value(dtype='string', id=None), length=-1, id=None),\n 'ner_tags': Sequence(feature=ClassLabel(names=['O', 'B-PER', 'I-PER', 'B-ORG', 'I-ORG', 'B-LOC', 'I-LOC'], id=None), length=-1, id=None),\n 'langs': Sequence(feature=Value(dtype='string', id=None), length=-1, id=None)}"
     },
     "execution_count": 7,
     "metadata": {},
     "output_type": "execute_result"
    }
   ],
   "source": [
    "panx_ch['de']['train'].features"
   ],
   "metadata": {
    "collapsed": false,
    "ExecuteTime": {
     "end_time": "2023-12-23T17:01:11.498392155Z",
     "start_time": "2023-12-23T17:01:11.479569570Z"
    }
   },
   "id": "f5e8521415bb9ffe",
   "execution_count": 7
  },
  {
   "cell_type": "code",
   "outputs": [
    {
     "data": {
      "text/plain": "'B-LOC'"
     },
     "execution_count": 8,
     "metadata": {},
     "output_type": "execute_result"
    }
   ],
   "source": [
    "tags = panx_ch['de']['train'].features['ner_tags'].feature\n",
    "tags\n",
    "tags.int2str(5)"
   ],
   "metadata": {
    "collapsed": false,
    "ExecuteTime": {
     "end_time": "2023-12-23T17:01:11.555460306Z",
     "start_time": "2023-12-23T17:01:11.485246006Z"
    }
   },
   "id": "211ab048736289d3",
   "execution_count": 8
  },
  {
   "cell_type": "code",
   "outputs": [],
   "source": [
    "panx_de = panx_ch['de'].map(lambda batch: {'ner_tags_str': [tags.int2str(i) for i in batch['ner_tags']]})"
   ],
   "metadata": {
    "collapsed": false,
    "ExecuteTime": {
     "end_time": "2023-12-23T17:01:11.556216794Z",
     "start_time": "2023-12-23T17:01:11.527164098Z"
    }
   },
   "id": "6f269f1654bf9ee5",
   "execution_count": 9
  },
  {
   "cell_type": "code",
   "outputs": [
    {
     "data": {
      "text/plain": "DatasetDict({\n    train: Dataset({\n        features: ['tokens', 'ner_tags', 'langs', 'ner_tags_str'],\n        num_rows: 12580\n    })\n    validation: Dataset({\n        features: ['tokens', 'ner_tags', 'langs', 'ner_tags_str'],\n        num_rows: 6290\n    })\n    test: Dataset({\n        features: ['tokens', 'ner_tags', 'langs', 'ner_tags_str'],\n        num_rows: 6290\n    })\n})"
     },
     "execution_count": 10,
     "metadata": {},
     "output_type": "execute_result"
    }
   ],
   "source": [
    "panx_de"
   ],
   "metadata": {
    "collapsed": false,
    "ExecuteTime": {
     "end_time": "2023-12-23T17:01:11.556976691Z",
     "start_time": "2023-12-23T17:01:11.527270899Z"
    }
   },
   "id": "e09f7b9041019436",
   "execution_count": 10
  },
  {
   "cell_type": "code",
   "outputs": [
    {
     "data": {
      "text/plain": "          tokens  ner_tags langs ner_tags_str\n0          2.000         0    de            O\n1     Einwohnern         0    de            O\n2             an         0    de            O\n3            der         0    de            O\n4       Danziger         5    de        B-LOC\n5          Bucht         6    de        I-LOC\n6             in         0    de            O\n7            der         0    de            O\n8     polnischen         5    de        B-LOC\n9   Woiwodschaft         5    de        B-LOC\n10       Pommern         6    de        I-LOC\n11             .         0    de            O",
      "text/html": "<div>\n<style scoped>\n    .dataframe tbody tr th:only-of-type {\n        vertical-align: middle;\n    }\n\n    .dataframe tbody tr th {\n        vertical-align: top;\n    }\n\n    .dataframe thead th {\n        text-align: right;\n    }\n</style>\n<table border=\"1\" class=\"dataframe\">\n  <thead>\n    <tr style=\"text-align: right;\">\n      <th></th>\n      <th>tokens</th>\n      <th>ner_tags</th>\n      <th>langs</th>\n      <th>ner_tags_str</th>\n    </tr>\n  </thead>\n  <tbody>\n    <tr>\n      <th>0</th>\n      <td>2.000</td>\n      <td>0</td>\n      <td>de</td>\n      <td>O</td>\n    </tr>\n    <tr>\n      <th>1</th>\n      <td>Einwohnern</td>\n      <td>0</td>\n      <td>de</td>\n      <td>O</td>\n    </tr>\n    <tr>\n      <th>2</th>\n      <td>an</td>\n      <td>0</td>\n      <td>de</td>\n      <td>O</td>\n    </tr>\n    <tr>\n      <th>3</th>\n      <td>der</td>\n      <td>0</td>\n      <td>de</td>\n      <td>O</td>\n    </tr>\n    <tr>\n      <th>4</th>\n      <td>Danziger</td>\n      <td>5</td>\n      <td>de</td>\n      <td>B-LOC</td>\n    </tr>\n    <tr>\n      <th>5</th>\n      <td>Bucht</td>\n      <td>6</td>\n      <td>de</td>\n      <td>I-LOC</td>\n    </tr>\n    <tr>\n      <th>6</th>\n      <td>in</td>\n      <td>0</td>\n      <td>de</td>\n      <td>O</td>\n    </tr>\n    <tr>\n      <th>7</th>\n      <td>der</td>\n      <td>0</td>\n      <td>de</td>\n      <td>O</td>\n    </tr>\n    <tr>\n      <th>8</th>\n      <td>polnischen</td>\n      <td>5</td>\n      <td>de</td>\n      <td>B-LOC</td>\n    </tr>\n    <tr>\n      <th>9</th>\n      <td>Woiwodschaft</td>\n      <td>5</td>\n      <td>de</td>\n      <td>B-LOC</td>\n    </tr>\n    <tr>\n      <th>10</th>\n      <td>Pommern</td>\n      <td>6</td>\n      <td>de</td>\n      <td>I-LOC</td>\n    </tr>\n    <tr>\n      <th>11</th>\n      <td>.</td>\n      <td>0</td>\n      <td>de</td>\n      <td>O</td>\n    </tr>\n  </tbody>\n</table>\n</div>"
     },
     "execution_count": 11,
     "metadata": {},
     "output_type": "execute_result"
    }
   ],
   "source": [
    "de_example = panx_de['train'][0]\n",
    "pd.DataFrame(de_example)"
   ],
   "metadata": {
    "collapsed": false,
    "ExecuteTime": {
     "end_time": "2023-12-23T17:01:11.557864520Z",
     "start_time": "2023-12-23T17:01:11.527336490Z"
    }
   },
   "id": "5894b29af2307914",
   "execution_count": 11
  },
  {
   "cell_type": "code",
   "outputs": [
    {
     "data": {
      "text/plain": "             LOC   ORG   PER\ntrain       6186  5366  5810\nvalidation  3172  2683  2893\ntest        3180  2573  3071",
      "text/html": "<div>\n<style scoped>\n    .dataframe tbody tr th:only-of-type {\n        vertical-align: middle;\n    }\n\n    .dataframe tbody tr th {\n        vertical-align: top;\n    }\n\n    .dataframe thead th {\n        text-align: right;\n    }\n</style>\n<table border=\"1\" class=\"dataframe\">\n  <thead>\n    <tr style=\"text-align: right;\">\n      <th></th>\n      <th>LOC</th>\n      <th>ORG</th>\n      <th>PER</th>\n    </tr>\n  </thead>\n  <tbody>\n    <tr>\n      <th>train</th>\n      <td>6186</td>\n      <td>5366</td>\n      <td>5810</td>\n    </tr>\n    <tr>\n      <th>validation</th>\n      <td>3172</td>\n      <td>2683</td>\n      <td>2893</td>\n    </tr>\n    <tr>\n      <th>test</th>\n      <td>3180</td>\n      <td>2573</td>\n      <td>3071</td>\n    </tr>\n  </tbody>\n</table>\n</div>"
     },
     "execution_count": 12,
     "metadata": {},
     "output_type": "execute_result"
    }
   ],
   "source": [
    "from collections import Counter\n",
    "\n",
    "split2freqs = defaultdict(Counter)\n",
    "\n",
    "for split, dataset in panx_de.items():\n",
    "    for row in dataset['ner_tags_str']:\n",
    "        row = [tag.split('-')[1] for tag in row if tag.startswith('B')]\n",
    "        split2freqs[split] += Counter(row)\n",
    "\n",
    "pd.DataFrame.from_dict(split2freqs, orient='index')"
   ],
   "metadata": {
    "collapsed": false,
    "ExecuteTime": {
     "end_time": "2023-12-23T17:01:11.709656762Z",
     "start_time": "2023-12-23T17:01:11.527405371Z"
    }
   },
   "id": "93cf47156ad16af8",
   "execution_count": 12
  },
  {
   "cell_type": "code",
   "outputs": [
    {
     "data": {
      "text/plain": "{'input_ids': [0, 21763, 37456, 15555, 5161, 7, 2356, 5753, 38, 2], 'attention_mask': [1, 1, 1, 1, 1, 1, 1, 1, 1, 1]}"
     },
     "execution_count": 13,
     "metadata": {},
     "output_type": "execute_result"
    }
   ],
   "source": [
    "from transformers import AutoTokenizer\n",
    "\n",
    "bert_model_name = 'bert-base-cased'\n",
    "xlmr_model_name = 'xlm-roberta-base'\n",
    "\n",
    "bert_tokenizer = AutoTokenizer.from_pretrained(bert_model_name)\n",
    "xlmr_tokenizer = AutoTokenizer.from_pretrained(xlmr_model_name)\n",
    "\n",
    "text = 'Jack Sparrow loves New York!'\n",
    "xlmr_tokenizer(text)"
   ],
   "metadata": {
    "collapsed": false,
    "ExecuteTime": {
     "end_time": "2023-12-23T17:01:13.875508388Z",
     "start_time": "2023-12-23T17:01:11.709426860Z"
    }
   },
   "id": "b05cfdc7959cb6a",
   "execution_count": 13
  },
  {
   "cell_type": "code",
   "outputs": [
    {
     "data": {
      "text/plain": "       0      1      2       3      4    5     6      7      8     9\n0  [CLS]   Jack    Spa  ##rrow  loves  New  York      !  [SEP]  None\n1    <s>  ▁Jack  ▁Spar     row  ▁love    s  ▁New  ▁York      !  </s>",
      "text/html": "<div>\n<style scoped>\n    .dataframe tbody tr th:only-of-type {\n        vertical-align: middle;\n    }\n\n    .dataframe tbody tr th {\n        vertical-align: top;\n    }\n\n    .dataframe thead th {\n        text-align: right;\n    }\n</style>\n<table border=\"1\" class=\"dataframe\">\n  <thead>\n    <tr style=\"text-align: right;\">\n      <th></th>\n      <th>0</th>\n      <th>1</th>\n      <th>2</th>\n      <th>3</th>\n      <th>4</th>\n      <th>5</th>\n      <th>6</th>\n      <th>7</th>\n      <th>8</th>\n      <th>9</th>\n    </tr>\n  </thead>\n  <tbody>\n    <tr>\n      <th>0</th>\n      <td>[CLS]</td>\n      <td>Jack</td>\n      <td>Spa</td>\n      <td>##rrow</td>\n      <td>loves</td>\n      <td>New</td>\n      <td>York</td>\n      <td>!</td>\n      <td>[SEP]</td>\n      <td>None</td>\n    </tr>\n    <tr>\n      <th>1</th>\n      <td>&lt;s&gt;</td>\n      <td>▁Jack</td>\n      <td>▁Spar</td>\n      <td>row</td>\n      <td>▁love</td>\n      <td>s</td>\n      <td>▁New</td>\n      <td>▁York</td>\n      <td>!</td>\n      <td>&lt;/s&gt;</td>\n    </tr>\n  </tbody>\n</table>\n</div>"
     },
     "execution_count": 14,
     "metadata": {},
     "output_type": "execute_result"
    }
   ],
   "source": [
    "bert_tokens = bert_tokenizer(text).tokens()\n",
    "xlmr_tokens = xlmr_tokenizer(text).tokens()\n",
    "\n",
    "pd.DataFrame([bert_tokens, xlmr_tokens])"
   ],
   "metadata": {
    "collapsed": false,
    "ExecuteTime": {
     "end_time": "2023-12-23T17:01:13.880559627Z",
     "start_time": "2023-12-23T17:01:13.876118293Z"
    }
   },
   "id": "dc9c6851ad2928f5",
   "execution_count": 14
  },
  {
   "cell_type": "code",
   "outputs": [
    {
     "data": {
      "text/plain": "('<s>▁Jack▁Sparrow▁loves▁New▁York!</s>',\n '<s> Jack Sparrow loves New York!</s>')"
     },
     "execution_count": 15,
     "metadata": {},
     "output_type": "execute_result"
    }
   ],
   "source": [
    "''.join(xlmr_tokens), ''.join(xlmr_tokens).replace(u'\\u2581', ' ')"
   ],
   "metadata": {
    "collapsed": false,
    "ExecuteTime": {
     "end_time": "2023-12-23T17:01:13.886163532Z",
     "start_time": "2023-12-23T17:01:13.881263454Z"
    }
   },
   "id": "ac2241fbc35813e5",
   "execution_count": 15
  },
  {
   "cell_type": "code",
   "outputs": [],
   "source": [
    "import torch.nn as nn\n",
    "from transformers import XLMRobertaConfig\n",
    "from transformers.modeling_outputs import TokenClassifierOutput\n",
    "from transformers.models.roberta.modeling_roberta import RobertaModel\n",
    "from transformers.models.roberta.modeling_roberta import RobertaPreTrainedModel\n",
    "\n",
    "\n",
    "class XLMRForTC(RobertaPreTrainedModel):\n",
    "    config_class = XLMRobertaConfig\n",
    "\n",
    "    def __init__(self, config):\n",
    "        super().__init__(config)\n",
    "        self.num_labels = config.num_labels\n",
    "\n",
    "        self.roberta = RobertaModel(config, add_pooling_layer=False)\n",
    "        self.dropout = nn.Dropout(config.hidden_dropout_prob)\n",
    "        self.classifier = nn.Linear(config.hidden_size, config.num_labels)\n",
    "        self.init_weights()\n",
    "\n",
    "    def forward(self, input_ids=None, attention_mask=None, token_type_ids=None, labels=None, **kwargs):\n",
    "        outputs = self.roberta(\n",
    "            input_ids,\n",
    "            attention_mask=attention_mask,\n",
    "            token_type_ids=token_type_ids,\n",
    "            **kwargs)\n",
    "        # print(outputs)\n",
    "        # print(outputs[0])\n",
    "        seq_output = self.dropout(outputs[0])\n",
    "        logits = self.classifier(seq_output)\n",
    "        # print(logits.shape)\n",
    "\n",
    "        loss = None\n",
    "        if labels is not None:\n",
    "            loss_fn = nn.CrossEntropyLoss()\n",
    "            # print(labels.shape)\n",
    "            # print(logits.dtype, labels.dtype)\n",
    "            loss = loss_fn(logits.view(-1, self.num_labels), labels.view(-1))\n",
    "\n",
    "        return TokenClassifierOutput(\n",
    "            loss=loss,\n",
    "            logits=logits,\n",
    "            hidden_states=outputs.hidden_states,\n",
    "            attentions=outputs.attentions)\n"
   ],
   "metadata": {
    "collapsed": false,
    "ExecuteTime": {
     "end_time": "2023-12-23T17:01:14.193295822Z",
     "start_time": "2023-12-23T17:01:13.887715857Z"
    }
   },
   "id": "cd966c35b80db3de",
   "execution_count": 16
  },
  {
   "cell_type": "code",
   "outputs": [
    {
     "data": {
      "text/plain": "['O', 'B-PER', 'I-PER', 'B-ORG', 'I-ORG', 'B-LOC', 'I-LOC']"
     },
     "execution_count": 17,
     "metadata": {},
     "output_type": "execute_result"
    }
   ],
   "source": [
    "tags.names"
   ],
   "metadata": {
    "collapsed": false,
    "ExecuteTime": {
     "end_time": "2023-12-23T17:01:14.197207430Z",
     "start_time": "2023-12-23T17:01:14.194368062Z"
    }
   },
   "id": "ae35c0a9fd2e54c3",
   "execution_count": 17
  },
  {
   "cell_type": "code",
   "outputs": [],
   "source": [
    "index2tag = {i: t for i, t in enumerate(tags.names)}\n",
    "tag2index = {t: i for i, t in enumerate(tags.names)}"
   ],
   "metadata": {
    "collapsed": false,
    "ExecuteTime": {
     "end_time": "2023-12-23T17:01:14.246536355Z",
     "start_time": "2023-12-23T17:01:14.197696215Z"
    }
   },
   "id": "67b97f836b3eb275",
   "execution_count": 18
  },
  {
   "cell_type": "code",
   "outputs": [],
   "source": [
    "from transformers import AutoConfig\n",
    "\n",
    "xlmr_config = AutoConfig.from_pretrained(xlmr_model_name,\n",
    "                                         num_labels=tags.num_classes,\n",
    "                                         id2label=index2tag,\n",
    "                                         label2id=tag2index)"
   ],
   "metadata": {
    "collapsed": false,
    "ExecuteTime": {
     "end_time": "2023-12-23T17:01:14.313596025Z",
     "start_time": "2023-12-23T17:01:14.239124232Z"
    }
   },
   "id": "f1bae1fea667fd73",
   "execution_count": 19
  },
  {
   "cell_type": "code",
   "outputs": [
    {
     "name": "stderr",
     "output_type": "stream",
     "text": [
      "Some weights of XLMRForTC were not initialized from the model checkpoint at xlm-roberta-base and are newly initialized: ['classifier.weight', 'classifier.bias']\n",
      "You should probably TRAIN this model on a down-stream task to be able to use it for predictions and inference.\n"
     ]
    }
   ],
   "source": [
    "import torch\n",
    "\n",
    "device = torch.device('cuda' if torch.cuda.is_available() else 'cpu')\n",
    "xlmr_model = XLMRForTC.from_pretrained(xlmr_model_name, config=xlmr_config).to(device)"
   ],
   "metadata": {
    "collapsed": false,
    "ExecuteTime": {
     "end_time": "2023-12-23T17:01:14.723234332Z",
     "start_time": "2023-12-23T17:01:14.362626746Z"
    }
   },
   "id": "4eb1986d3260ce5c",
   "execution_count": 20
  },
  {
   "cell_type": "code",
   "outputs": [
    {
     "data": {
      "text/plain": "{'input_ids': [0, 21763, 37456, 15555, 5161, 7, 2356, 5753, 38, 2], 'attention_mask': [1, 1, 1, 1, 1, 1, 1, 1, 1, 1]}"
     },
     "execution_count": 21,
     "metadata": {},
     "output_type": "execute_result"
    }
   ],
   "source": [
    "input_ids = xlmr_tokenizer(text)\n",
    "input_ids"
   ],
   "metadata": {
    "collapsed": false,
    "ExecuteTime": {
     "end_time": "2023-12-23T17:01:14.727179411Z",
     "start_time": "2023-12-23T17:01:14.724542525Z"
    }
   },
   "id": "e34f047e30f643f",
   "execution_count": 21
  },
  {
   "cell_type": "code",
   "outputs": [
    {
     "data": {
      "text/plain": "     0      1      2      3      4  5     6      7   8     9\n0  <s>  ▁Jack  ▁Spar    row  ▁love  s  ▁New  ▁York   !  </s>\n1    0  21763  37456  15555   5161  7  2356   5753  38     2",
      "text/html": "<div>\n<style scoped>\n    .dataframe tbody tr th:only-of-type {\n        vertical-align: middle;\n    }\n\n    .dataframe tbody tr th {\n        vertical-align: top;\n    }\n\n    .dataframe thead th {\n        text-align: right;\n    }\n</style>\n<table border=\"1\" class=\"dataframe\">\n  <thead>\n    <tr style=\"text-align: right;\">\n      <th></th>\n      <th>0</th>\n      <th>1</th>\n      <th>2</th>\n      <th>3</th>\n      <th>4</th>\n      <th>5</th>\n      <th>6</th>\n      <th>7</th>\n      <th>8</th>\n      <th>9</th>\n    </tr>\n  </thead>\n  <tbody>\n    <tr>\n      <th>0</th>\n      <td>&lt;s&gt;</td>\n      <td>▁Jack</td>\n      <td>▁Spar</td>\n      <td>row</td>\n      <td>▁love</td>\n      <td>s</td>\n      <td>▁New</td>\n      <td>▁York</td>\n      <td>!</td>\n      <td>&lt;/s&gt;</td>\n    </tr>\n    <tr>\n      <th>1</th>\n      <td>0</td>\n      <td>21763</td>\n      <td>37456</td>\n      <td>15555</td>\n      <td>5161</td>\n      <td>7</td>\n      <td>2356</td>\n      <td>5753</td>\n      <td>38</td>\n      <td>2</td>\n    </tr>\n  </tbody>\n</table>\n</div>"
     },
     "execution_count": 22,
     "metadata": {},
     "output_type": "execute_result"
    }
   ],
   "source": [
    "input_ids = xlmr_tokenizer.encode(text, return_tensors=\"pt\")\n",
    "pd.DataFrame([xlmr_tokens, input_ids.numpy()[0]])"
   ],
   "metadata": {
    "collapsed": false,
    "ExecuteTime": {
     "end_time": "2023-12-23T17:01:14.774931260Z",
     "start_time": "2023-12-23T17:01:14.728854537Z"
    }
   },
   "id": "1414af9b62e1738a",
   "execution_count": 22
  },
  {
   "cell_type": "code",
   "outputs": [
    {
     "data": {
      "text/plain": "       0      1      2      3      4      5      6      7      8      9\n0    <s>  ▁Jack  ▁Spar    row  ▁love      s   ▁New  ▁York      !   </s>\n1  B-PER  B-PER  B-PER  B-ORG  B-PER  B-PER  B-PER  B-PER  B-ORG  B-PER",
      "text/html": "<div>\n<style scoped>\n    .dataframe tbody tr th:only-of-type {\n        vertical-align: middle;\n    }\n\n    .dataframe tbody tr th {\n        vertical-align: top;\n    }\n\n    .dataframe thead th {\n        text-align: right;\n    }\n</style>\n<table border=\"1\" class=\"dataframe\">\n  <thead>\n    <tr style=\"text-align: right;\">\n      <th></th>\n      <th>0</th>\n      <th>1</th>\n      <th>2</th>\n      <th>3</th>\n      <th>4</th>\n      <th>5</th>\n      <th>6</th>\n      <th>7</th>\n      <th>8</th>\n      <th>9</th>\n    </tr>\n  </thead>\n  <tbody>\n    <tr>\n      <th>0</th>\n      <td>&lt;s&gt;</td>\n      <td>▁Jack</td>\n      <td>▁Spar</td>\n      <td>row</td>\n      <td>▁love</td>\n      <td>s</td>\n      <td>▁New</td>\n      <td>▁York</td>\n      <td>!</td>\n      <td>&lt;/s&gt;</td>\n    </tr>\n    <tr>\n      <th>1</th>\n      <td>B-PER</td>\n      <td>B-PER</td>\n      <td>B-PER</td>\n      <td>B-ORG</td>\n      <td>B-PER</td>\n      <td>B-PER</td>\n      <td>B-PER</td>\n      <td>B-PER</td>\n      <td>B-ORG</td>\n      <td>B-PER</td>\n    </tr>\n  </tbody>\n</table>\n</div>"
     },
     "execution_count": 23,
     "metadata": {},
     "output_type": "execute_result"
    }
   ],
   "source": [
    "outputs = xlmr_model(input_ids.to(device), labels=torch.ones(1, 10, dtype=torch.long).to(device))\n",
    "predictions = torch.argmax(outputs.logits, dim=-1)\n",
    "preds = [index2tag[i] for i in predictions.to('cpu').numpy()[0]]\n",
    "pd.DataFrame([xlmr_tokens, preds])"
   ],
   "metadata": {
    "collapsed": false,
    "ExecuteTime": {
     "end_time": "2023-12-23T17:01:15.000003923Z",
     "start_time": "2023-12-23T17:01:14.771155203Z"
    }
   },
   "id": "b75d23ca42734449",
   "execution_count": 23
  },
  {
   "cell_type": "code",
   "outputs": [
    {
     "data": {
      "text/plain": "       0      1      2      3      4      5      6      7      8      9\n0    <s>  ▁Jack  ▁Spar    row  ▁love      s   ▁New  ▁York      !   </s>\n1  B-PER  B-PER  B-PER  B-ORG  B-PER  B-PER  B-PER  B-PER  B-ORG  B-PER",
      "text/html": "<div>\n<style scoped>\n    .dataframe tbody tr th:only-of-type {\n        vertical-align: middle;\n    }\n\n    .dataframe tbody tr th {\n        vertical-align: top;\n    }\n\n    .dataframe thead th {\n        text-align: right;\n    }\n</style>\n<table border=\"1\" class=\"dataframe\">\n  <thead>\n    <tr style=\"text-align: right;\">\n      <th></th>\n      <th>0</th>\n      <th>1</th>\n      <th>2</th>\n      <th>3</th>\n      <th>4</th>\n      <th>5</th>\n      <th>6</th>\n      <th>7</th>\n      <th>8</th>\n      <th>9</th>\n    </tr>\n  </thead>\n  <tbody>\n    <tr>\n      <th>0</th>\n      <td>&lt;s&gt;</td>\n      <td>▁Jack</td>\n      <td>▁Spar</td>\n      <td>row</td>\n      <td>▁love</td>\n      <td>s</td>\n      <td>▁New</td>\n      <td>▁York</td>\n      <td>!</td>\n      <td>&lt;/s&gt;</td>\n    </tr>\n    <tr>\n      <th>1</th>\n      <td>B-PER</td>\n      <td>B-PER</td>\n      <td>B-PER</td>\n      <td>B-ORG</td>\n      <td>B-PER</td>\n      <td>B-PER</td>\n      <td>B-PER</td>\n      <td>B-PER</td>\n      <td>B-ORG</td>\n      <td>B-PER</td>\n    </tr>\n  </tbody>\n</table>\n</div>"
     },
     "execution_count": 24,
     "metadata": {},
     "output_type": "execute_result"
    }
   ],
   "source": [
    "def tag_text(text, tags, model, tokenizer):\n",
    "    tokens = tokenizer(text).tokens()\n",
    "    input_ids = tokenizer(text, return_tensors=\"pt\").input_ids.to(device)\n",
    "    outputs = model(input_ids)\n",
    "    predictions = torch.argmax(outputs.logits, dim=-1)\n",
    "    preds = [tags.names[i] for i in predictions.to('cpu').numpy()[0]]\n",
    "    return pd.DataFrame([tokens, preds])\n",
    "\n",
    "\n",
    "tag_text(text, tags, xlmr_model, xlmr_tokenizer)"
   ],
   "metadata": {
    "collapsed": false,
    "ExecuteTime": {
     "end_time": "2023-12-23T17:01:15.089315251Z",
     "start_time": "2023-12-23T17:01:15.001307696Z"
    }
   },
   "id": "ade1d53a02eeaeaa",
   "execution_count": 24
  },
  {
   "cell_type": "code",
   "outputs": [
    {
     "data": {
      "text/plain": "Map:   0%|          | 0/6290 [00:00<?, ? examples/s]",
      "application/vnd.jupyter.widget-view+json": {
       "version_major": 2,
       "version_minor": 0,
       "model_id": "3c6997d6be614798864e327729b4d418"
      }
     },
     "metadata": {},
     "output_type": "display_data"
    }
   ],
   "source": [
    "import random\n",
    "\n",
    "\n",
    "def xlmr_tags(raw_tags, word_ids):\n",
    "    tags = []\n",
    "    word_id_prev = None\n",
    "    for word_id in word_ids:\n",
    "        if word_id is None or word_id == word_id_prev:\n",
    "            tags.append(-100)\n",
    "        else:\n",
    "            tags.append(raw_tags[word_id])\n",
    "        word_id_prev = word_id\n",
    "    return tags\n",
    "\n",
    "\n",
    "def tokenize_xlmr(batch):\n",
    "    xlmr_tokens = xlmr_tokenizer(batch['tokens'], truncation=True, is_split_into_words=True)\n",
    "\n",
    "    labels = []\n",
    "    for i, raw_tags in enumerate(batch['ner_tags']):\n",
    "        labels.append(xlmr_tags(raw_tags, xlmr_tokens.word_ids(i)))\n",
    "    xlmr_tokens['labels'] = labels\n",
    "\n",
    "    return xlmr_tokens\n",
    "\n",
    "\n",
    "panx_de_encoded = panx_ch['de'].map(tokenize_xlmr, batched=True, remove_columns=['langs', 'ner_tags', 'tokens'])\n",
    "\n",
    "random_i = random.randint(0, panx_de_encoded['train'].shape[0])\n",
    "x1 = panx_de_encoded['train']['input_ids'][random_i]\n",
    "y1 = panx_de_encoded['train']['labels'][random_i]"
   ],
   "metadata": {
    "collapsed": false,
    "ExecuteTime": {
     "end_time": "2023-12-23T17:01:15.356589169Z",
     "start_time": "2023-12-23T17:01:15.043185988Z"
    }
   },
   "id": "9ff3446eb3ceee5d",
   "execution_count": 25
  },
  {
   "cell_type": "code",
   "outputs": [
    {
     "data": {
      "text/plain": "    0     1       2     3       4    5     6     7     8      9   ...   12  \\\n0    0  1004  189720  4882  101936   13  2957  1004  5556  52110  ...  737   \n1    0  1004  189720  4882  101936   13  2957  1004  5556  52110  ...  737   \n2 -100     0       0     0       0 -100     0     0  -100   -100  ...    0   \n3 -100     0       0     0       0 -100     0     0  -100   -100  ...    0   \n\n     13  14      15     16      17   18  19   20   21  \n0  6482  68  231601  19188  138438   13   6    5    2  \n1  6482  68  231601  19188  138438   13   6    5    2  \n2     0   0       3      4       0 -100   0 -100 -100  \n3     0   0       3      4       0 -100   0 -100 -100  \n\n[4 rows x 22 columns]",
      "text/html": "<div>\n<style scoped>\n    .dataframe tbody tr th:only-of-type {\n        vertical-align: middle;\n    }\n\n    .dataframe tbody tr th {\n        vertical-align: top;\n    }\n\n    .dataframe thead th {\n        text-align: right;\n    }\n</style>\n<table border=\"1\" class=\"dataframe\">\n  <thead>\n    <tr style=\"text-align: right;\">\n      <th></th>\n      <th>0</th>\n      <th>1</th>\n      <th>2</th>\n      <th>3</th>\n      <th>4</th>\n      <th>5</th>\n      <th>6</th>\n      <th>7</th>\n      <th>8</th>\n      <th>9</th>\n      <th>...</th>\n      <th>12</th>\n      <th>13</th>\n      <th>14</th>\n      <th>15</th>\n      <th>16</th>\n      <th>17</th>\n      <th>18</th>\n      <th>19</th>\n      <th>20</th>\n      <th>21</th>\n    </tr>\n  </thead>\n  <tbody>\n    <tr>\n      <th>0</th>\n      <td>0</td>\n      <td>1004</td>\n      <td>189720</td>\n      <td>4882</td>\n      <td>101936</td>\n      <td>13</td>\n      <td>2957</td>\n      <td>1004</td>\n      <td>5556</td>\n      <td>52110</td>\n      <td>...</td>\n      <td>737</td>\n      <td>6482</td>\n      <td>68</td>\n      <td>231601</td>\n      <td>19188</td>\n      <td>138438</td>\n      <td>13</td>\n      <td>6</td>\n      <td>5</td>\n      <td>2</td>\n    </tr>\n    <tr>\n      <th>1</th>\n      <td>0</td>\n      <td>1004</td>\n      <td>189720</td>\n      <td>4882</td>\n      <td>101936</td>\n      <td>13</td>\n      <td>2957</td>\n      <td>1004</td>\n      <td>5556</td>\n      <td>52110</td>\n      <td>...</td>\n      <td>737</td>\n      <td>6482</td>\n      <td>68</td>\n      <td>231601</td>\n      <td>19188</td>\n      <td>138438</td>\n      <td>13</td>\n      <td>6</td>\n      <td>5</td>\n      <td>2</td>\n    </tr>\n    <tr>\n      <th>2</th>\n      <td>-100</td>\n      <td>0</td>\n      <td>0</td>\n      <td>0</td>\n      <td>0</td>\n      <td>-100</td>\n      <td>0</td>\n      <td>0</td>\n      <td>-100</td>\n      <td>-100</td>\n      <td>...</td>\n      <td>0</td>\n      <td>0</td>\n      <td>0</td>\n      <td>3</td>\n      <td>4</td>\n      <td>0</td>\n      <td>-100</td>\n      <td>0</td>\n      <td>-100</td>\n      <td>-100</td>\n    </tr>\n    <tr>\n      <th>3</th>\n      <td>-100</td>\n      <td>0</td>\n      <td>0</td>\n      <td>0</td>\n      <td>0</td>\n      <td>-100</td>\n      <td>0</td>\n      <td>0</td>\n      <td>-100</td>\n      <td>-100</td>\n      <td>...</td>\n      <td>0</td>\n      <td>0</td>\n      <td>0</td>\n      <td>3</td>\n      <td>4</td>\n      <td>0</td>\n      <td>-100</td>\n      <td>0</td>\n      <td>-100</td>\n      <td>-100</td>\n    </tr>\n  </tbody>\n</table>\n<p>4 rows × 22 columns</p>\n</div>"
     },
     "execution_count": 26,
     "metadata": {},
     "output_type": "execute_result"
    }
   ],
   "source": [
    "def tokenize_and_align_labels(examples):\n",
    "    tokenized_inputs = xlmr_tokenizer(examples[\"tokens\"], truncation=True,\n",
    "                                      is_split_into_words=True)\n",
    "    labels = []\n",
    "    for idx, label in enumerate(examples[\"ner_tags\"]):\n",
    "        word_ids = tokenized_inputs.word_ids(batch_index=idx)\n",
    "        previous_word_idx = None\n",
    "        label_ids = []\n",
    "        for word_idx in word_ids:\n",
    "            if word_idx is None or word_idx == previous_word_idx:\n",
    "                label_ids.append(-100)\n",
    "            else:\n",
    "                label_ids.append(label[word_idx])\n",
    "            previous_word_idx = word_idx\n",
    "        labels.append(label_ids)\n",
    "    tokenized_inputs[\"labels\"] = labels\n",
    "    return tokenized_inputs\n",
    "\n",
    "\n",
    "def encode_panx_dataset(corpus):\n",
    "    return corpus.map(tokenize_and_align_labels, batched=True,\n",
    "                      remove_columns=['langs', 'ner_tags', 'tokens'])\n",
    "\n",
    "\n",
    "# hide_output\n",
    "panx_de_encoded = encode_panx_dataset(panx_ch[\"de\"])\n",
    "\n",
    "x2 = panx_de_encoded['train']['input_ids'][random_i]\n",
    "y2 = panx_de_encoded['train']['labels'][random_i]\n",
    "\n",
    "pd.DataFrame([x1, x2, y1, y2])"
   ],
   "metadata": {
    "collapsed": false,
    "ExecuteTime": {
     "end_time": "2023-12-23T17:01:15.596242076Z",
     "start_time": "2023-12-23T17:01:15.358973993Z"
    }
   },
   "id": "89c62cfffc120459",
   "execution_count": 26
  },
  {
   "cell_type": "code",
   "outputs": [
    {
     "name": "stdout",
     "output_type": "stream",
     "text": [
      "              precision    recall  f1-score   support\n",
      "\n",
      "        MISC       0.00      0.00      0.00         1\n",
      "         PER       1.00      1.00      1.00         1\n",
      "\n",
      "   micro avg       0.50      0.50      0.50         2\n",
      "   macro avg       0.50      0.50      0.50         2\n",
      "weighted avg       0.50      0.50      0.50         2\n"
     ]
    }
   ],
   "source": [
    "from seqeval.metrics import classification_report\n",
    "\n",
    "y_true = [[\"O\", \"O\", \"O\", \"B-MISC\", \"I-MISC\", \"I-MISC\", \"O\"],\n",
    "          [\"B-PER\", \"I-PER\", \"O\"]]\n",
    "y_pred = [[\"O\", \"O\", \"B-MISC\", \"I-MISC\", \"I-MISC\", \"I-MISC\", \"O\"],\n",
    "          [\"B-PER\", \"I-PER\", \"O\"]]\n",
    "\n",
    "print(classification_report(y_true, y_pred))"
   ],
   "metadata": {
    "collapsed": false,
    "ExecuteTime": {
     "end_time": "2023-12-23T17:01:15.751782755Z",
     "start_time": "2023-12-23T17:01:15.596720570Z"
    }
   },
   "id": "638456bc2b2820c1",
   "execution_count": 27
  },
  {
   "cell_type": "code",
   "outputs": [],
   "source": [
    "import numpy as np\n",
    "\n",
    "\n",
    "def align_predictions(predictions, label_ids):\n",
    "    preds = np.argmax(predictions, axis=-1)\n",
    "\n",
    "    batch_size, seq_len = preds.shape\n",
    "    preds_batch = []\n",
    "    labels_batch = []\n",
    "\n",
    "    for i in range(batch_size):\n",
    "        preds_i = []\n",
    "        labels_i = []\n",
    "        for j in range(seq_len):\n",
    "            if label_ids[i, j] != -100:\n",
    "                preds_i.append(index2tag[preds[i, j]])\n",
    "                labels_i.append(index2tag[label_ids[i, j]])\n",
    "        preds_batch.append(preds_i)\n",
    "        labels_batch.append(labels_i)\n",
    "\n",
    "    return preds_batch, labels_batch"
   ],
   "metadata": {
    "collapsed": false,
    "ExecuteTime": {
     "end_time": "2023-12-23T17:01:15.799238502Z",
     "start_time": "2023-12-23T17:01:15.753676334Z"
    }
   },
   "id": "1fc21f41d91e04ba",
   "execution_count": 28
  },
  {
   "cell_type": "code",
   "outputs": [],
   "source": [
    "from transformers import TrainingArguments\n",
    "\n",
    "num_epochs = 3\n",
    "batch_size = 24\n",
    "logging_steps = len(panx_de_encoded['train']) // batch_size\n",
    "model_name = f'{xlmr_model_name}-finetuned-panx-de'\n",
    "training_args = TrainingArguments(\n",
    "    output_dir=model_name,\n",
    "    log_level='error',\n",
    "    num_train_epochs=num_epochs,\n",
    "    per_device_train_batch_size=batch_size,\n",
    "    per_device_eval_batch_size=batch_size,\n",
    "    evaluation_strategy='epoch',\n",
    "    save_steps=1e6,\n",
    "    weight_decay=0.01,\n",
    "    disable_tqdm=False,\n",
    "    logging_steps=logging_steps,\n",
    "    push_to_hub=True\n",
    ")"
   ],
   "metadata": {
    "collapsed": false,
    "ExecuteTime": {
     "end_time": "2023-12-23T17:01:15.800180831Z",
     "start_time": "2023-12-23T17:01:15.799197851Z"
    }
   },
   "id": "3d62ab4c3d133e17",
   "execution_count": 29
  },
  {
   "cell_type": "code",
   "outputs": [],
   "source": [
    "from seqeval.metrics import f1_score\n",
    "\n",
    "def compute_metrics(eval_pred):\n",
    "    y_hat, y_true = align_predictions(eval_pred.predictions, eval_pred.label_ids)\n",
    "    return {'f1': f1_score(y_true, y_hat)}"
   ],
   "metadata": {
    "collapsed": false,
    "ExecuteTime": {
     "end_time": "2023-12-23T17:01:15.801953708Z",
     "start_time": "2023-12-23T17:01:15.799322333Z"
    }
   },
   "id": "4faee8c3a407650d",
   "execution_count": 30
  },
  {
   "cell_type": "code",
   "outputs": [],
   "source": [
    "from transformers import DataCollatorForTokenClassification\n",
    "\n",
    "data_collator = DataCollatorForTokenClassification(xlmr_tokenizer)"
   ],
   "metadata": {
    "collapsed": false,
    "ExecuteTime": {
     "end_time": "2023-12-23T17:01:15.803012058Z",
     "start_time": "2023-12-23T17:01:15.799384313Z"
    }
   },
   "id": "4e3c9aba41ce1309",
   "execution_count": 31
  },
  {
   "cell_type": "code",
   "outputs": [],
   "source": [
    "def model_init():\n",
    "    return XLMRForTC.from_pretrained(xlmr_model_name, config=xlmr_config).to(device)"
   ],
   "metadata": {
    "collapsed": false,
    "ExecuteTime": {
     "end_time": "2023-12-23T17:01:15.803846947Z",
     "start_time": "2023-12-23T17:01:15.799432304Z"
    }
   },
   "id": "859933a80800a270",
   "execution_count": 32
  },
  {
   "cell_type": "code",
   "outputs": [],
   "source": [
    "from transformers import Trainer\n",
    "\n",
    "trainer = Trainer(\n",
    "    model_init=model_init,\n",
    "    args=training_args,\n",
    "    data_collator=data_collator,\n",
    "    compute_metrics=compute_metrics,\n",
    "    train_dataset=panx_de_encoded['train'],\n",
    "    eval_dataset=panx_de_encoded['validation'],\n",
    "    tokenizer=xlmr_tokenizer)\n"
   ],
   "metadata": {
    "collapsed": false,
    "ExecuteTime": {
     "end_time": "2023-12-23T17:01:16.187320757Z",
     "start_time": "2023-12-23T17:01:15.799480634Z"
    }
   },
   "id": "b595e82c85f2c0be",
   "execution_count": 33
  },
  {
   "cell_type": "code",
   "outputs": [
    {
     "data": {
      "text/plain": "{'type': 'user',\n 'id': '637564a16f6b1e5a56fb1700',\n 'name': 'ryli',\n 'fullname': 'Ryan L',\n 'email': 'ryliuk@gmail.com',\n 'emailVerified': True,\n 'canPay': False,\n 'isPro': False,\n 'periodEnd': None,\n 'avatarUrl': '/avatars/b789e1bc7323e19f2a6fe805e807db0f.svg',\n 'orgs': [],\n 'auth': {'type': 'access_token',\n  'accessToken': {'displayName': 'notebook_home', 'role': 'write'}}}"
     },
     "execution_count": 34,
     "metadata": {},
     "output_type": "execute_result"
    }
   ],
   "source": [
    "from huggingface_hub import HfApi, notebook_login\n",
    "\n",
    "hf_api = HfApi()\n",
    "hf_api.whoami()\n",
    "\n",
    "# notebook_login()"
   ],
   "metadata": {
    "collapsed": false,
    "ExecuteTime": {
     "end_time": "2023-12-23T17:01:16.278355082Z",
     "start_time": "2023-12-23T17:01:16.181775603Z"
    }
   },
   "id": "84ff797d3160235c",
   "execution_count": 34
  },
  {
   "cell_type": "code",
   "outputs": [
    {
     "data": {
      "text/plain": "<IPython.core.display.HTML object>",
      "text/html": "\n    <div>\n      \n      <progress value='2' max='1575' style='width:300px; height:20px; vertical-align: middle;'></progress>\n      [   2/1575 : < :, Epoch 0.00/3]\n    </div>\n    <table border=\"1\" class=\"dataframe\">\n  <thead>\n <tr style=\"text-align: left;\">\n      <th>Epoch</th>\n      <th>Training Loss</th>\n      <th>Validation Loss</th>\n    </tr>\n  </thead>\n  <tbody>\n  </tbody>\n</table><p>"
     },
     "metadata": {},
     "output_type": "display_data"
    },
    {
     "data": {
      "text/plain": "training_args.bin:   0%|          | 0.00/4.73k [00:00<?, ?B/s]",
      "application/vnd.jupyter.widget-view+json": {
       "version_major": 2,
       "version_minor": 0,
       "model_id": "c79fe90e6e744ae7a3252ffc8e563c32"
      }
     },
     "metadata": {},
     "output_type": "display_data"
    },
    {
     "data": {
      "text/plain": "CommitInfo(commit_url='https://huggingface.co/ryli/xlm-roberta-base-finetuned-panx-de/commit/e5ed420f2a0aa94e13a48f5ea082020b59f5707f', commit_message='Training completed', commit_description='', oid='e5ed420f2a0aa94e13a48f5ea082020b59f5707f', pr_url=None, pr_revision=None, pr_num=None)"
     },
     "execution_count": 35,
     "metadata": {},
     "output_type": "execute_result"
    }
   ],
   "source": [
    "trainer.train()\n",
    "trainer.push_to_hub(commit_message='Training completed')"
   ],
   "metadata": {
    "collapsed": false,
    "ExecuteTime": {
     "end_time": "2023-12-23T17:03:01.021467487Z",
     "start_time": "2023-12-23T17:01:16.279304532Z"
    }
   },
   "id": "747839ed8ec23eac",
   "execution_count": 35
  },
  {
   "cell_type": "code",
   "outputs": [
    {
     "data": {
      "text/plain": "     loss  learning_rate  epoch  step  eval_loss   eval_f1  eval_runtime  \\\n0  0.2598   3.336508e-05   1.00   524        NaN       NaN           NaN   \n1     NaN            NaN   1.00   525   0.154029  0.826779        2.6326   \n2  0.1302   1.673016e-05   2.00  1048        NaN       NaN           NaN   \n3     NaN            NaN   2.00  1050   0.135740  0.844669        2.6268   \n4  0.0809   9.523810e-08   2.99  1572        NaN       NaN           NaN   \n5     NaN            NaN   3.00  1575   0.135818  0.866708        2.6374   \n6     NaN            NaN   3.00  1575        NaN       NaN           NaN   \n\n   eval_samples_per_second  eval_steps_per_second  train_runtime  \\\n0                      NaN                    NaN            NaN   \n1                 2389.273                 99.901            NaN   \n2                      NaN                    NaN            NaN   \n3                 2394.523                100.121            NaN   \n4                      NaN                    NaN            NaN   \n5                 2384.911                 99.719            NaN   \n6                      NaN                    NaN       100.1759   \n\n   train_samples_per_second  train_steps_per_second    total_flos  train_loss  \n0                       NaN                     NaN           NaN         NaN  \n1                       NaN                     NaN           NaN         NaN  \n2                       NaN                     NaN           NaN         NaN  \n3                       NaN                     NaN           NaN         NaN  \n4                       NaN                     NaN           NaN         NaN  \n5                       NaN                     NaN           NaN         NaN  \n6                   376.737                  15.722  8.669708e+14    0.156784  ",
      "text/html": "<div>\n<style scoped>\n    .dataframe tbody tr th:only-of-type {\n        vertical-align: middle;\n    }\n\n    .dataframe tbody tr th {\n        vertical-align: top;\n    }\n\n    .dataframe thead th {\n        text-align: right;\n    }\n</style>\n<table border=\"1\" class=\"dataframe\">\n  <thead>\n    <tr style=\"text-align: right;\">\n      <th></th>\n      <th>loss</th>\n      <th>learning_rate</th>\n      <th>epoch</th>\n      <th>step</th>\n      <th>eval_loss</th>\n      <th>eval_f1</th>\n      <th>eval_runtime</th>\n      <th>eval_samples_per_second</th>\n      <th>eval_steps_per_second</th>\n      <th>train_runtime</th>\n      <th>train_samples_per_second</th>\n      <th>train_steps_per_second</th>\n      <th>total_flos</th>\n      <th>train_loss</th>\n    </tr>\n  </thead>\n  <tbody>\n    <tr>\n      <th>0</th>\n      <td>0.2598</td>\n      <td>3.336508e-05</td>\n      <td>1.00</td>\n      <td>524</td>\n      <td>NaN</td>\n      <td>NaN</td>\n      <td>NaN</td>\n      <td>NaN</td>\n      <td>NaN</td>\n      <td>NaN</td>\n      <td>NaN</td>\n      <td>NaN</td>\n      <td>NaN</td>\n      <td>NaN</td>\n    </tr>\n    <tr>\n      <th>1</th>\n      <td>NaN</td>\n      <td>NaN</td>\n      <td>1.00</td>\n      <td>525</td>\n      <td>0.154029</td>\n      <td>0.826779</td>\n      <td>2.6326</td>\n      <td>2389.273</td>\n      <td>99.901</td>\n      <td>NaN</td>\n      <td>NaN</td>\n      <td>NaN</td>\n      <td>NaN</td>\n      <td>NaN</td>\n    </tr>\n    <tr>\n      <th>2</th>\n      <td>0.1302</td>\n      <td>1.673016e-05</td>\n      <td>2.00</td>\n      <td>1048</td>\n      <td>NaN</td>\n      <td>NaN</td>\n      <td>NaN</td>\n      <td>NaN</td>\n      <td>NaN</td>\n      <td>NaN</td>\n      <td>NaN</td>\n      <td>NaN</td>\n      <td>NaN</td>\n      <td>NaN</td>\n    </tr>\n    <tr>\n      <th>3</th>\n      <td>NaN</td>\n      <td>NaN</td>\n      <td>2.00</td>\n      <td>1050</td>\n      <td>0.135740</td>\n      <td>0.844669</td>\n      <td>2.6268</td>\n      <td>2394.523</td>\n      <td>100.121</td>\n      <td>NaN</td>\n      <td>NaN</td>\n      <td>NaN</td>\n      <td>NaN</td>\n      <td>NaN</td>\n    </tr>\n    <tr>\n      <th>4</th>\n      <td>0.0809</td>\n      <td>9.523810e-08</td>\n      <td>2.99</td>\n      <td>1572</td>\n      <td>NaN</td>\n      <td>NaN</td>\n      <td>NaN</td>\n      <td>NaN</td>\n      <td>NaN</td>\n      <td>NaN</td>\n      <td>NaN</td>\n      <td>NaN</td>\n      <td>NaN</td>\n      <td>NaN</td>\n    </tr>\n    <tr>\n      <th>5</th>\n      <td>NaN</td>\n      <td>NaN</td>\n      <td>3.00</td>\n      <td>1575</td>\n      <td>0.135818</td>\n      <td>0.866708</td>\n      <td>2.6374</td>\n      <td>2384.911</td>\n      <td>99.719</td>\n      <td>NaN</td>\n      <td>NaN</td>\n      <td>NaN</td>\n      <td>NaN</td>\n      <td>NaN</td>\n    </tr>\n    <tr>\n      <th>6</th>\n      <td>NaN</td>\n      <td>NaN</td>\n      <td>3.00</td>\n      <td>1575</td>\n      <td>NaN</td>\n      <td>NaN</td>\n      <td>NaN</td>\n      <td>NaN</td>\n      <td>NaN</td>\n      <td>100.1759</td>\n      <td>376.737</td>\n      <td>15.722</td>\n      <td>8.669708e+14</td>\n      <td>0.156784</td>\n    </tr>\n  </tbody>\n</table>\n</div>"
     },
     "execution_count": 36,
     "metadata": {},
     "output_type": "execute_result"
    }
   ],
   "source": [
    "pd.DataFrame(trainer.state.log_history)"
   ],
   "metadata": {
    "collapsed": false,
    "ExecuteTime": {
     "end_time": "2023-12-23T17:03:01.036084921Z",
     "start_time": "2023-12-23T17:03:01.027662968Z"
    }
   },
   "id": "2b6c7160ceca6ba8",
   "execution_count": 36
  },
  {
   "cell_type": "code",
   "outputs": [
    {
     "data": {
      "text/plain": "    0      1      2      3     4     5           6    7     8        9    10  \\\n0  <s>  ▁Jeff    ▁De     an  ▁ist  ▁ein  ▁Informati  ker  ▁bei  ▁Google  ▁in   \n1    O  B-PER  I-PER  I-PER     O     O           O    O     O    B-ORG    O   \n\n           11     12    13  \n0  ▁Kaliforni     en  </s>  \n1       B-LOC  I-LOC     O  ",
      "text/html": "<div>\n<style scoped>\n    .dataframe tbody tr th:only-of-type {\n        vertical-align: middle;\n    }\n\n    .dataframe tbody tr th {\n        vertical-align: top;\n    }\n\n    .dataframe thead th {\n        text-align: right;\n    }\n</style>\n<table border=\"1\" class=\"dataframe\">\n  <thead>\n    <tr style=\"text-align: right;\">\n      <th></th>\n      <th>0</th>\n      <th>1</th>\n      <th>2</th>\n      <th>3</th>\n      <th>4</th>\n      <th>5</th>\n      <th>6</th>\n      <th>7</th>\n      <th>8</th>\n      <th>9</th>\n      <th>10</th>\n      <th>11</th>\n      <th>12</th>\n      <th>13</th>\n    </tr>\n  </thead>\n  <tbody>\n    <tr>\n      <th>0</th>\n      <td>&lt;s&gt;</td>\n      <td>▁Jeff</td>\n      <td>▁De</td>\n      <td>an</td>\n      <td>▁ist</td>\n      <td>▁ein</td>\n      <td>▁Informati</td>\n      <td>ker</td>\n      <td>▁bei</td>\n      <td>▁Google</td>\n      <td>▁in</td>\n      <td>▁Kaliforni</td>\n      <td>en</td>\n      <td>&lt;/s&gt;</td>\n    </tr>\n    <tr>\n      <th>1</th>\n      <td>O</td>\n      <td>B-PER</td>\n      <td>I-PER</td>\n      <td>I-PER</td>\n      <td>O</td>\n      <td>O</td>\n      <td>O</td>\n      <td>O</td>\n      <td>O</td>\n      <td>B-ORG</td>\n      <td>O</td>\n      <td>B-LOC</td>\n      <td>I-LOC</td>\n      <td>O</td>\n    </tr>\n  </tbody>\n</table>\n</div>"
     },
     "execution_count": 37,
     "metadata": {},
     "output_type": "execute_result"
    }
   ],
   "source": [
    "text_de = \"Jeff Dean ist ein Informatiker bei Google in Kalifornien\"\n",
    "tag_text(text_de, tags, trainer.model, xlmr_tokenizer)"
   ],
   "metadata": {
    "collapsed": false,
    "ExecuteTime": {
     "end_time": "2023-12-23T17:03:01.083095743Z",
     "start_time": "2023-12-23T17:03:01.033118042Z"
    }
   },
   "id": "bd0175c44475589",
   "execution_count": 37
  },
  {
   "cell_type": "code",
   "outputs": [],
   "source": [
    "from torch.nn.functional import cross_entropy\n",
    "\n",
    "def forward_pass_with_label(batch):\n",
    "    features = [dict(zip(batch, row)) for row in zip(*batch.values())]\n",
    "    batch = data_collator(features)\n",
    "    input_ids = batch['input_ids'].to(device)\n",
    "    attention_mask = batch['attention_mask'].to(device)\n",
    "    labels = batch['labels'].to(device)\n",
    "    with torch.no_grad():\n",
    "        output = trainer.model(input_ids, attention_mask)\n",
    "        y_hat = torch.argmax(output.logits, axis=-1).cpu().numpy()\n",
    "    loss = cross_entropy(output.logits.view(-1, 7), labels.view(-1), reduction='none')\n",
    "    loss = loss.view(len(input_ids), -1).cpu().numpy()\n",
    "    \n",
    "    return {'loss': loss, 'predicted_label': y_hat}"
   ],
   "metadata": {
    "collapsed": false,
    "ExecuteTime": {
     "end_time": "2023-12-23T17:03:01.087695299Z",
     "start_time": "2023-12-23T17:03:01.063175147Z"
    }
   },
   "id": "5ab89bcb4b24e050",
   "execution_count": 38
  },
  {
   "cell_type": "code",
   "outputs": [
    {
     "data": {
      "text/plain": "Map:   0%|          | 0/6290 [00:00<?, ? examples/s]",
      "application/vnd.jupyter.widget-view+json": {
       "version_major": 2,
       "version_minor": 0,
       "model_id": "7bcfbbb9b77c4e5eb0212e2a0443323f"
      }
     },
     "metadata": {},
     "output_type": "display_data"
    },
    {
     "data": {
      "text/plain": "                                           input_ids  \\\n0                 [0, 10699, 11, 15, 16104, 1388, 2]   \n1  [0, 56530, 25216, 30121, 152385, 19229, 83982,...   \n2  [0, 159093, 165, 38506, 122, 153080, 29088, 57...   \n3     [0, 16459, 242, 5106, 6, 198715, 5106, 242, 2]   \n4  [0, 11022, 2315, 7418, 1079, 8186, 57242, 97, ...   \n\n                                      attention_mask  \\\n0                              [1, 1, 1, 1, 1, 1, 1]   \n1  [1, 1, 1, 1, 1, 1, 1, 1, 1, 1, 1, 1, 1, 1, 1, ...   \n2         [1, 1, 1, 1, 1, 1, 1, 1, 1, 1, 1, 1, 1, 1]   \n3                        [1, 1, 1, 1, 1, 1, 1, 1, 1]   \n4  [1, 1, 1, 1, 1, 1, 1, 1, 1, 1, 1, 1, 1, 1, 1, ...   \n\n                                              labels  \\\n0                     [-100, 3, -100, 4, 4, 4, -100]   \n1  [-100, 0, -100, -100, -100, -100, 3, -100, -10...   \n2  [-100, 0, 0, 0, 0, 3, -100, -100, 0, -100, 0, ...   \n3               [-100, 0, 0, 0, 5, -100, 0, 0, -100]   \n4  [-100, 0, 0, 0, 0, 0, 0, 0, -100, 0, 0, 0, 3, ...   \n\n                                                loss  \\\n0  [0.0, 0.0076513086, 0.0, 0.012611753, 0.007540...   \n1  [0.0, 0.00018273115, 0.0, 0.0, 0.0, 0.0, 1.560...   \n2  [0.0, 0.00020096666, 0.00010263393, 0.00011932...   \n3  [0.0, 0.00022671037, 0.00019703354, 0.00018285...   \n4  [0.0, 0.00010108437, 9.500529e-05, 0.000106329...   \n\n                                     predicted_label  \n0  [4, 3, 4, 4, 4, 4, 4, 3, 3, 3, 3, 3, 3, 3, 3, ...  \n1  [6, 0, 0, 0, 0, 0, 5, 6, 6, 6, 6, 6, 6, 6, 6, ...  \n2  [0, 0, 0, 0, 0, 3, 0, 0, 0, 0, 0, 0, 0, 0, 0, ...  \n3  [5, 0, 0, 0, 5, 5, 0, 0, 5, 0, 0, 0, 0, 0, 0, ...  \n4  [0, 0, 0, 0, 0, 0, 0, 0, 0, 0, 0, 0, 3, 4, 4, ...  ",
      "text/html": "<div>\n<style scoped>\n    .dataframe tbody tr th:only-of-type {\n        vertical-align: middle;\n    }\n\n    .dataframe tbody tr th {\n        vertical-align: top;\n    }\n\n    .dataframe thead th {\n        text-align: right;\n    }\n</style>\n<table border=\"1\" class=\"dataframe\">\n  <thead>\n    <tr style=\"text-align: right;\">\n      <th></th>\n      <th>input_ids</th>\n      <th>attention_mask</th>\n      <th>labels</th>\n      <th>loss</th>\n      <th>predicted_label</th>\n    </tr>\n  </thead>\n  <tbody>\n    <tr>\n      <th>0</th>\n      <td>[0, 10699, 11, 15, 16104, 1388, 2]</td>\n      <td>[1, 1, 1, 1, 1, 1, 1]</td>\n      <td>[-100, 3, -100, 4, 4, 4, -100]</td>\n      <td>[0.0, 0.0076513086, 0.0, 0.012611753, 0.007540...</td>\n      <td>[4, 3, 4, 4, 4, 4, 4, 3, 3, 3, 3, 3, 3, 3, 3, ...</td>\n    </tr>\n    <tr>\n      <th>1</th>\n      <td>[0, 56530, 25216, 30121, 152385, 19229, 83982,...</td>\n      <td>[1, 1, 1, 1, 1, 1, 1, 1, 1, 1, 1, 1, 1, 1, 1, ...</td>\n      <td>[-100, 0, -100, -100, -100, -100, 3, -100, -10...</td>\n      <td>[0.0, 0.00018273115, 0.0, 0.0, 0.0, 0.0, 1.560...</td>\n      <td>[6, 0, 0, 0, 0, 0, 5, 6, 6, 6, 6, 6, 6, 6, 6, ...</td>\n    </tr>\n    <tr>\n      <th>2</th>\n      <td>[0, 159093, 165, 38506, 122, 153080, 29088, 57...</td>\n      <td>[1, 1, 1, 1, 1, 1, 1, 1, 1, 1, 1, 1, 1, 1]</td>\n      <td>[-100, 0, 0, 0, 0, 3, -100, -100, 0, -100, 0, ...</td>\n      <td>[0.0, 0.00020096666, 0.00010263393, 0.00011932...</td>\n      <td>[0, 0, 0, 0, 0, 3, 0, 0, 0, 0, 0, 0, 0, 0, 0, ...</td>\n    </tr>\n    <tr>\n      <th>3</th>\n      <td>[0, 16459, 242, 5106, 6, 198715, 5106, 242, 2]</td>\n      <td>[1, 1, 1, 1, 1, 1, 1, 1, 1]</td>\n      <td>[-100, 0, 0, 0, 5, -100, 0, 0, -100]</td>\n      <td>[0.0, 0.00022671037, 0.00019703354, 0.00018285...</td>\n      <td>[5, 0, 0, 0, 5, 5, 0, 0, 5, 0, 0, 0, 0, 0, 0, ...</td>\n    </tr>\n    <tr>\n      <th>4</th>\n      <td>[0, 11022, 2315, 7418, 1079, 8186, 57242, 97, ...</td>\n      <td>[1, 1, 1, 1, 1, 1, 1, 1, 1, 1, 1, 1, 1, 1, 1, ...</td>\n      <td>[-100, 0, 0, 0, 0, 0, 0, 0, -100, 0, 0, 0, 3, ...</td>\n      <td>[0.0, 0.00010108437, 9.500529e-05, 0.000106329...</td>\n      <td>[0, 0, 0, 0, 0, 0, 0, 0, 0, 0, 0, 0, 3, 4, 4, ...</td>\n    </tr>\n  </tbody>\n</table>\n</div>"
     },
     "execution_count": 94,
     "metadata": {},
     "output_type": "execute_result"
    }
   ],
   "source": [
    "valid_set = panx_de_encoded['validation']\n",
    "valid_set = valid_set.map(forward_pass_with_label, batched=True, batch_size=32)\n",
    "df = valid_set.to_pandas()\n",
    "df.head()"
   ],
   "metadata": {
    "collapsed": false,
    "ExecuteTime": {
     "end_time": "2023-12-23T17:40:58.761836132Z",
     "start_time": "2023-12-23T17:40:56.299408972Z"
    }
   },
   "id": "ef2a44e6f08b84fb",
   "execution_count": 94
  },
  {
   "cell_type": "code",
   "outputs": [
    {
     "data": {
      "text/plain": "                                           input_ids  \\\n0                 [0, 10699, 11, 15, 16104, 1388, 2]   \n1  [0, 56530, 25216, 30121, 152385, 19229, 83982,...   \n2  [0, 159093, 165, 38506, 122, 153080, 29088, 57...   \n3     [0, 16459, 242, 5106, 6, 198715, 5106, 242, 2]   \n4  [0, 11022, 2315, 7418, 1079, 8186, 57242, 97, ...   \n\n                                      attention_mask  \\\n0                              [1, 1, 1, 1, 1, 1, 1]   \n1  [1, 1, 1, 1, 1, 1, 1, 1, 1, 1, 1, 1, 1, 1, 1, ...   \n2         [1, 1, 1, 1, 1, 1, 1, 1, 1, 1, 1, 1, 1, 1]   \n3                        [1, 1, 1, 1, 1, 1, 1, 1, 1]   \n4  [1, 1, 1, 1, 1, 1, 1, 1, 1, 1, 1, 1, 1, 1, 1, ...   \n\n                                              labels  \\\n0        [IGN, B-ORG, IGN, I-ORG, I-ORG, I-ORG, IGN]   \n1  [IGN, O, IGN, IGN, IGN, IGN, B-ORG, IGN, IGN, ...   \n2  [IGN, O, O, O, O, B-ORG, IGN, IGN, O, IGN, O, ...   \n3              [IGN, O, O, O, B-LOC, IGN, O, O, IGN]   \n4  [IGN, O, O, O, O, O, O, O, IGN, O, O, O, B-ORG...   \n\n                                                loss  \\\n0  [0.0, 0.0076513086, 0.0, 0.012611753, 0.007540...   \n1  [0.0, 0.00018273115, 0.0, 0.0, 0.0, 0.0, 1.560...   \n2  [0.0, 0.00020096666, 0.00010263393, 0.00011932...   \n3  [0.0, 0.00022671037, 0.00019703354, 0.00018285...   \n4  [0.0, 0.00010108437, 9.500529e-05, 0.000106329...   \n\n                                     predicted_label  \\\n0  [I-ORG, B-ORG, I-ORG, I-ORG, I-ORG, I-ORG, I-ORG]   \n1  [I-LOC, O, O, O, O, O, B-LOC, I-LOC, I-LOC, I-...   \n2     [O, O, O, O, O, B-ORG, O, O, O, O, O, O, O, O]   \n3        [B-LOC, O, O, O, B-LOC, B-LOC, O, O, B-LOC]   \n4  [O, O, O, O, O, O, O, O, O, O, O, O, B-ORG, I-...   \n\n                                        input_tokens  \n0         [<s>, ▁Ham, a, ▁(, ▁Unternehmen, ▁), </s>]  \n1  [<s>, ▁WE, ITE, RL, EIT, UNG, ▁Luz, ky, j, ▁a,...  \n2  [<s>, ▁entdeckt, ▁und, ▁gehört, ▁der, ▁Spek, t...  \n3    [<s>, ▁**, ▁', ▁'', ▁, Bretagne, ▁'', ▁', </s>]  \n4  [<s>, ▁Nach, ▁einem, ▁Jahr, ▁bei, ▁diesem, ▁Ve...  ",
      "text/html": "<div>\n<style scoped>\n    .dataframe tbody tr th:only-of-type {\n        vertical-align: middle;\n    }\n\n    .dataframe tbody tr th {\n        vertical-align: top;\n    }\n\n    .dataframe thead th {\n        text-align: right;\n    }\n</style>\n<table border=\"1\" class=\"dataframe\">\n  <thead>\n    <tr style=\"text-align: right;\">\n      <th></th>\n      <th>input_ids</th>\n      <th>attention_mask</th>\n      <th>labels</th>\n      <th>loss</th>\n      <th>predicted_label</th>\n      <th>input_tokens</th>\n    </tr>\n  </thead>\n  <tbody>\n    <tr>\n      <th>0</th>\n      <td>[0, 10699, 11, 15, 16104, 1388, 2]</td>\n      <td>[1, 1, 1, 1, 1, 1, 1]</td>\n      <td>[IGN, B-ORG, IGN, I-ORG, I-ORG, I-ORG, IGN]</td>\n      <td>[0.0, 0.0076513086, 0.0, 0.012611753, 0.007540...</td>\n      <td>[I-ORG, B-ORG, I-ORG, I-ORG, I-ORG, I-ORG, I-ORG]</td>\n      <td>[&lt;s&gt;, ▁Ham, a, ▁(, ▁Unternehmen, ▁), &lt;/s&gt;]</td>\n    </tr>\n    <tr>\n      <th>1</th>\n      <td>[0, 56530, 25216, 30121, 152385, 19229, 83982,...</td>\n      <td>[1, 1, 1, 1, 1, 1, 1, 1, 1, 1, 1, 1, 1, 1, 1, ...</td>\n      <td>[IGN, O, IGN, IGN, IGN, IGN, B-ORG, IGN, IGN, ...</td>\n      <td>[0.0, 0.00018273115, 0.0, 0.0, 0.0, 0.0, 1.560...</td>\n      <td>[I-LOC, O, O, O, O, O, B-LOC, I-LOC, I-LOC, I-...</td>\n      <td>[&lt;s&gt;, ▁WE, ITE, RL, EIT, UNG, ▁Luz, ky, j, ▁a,...</td>\n    </tr>\n    <tr>\n      <th>2</th>\n      <td>[0, 159093, 165, 38506, 122, 153080, 29088, 57...</td>\n      <td>[1, 1, 1, 1, 1, 1, 1, 1, 1, 1, 1, 1, 1, 1]</td>\n      <td>[IGN, O, O, O, O, B-ORG, IGN, IGN, O, IGN, O, ...</td>\n      <td>[0.0, 0.00020096666, 0.00010263393, 0.00011932...</td>\n      <td>[O, O, O, O, O, B-ORG, O, O, O, O, O, O, O, O]</td>\n      <td>[&lt;s&gt;, ▁entdeckt, ▁und, ▁gehört, ▁der, ▁Spek, t...</td>\n    </tr>\n    <tr>\n      <th>3</th>\n      <td>[0, 16459, 242, 5106, 6, 198715, 5106, 242, 2]</td>\n      <td>[1, 1, 1, 1, 1, 1, 1, 1, 1]</td>\n      <td>[IGN, O, O, O, B-LOC, IGN, O, O, IGN]</td>\n      <td>[0.0, 0.00022671037, 0.00019703354, 0.00018285...</td>\n      <td>[B-LOC, O, O, O, B-LOC, B-LOC, O, O, B-LOC]</td>\n      <td>[&lt;s&gt;, ▁**, ▁', ▁'', ▁, Bretagne, ▁'', ▁', &lt;/s&gt;]</td>\n    </tr>\n    <tr>\n      <th>4</th>\n      <td>[0, 11022, 2315, 7418, 1079, 8186, 57242, 97, ...</td>\n      <td>[1, 1, 1, 1, 1, 1, 1, 1, 1, 1, 1, 1, 1, 1, 1, ...</td>\n      <td>[IGN, O, O, O, O, O, O, O, IGN, O, O, O, B-ORG...</td>\n      <td>[0.0, 0.00010108437, 9.500529e-05, 0.000106329...</td>\n      <td>[O, O, O, O, O, O, O, O, O, O, O, O, B-ORG, I-...</td>\n      <td>[&lt;s&gt;, ▁Nach, ▁einem, ▁Jahr, ▁bei, ▁diesem, ▁Ve...</td>\n    </tr>\n  </tbody>\n</table>\n</div>"
     },
     "execution_count": 95,
     "metadata": {},
     "output_type": "execute_result"
    }
   ],
   "source": [
    "index2tag[-100] = 'IGN'\n",
    "\n",
    "df['input_tokens'] = df['input_ids'].apply(lambda ids: xlmr_tokenizer.convert_ids_to_tokens(ids))\n",
    "for label_col in ['predicted_label', 'labels']:\n",
    "    df[label_col] = df[label_col].apply(lambda label_ids: [index2tag[i] for i in label_ids])\n",
    "for padded_col in ['loss', 'predicted_label']:\n",
    "    df[padded_col] = df.apply(lambda row: row[padded_col][:len(row['input_ids'])], axis=1)\n",
    "\n",
    "df.head()"
   ],
   "metadata": {
    "collapsed": false,
    "ExecuteTime": {
     "end_time": "2023-12-23T17:40:59.608128546Z",
     "start_time": "2023-12-23T17:40:59.211732851Z"
    }
   },
   "id": "cdd00a418f29cc65",
   "execution_count": 95
  },
  {
   "cell_type": "code",
   "outputs": [
    {
     "data": {
      "text/plain": "  input_ids attention_mask labels  loss predicted_label  input_tokens\n0     10699              1  B-ORG  0.01           B-ORG          ▁Ham\n0        15              1  I-ORG  0.01           I-ORG            ▁(\n0     16104              1  I-ORG  0.01           I-ORG  ▁Unternehmen\n0      1388              1  I-ORG  0.01           I-ORG            ▁)\n1     56530              1      O  0.00               O           ▁WE",
      "text/html": "<div>\n<style scoped>\n    .dataframe tbody tr th:only-of-type {\n        vertical-align: middle;\n    }\n\n    .dataframe tbody tr th {\n        vertical-align: top;\n    }\n\n    .dataframe thead th {\n        text-align: right;\n    }\n</style>\n<table border=\"1\" class=\"dataframe\">\n  <thead>\n    <tr style=\"text-align: right;\">\n      <th></th>\n      <th>input_ids</th>\n      <th>attention_mask</th>\n      <th>labels</th>\n      <th>loss</th>\n      <th>predicted_label</th>\n      <th>input_tokens</th>\n    </tr>\n  </thead>\n  <tbody>\n    <tr>\n      <th>0</th>\n      <td>10699</td>\n      <td>1</td>\n      <td>B-ORG</td>\n      <td>0.01</td>\n      <td>B-ORG</td>\n      <td>▁Ham</td>\n    </tr>\n    <tr>\n      <th>0</th>\n      <td>15</td>\n      <td>1</td>\n      <td>I-ORG</td>\n      <td>0.01</td>\n      <td>I-ORG</td>\n      <td>▁(</td>\n    </tr>\n    <tr>\n      <th>0</th>\n      <td>16104</td>\n      <td>1</td>\n      <td>I-ORG</td>\n      <td>0.01</td>\n      <td>I-ORG</td>\n      <td>▁Unternehmen</td>\n    </tr>\n    <tr>\n      <th>0</th>\n      <td>1388</td>\n      <td>1</td>\n      <td>I-ORG</td>\n      <td>0.01</td>\n      <td>I-ORG</td>\n      <td>▁)</td>\n    </tr>\n    <tr>\n      <th>1</th>\n      <td>56530</td>\n      <td>1</td>\n      <td>O</td>\n      <td>0.00</td>\n      <td>O</td>\n      <td>▁WE</td>\n    </tr>\n  </tbody>\n</table>\n</div>"
     },
     "execution_count": 97,
     "metadata": {},
     "output_type": "execute_result"
    }
   ],
   "source": [
    "df_tokens = df.apply(pd.Series.explode)\n",
    "df_tokens = df_tokens.query(\"labels != 'IGN'\")\n",
    "df_tokens['loss'] = df_tokens['loss'].astype(float).round(2)\n",
    "df_tokens.head()"
   ],
   "metadata": {
    "collapsed": false,
    "ExecuteTime": {
     "end_time": "2023-12-23T17:41:20.767505063Z",
     "start_time": "2023-12-23T17:41:20.720220207Z"
    }
   },
   "id": "8ea41c04d7ff82f1",
   "execution_count": 97
  },
  {
   "cell_type": "code",
   "outputs": [
    {
     "data": {
      "text/plain": "              count      mean     sum\ninput_tokens                         \n▁              6066  0.033427  202.77\n▁in             989  0.126997  125.60\n▁der           1388  0.083480  115.87\n▁/              163  0.640307  104.37\n▁von            808  0.123478   99.77\n...             ...       ...     ...\n▁Brand            1  0.000000    0.00\n▁Rouge            1  0.000000    0.00\n▁Branco           1  0.000000    0.00\n▁Bran             3  0.000000    0.00\n▁−                3  0.000000    0.00\n\n[7089 rows x 3 columns]",
      "text/html": "<div>\n<style scoped>\n    .dataframe tbody tr th:only-of-type {\n        vertical-align: middle;\n    }\n\n    .dataframe tbody tr th {\n        vertical-align: top;\n    }\n\n    .dataframe thead th {\n        text-align: right;\n    }\n</style>\n<table border=\"1\" class=\"dataframe\">\n  <thead>\n    <tr style=\"text-align: right;\">\n      <th></th>\n      <th>count</th>\n      <th>mean</th>\n      <th>sum</th>\n    </tr>\n    <tr>\n      <th>input_tokens</th>\n      <th></th>\n      <th></th>\n      <th></th>\n    </tr>\n  </thead>\n  <tbody>\n    <tr>\n      <th>▁</th>\n      <td>6066</td>\n      <td>0.033427</td>\n      <td>202.77</td>\n    </tr>\n    <tr>\n      <th>▁in</th>\n      <td>989</td>\n      <td>0.126997</td>\n      <td>125.60</td>\n    </tr>\n    <tr>\n      <th>▁der</th>\n      <td>1388</td>\n      <td>0.083480</td>\n      <td>115.87</td>\n    </tr>\n    <tr>\n      <th>▁/</th>\n      <td>163</td>\n      <td>0.640307</td>\n      <td>104.37</td>\n    </tr>\n    <tr>\n      <th>▁von</th>\n      <td>808</td>\n      <td>0.123478</td>\n      <td>99.77</td>\n    </tr>\n    <tr>\n      <th>...</th>\n      <td>...</td>\n      <td>...</td>\n      <td>...</td>\n    </tr>\n    <tr>\n      <th>▁Brand</th>\n      <td>1</td>\n      <td>0.000000</td>\n      <td>0.00</td>\n    </tr>\n    <tr>\n      <th>▁Rouge</th>\n      <td>1</td>\n      <td>0.000000</td>\n      <td>0.00</td>\n    </tr>\n    <tr>\n      <th>▁Branco</th>\n      <td>1</td>\n      <td>0.000000</td>\n      <td>0.00</td>\n    </tr>\n    <tr>\n      <th>▁Bran</th>\n      <td>3</td>\n      <td>0.000000</td>\n      <td>0.00</td>\n    </tr>\n    <tr>\n      <th>▁−</th>\n      <td>3</td>\n      <td>0.000000</td>\n      <td>0.00</td>\n    </tr>\n  </tbody>\n</table>\n<p>7089 rows × 3 columns</p>\n</div>"
     },
     "execution_count": 106,
     "metadata": {},
     "output_type": "execute_result"
    }
   ],
   "source": [
    "(\n",
    "    df_tokens.groupby('input_tokens')[['loss']]\n",
    "    .agg(['count', 'mean', 'sum'])\n",
    "    .droplevel(level=0, axis=1)\n",
    "    .sort_values(by='sum', ascending=False)\n",
    ")"
   ],
   "metadata": {
    "collapsed": false,
    "ExecuteTime": {
     "end_time": "2023-12-23T17:52:10.995443163Z",
     "start_time": "2023-12-23T17:52:10.951630226Z"
    }
   },
   "id": "4a43e841a2c8878f",
   "execution_count": 106
  },
  {
   "cell_type": "code",
   "outputs": [
    {
     "data": {
      "text/plain": "        count      mean      sum\nlabels                          \nI-ORG    3820  0.481353  1838.77\nB-ORG    2683  0.629754  1689.63\nO       43648  0.031341  1367.97\nB-LOC    3172  0.309650   982.21\nI-LOC    1462  0.570684   834.34\nB-PER    2893  0.283761   820.92\nI-PER    4139  0.193803   802.15",
      "text/html": "<div>\n<style scoped>\n    .dataframe tbody tr th:only-of-type {\n        vertical-align: middle;\n    }\n\n    .dataframe tbody tr th {\n        vertical-align: top;\n    }\n\n    .dataframe thead th {\n        text-align: right;\n    }\n</style>\n<table border=\"1\" class=\"dataframe\">\n  <thead>\n    <tr style=\"text-align: right;\">\n      <th></th>\n      <th>count</th>\n      <th>mean</th>\n      <th>sum</th>\n    </tr>\n    <tr>\n      <th>labels</th>\n      <th></th>\n      <th></th>\n      <th></th>\n    </tr>\n  </thead>\n  <tbody>\n    <tr>\n      <th>I-ORG</th>\n      <td>3820</td>\n      <td>0.481353</td>\n      <td>1838.77</td>\n    </tr>\n    <tr>\n      <th>B-ORG</th>\n      <td>2683</td>\n      <td>0.629754</td>\n      <td>1689.63</td>\n    </tr>\n    <tr>\n      <th>O</th>\n      <td>43648</td>\n      <td>0.031341</td>\n      <td>1367.97</td>\n    </tr>\n    <tr>\n      <th>B-LOC</th>\n      <td>3172</td>\n      <td>0.309650</td>\n      <td>982.21</td>\n    </tr>\n    <tr>\n      <th>I-LOC</th>\n      <td>1462</td>\n      <td>0.570684</td>\n      <td>834.34</td>\n    </tr>\n    <tr>\n      <th>B-PER</th>\n      <td>2893</td>\n      <td>0.283761</td>\n      <td>820.92</td>\n    </tr>\n    <tr>\n      <th>I-PER</th>\n      <td>4139</td>\n      <td>0.193803</td>\n      <td>802.15</td>\n    </tr>\n  </tbody>\n</table>\n</div>"
     },
     "execution_count": 107,
     "metadata": {},
     "output_type": "execute_result"
    }
   ],
   "source": [
    "(\n",
    "    df_tokens.groupby('labels')[['loss']]\n",
    "    .agg(['count', 'mean', 'sum'])\n",
    "    .droplevel(level=0, axis=1)\n",
    "    .sort_values(by='sum', ascending=False)\n",
    ")"
   ],
   "metadata": {
    "collapsed": false,
    "ExecuteTime": {
     "end_time": "2023-12-23T17:52:22.414879006Z",
     "start_time": "2023-12-23T17:52:22.392525622Z"
    }
   },
   "id": "1fc85d2168cba2b9",
   "execution_count": 107
  },
  {
   "cell_type": "code",
   "outputs": [
    {
     "data": {
      "text/plain": "<Figure size 600x600 with 1 Axes>",
      "image/png": "[encoded data removed]"
     },
     "metadata": {},
     "output_type": "display_data"
    }
   ],
   "source": [
    "from sklearn.metrics import ConfusionMatrixDisplay, confusion_matrix\n",
    "from matplotlib import pyplot as plt\n",
    "\n",
    "def plot_confusion_matrix(y_hat, y_true, labels):\n",
    "    cm = confusion_matrix(y_true, y_hat, normalize='true')\n",
    "    fix, ax = plt.subplots(figsize=(6, 6))\n",
    "    disp = ConfusionMatrixDisplay(confusion_matrix=cm, display_labels=labels)\n",
    "    disp.plot(cmap='Blues', values_format='.2f', ax=ax, colorbar=False)\n",
    "    plt.show()\n",
    "\n",
    "plot_confusion_matrix(df_tokens['labels'], df_tokens['predicted_label'], tags.names)"
   ],
   "metadata": {
    "collapsed": false,
    "ExecuteTime": {
     "end_time": "2023-12-23T17:56:55.741659389Z",
     "start_time": "2023-12-23T17:56:55.577766449Z"
    }
   },
   "id": "952a6389efb80a1e",
   "execution_count": 109
  },
  {
   "cell_type": "code",
   "outputs": [
    {
     "data": {
      "text/plain": "        tokens labels  preds losses\n0          ▁''  B-ORG      O   8.49\n1            8    IGN      O   0.00\n2            .    IGN      O   0.00\n3        ▁Juli  I-ORG      O   8.87\n4          ▁''  I-ORG      O   9.19\n5           ▁:  I-ORG      O   9.32\n6     ▁Protest  I-ORG      O   7.42\n7         camp    IGN      O   0.00\n8         ▁auf  I-ORG      O   7.31\n9         ▁dem  I-ORG      O   9.26\n10    ▁Gelände  I-ORG      O   8.09\n11        ▁der  I-ORG      O   5.87\n12  ▁Republika  I-ORG  B-ORG   5.19\n13           n    IGN  I-ORG   0.00\n14      ischen    IGN  I-ORG   0.00\n15        ▁Gar  I-ORG  I-ORG   0.01\n16          de    IGN  I-ORG   0.00",
      "text/html": "<div>\n<style scoped>\n    .dataframe tbody tr th:only-of-type {\n        vertical-align: middle;\n    }\n\n    .dataframe tbody tr th {\n        vertical-align: top;\n    }\n\n    .dataframe thead th {\n        text-align: right;\n    }\n</style>\n<table border=\"1\" class=\"dataframe\">\n  <thead>\n    <tr style=\"text-align: right;\">\n      <th></th>\n      <th>tokens</th>\n      <th>labels</th>\n      <th>preds</th>\n      <th>losses</th>\n    </tr>\n  </thead>\n  <tbody>\n    <tr>\n      <th>0</th>\n      <td>▁''</td>\n      <td>B-ORG</td>\n      <td>O</td>\n      <td>8.49</td>\n    </tr>\n    <tr>\n      <th>1</th>\n      <td>8</td>\n      <td>IGN</td>\n      <td>O</td>\n      <td>0.00</td>\n    </tr>\n    <tr>\n      <th>2</th>\n      <td>.</td>\n      <td>IGN</td>\n      <td>O</td>\n      <td>0.00</td>\n    </tr>\n    <tr>\n      <th>3</th>\n      <td>▁Juli</td>\n      <td>I-ORG</td>\n      <td>O</td>\n      <td>8.87</td>\n    </tr>\n    <tr>\n      <th>4</th>\n      <td>▁''</td>\n      <td>I-ORG</td>\n      <td>O</td>\n      <td>9.19</td>\n    </tr>\n    <tr>\n      <th>5</th>\n      <td>▁:</td>\n      <td>I-ORG</td>\n      <td>O</td>\n      <td>9.32</td>\n    </tr>\n    <tr>\n      <th>6</th>\n      <td>▁Protest</td>\n      <td>I-ORG</td>\n      <td>O</td>\n      <td>7.42</td>\n    </tr>\n    <tr>\n      <th>7</th>\n      <td>camp</td>\n      <td>IGN</td>\n      <td>O</td>\n      <td>0.00</td>\n    </tr>\n    <tr>\n      <th>8</th>\n      <td>▁auf</td>\n      <td>I-ORG</td>\n      <td>O</td>\n      <td>7.31</td>\n    </tr>\n    <tr>\n      <th>9</th>\n      <td>▁dem</td>\n      <td>I-ORG</td>\n      <td>O</td>\n      <td>9.26</td>\n    </tr>\n    <tr>\n      <th>10</th>\n      <td>▁Gelände</td>\n      <td>I-ORG</td>\n      <td>O</td>\n      <td>8.09</td>\n    </tr>\n    <tr>\n      <th>11</th>\n      <td>▁der</td>\n      <td>I-ORG</td>\n      <td>O</td>\n      <td>5.87</td>\n    </tr>\n    <tr>\n      <th>12</th>\n      <td>▁Republika</td>\n      <td>I-ORG</td>\n      <td>B-ORG</td>\n      <td>5.19</td>\n    </tr>\n    <tr>\n      <th>13</th>\n      <td>n</td>\n      <td>IGN</td>\n      <td>I-ORG</td>\n      <td>0.00</td>\n    </tr>\n    <tr>\n      <th>14</th>\n      <td>ischen</td>\n      <td>IGN</td>\n      <td>I-ORG</td>\n      <td>0.00</td>\n    </tr>\n    <tr>\n      <th>15</th>\n      <td>▁Gar</td>\n      <td>I-ORG</td>\n      <td>I-ORG</td>\n      <td>0.01</td>\n    </tr>\n    <tr>\n      <th>16</th>\n      <td>de</td>\n      <td>IGN</td>\n      <td>I-ORG</td>\n      <td>0.00</td>\n    </tr>\n  </tbody>\n</table>\n</div>"
     },
     "metadata": {},
     "output_type": "display_data"
    },
    {
     "data": {
      "text/plain": "   tokens labels  preds losses\n0      ▁'      O      O   0.00\n1     ▁''      O      O   0.00\n2      ▁Τ      O  B-ORG   4.70\n3       Κ    IGN  I-ORG   0.00\n4     ▁''      O      O   0.00\n5      ▁'      O      O   0.00\n6      ▁'  B-LOC      O  10.37\n7     ▁''  I-LOC      O   9.84\n8      ▁T  I-LOC      O   7.01\n9     ▁''  I-LOC      O   5.09\n10     ▁'  I-LOC      O   5.45\n11     ri    IGN      O   0.00\n12    ▁''  I-LOC      O   4.60\n13     ▁'  I-LOC      O   5.42\n14      k    IGN      O   0.00\n15    ▁''  I-LOC      O   7.73\n16     ▁'  I-LOC      O   7.29\n17    ala    IGN      O   0.00",
      "text/html": "<div>\n<style scoped>\n    .dataframe tbody tr th:only-of-type {\n        vertical-align: middle;\n    }\n\n    .dataframe tbody tr th {\n        vertical-align: top;\n    }\n\n    .dataframe thead th {\n        text-align: right;\n    }\n</style>\n<table border=\"1\" class=\"dataframe\">\n  <thead>\n    <tr style=\"text-align: right;\">\n      <th></th>\n      <th>tokens</th>\n      <th>labels</th>\n      <th>preds</th>\n      <th>losses</th>\n    </tr>\n  </thead>\n  <tbody>\n    <tr>\n      <th>0</th>\n      <td>▁'</td>\n      <td>O</td>\n      <td>O</td>\n      <td>0.00</td>\n    </tr>\n    <tr>\n      <th>1</th>\n      <td>▁''</td>\n      <td>O</td>\n      <td>O</td>\n      <td>0.00</td>\n    </tr>\n    <tr>\n      <th>2</th>\n      <td>▁Τ</td>\n      <td>O</td>\n      <td>B-ORG</td>\n      <td>4.70</td>\n    </tr>\n    <tr>\n      <th>3</th>\n      <td>Κ</td>\n      <td>IGN</td>\n      <td>I-ORG</td>\n      <td>0.00</td>\n    </tr>\n    <tr>\n      <th>4</th>\n      <td>▁''</td>\n      <td>O</td>\n      <td>O</td>\n      <td>0.00</td>\n    </tr>\n    <tr>\n      <th>5</th>\n      <td>▁'</td>\n      <td>O</td>\n      <td>O</td>\n      <td>0.00</td>\n    </tr>\n    <tr>\n      <th>6</th>\n      <td>▁'</td>\n      <td>B-LOC</td>\n      <td>O</td>\n      <td>10.37</td>\n    </tr>\n    <tr>\n      <th>7</th>\n      <td>▁''</td>\n      <td>I-LOC</td>\n      <td>O</td>\n      <td>9.84</td>\n    </tr>\n    <tr>\n      <th>8</th>\n      <td>▁T</td>\n      <td>I-LOC</td>\n      <td>O</td>\n      <td>7.01</td>\n    </tr>\n    <tr>\n      <th>9</th>\n      <td>▁''</td>\n      <td>I-LOC</td>\n      <td>O</td>\n      <td>5.09</td>\n    </tr>\n    <tr>\n      <th>10</th>\n      <td>▁'</td>\n      <td>I-LOC</td>\n      <td>O</td>\n      <td>5.45</td>\n    </tr>\n    <tr>\n      <th>11</th>\n      <td>ri</td>\n      <td>IGN</td>\n      <td>O</td>\n      <td>0.00</td>\n    </tr>\n    <tr>\n      <th>12</th>\n      <td>▁''</td>\n      <td>I-LOC</td>\n      <td>O</td>\n      <td>4.60</td>\n    </tr>\n    <tr>\n      <th>13</th>\n      <td>▁'</td>\n      <td>I-LOC</td>\n      <td>O</td>\n      <td>5.42</td>\n    </tr>\n    <tr>\n      <th>14</th>\n      <td>k</td>\n      <td>IGN</td>\n      <td>O</td>\n      <td>0.00</td>\n    </tr>\n    <tr>\n      <th>15</th>\n      <td>▁''</td>\n      <td>I-LOC</td>\n      <td>O</td>\n      <td>7.73</td>\n    </tr>\n    <tr>\n      <th>16</th>\n      <td>▁'</td>\n      <td>I-LOC</td>\n      <td>O</td>\n      <td>7.29</td>\n    </tr>\n    <tr>\n      <th>17</th>\n      <td>ala</td>\n      <td>IGN</td>\n      <td>O</td>\n      <td>0.00</td>\n    </tr>\n  </tbody>\n</table>\n</div>"
     },
     "metadata": {},
     "output_type": "display_data"
    },
    {
     "data": {
      "text/plain": "         tokens labels  preds losses\n0       ▁United  B-PER  B-ORG   5.68\n1      ▁Nations  I-PER  I-ORG   5.54\n2        ▁Multi  I-PER  I-ORG   5.72\n3   dimensional    IGN  I-ORG   0.00\n4      ▁Integra  I-PER  I-ORG   5.67\n5           ted    IGN  I-ORG   0.00\n6       ▁Stabil  I-PER  I-ORG   5.29\n7       ization    IGN  I-ORG   0.00\n8      ▁Mission  I-PER  I-ORG   5.11\n9           ▁in  I-PER  I-ORG   4.87\n10         ▁the  I-PER  I-ORG   5.04\n11     ▁Central  I-PER  I-ORG   5.40\n12     ▁African  I-PER  I-ORG   5.61\n13    ▁Republic  I-PER  I-ORG   5.45",
      "text/html": "<div>\n<style scoped>\n    .dataframe tbody tr th:only-of-type {\n        vertical-align: middle;\n    }\n\n    .dataframe tbody tr th {\n        vertical-align: top;\n    }\n\n    .dataframe thead th {\n        text-align: right;\n    }\n</style>\n<table border=\"1\" class=\"dataframe\">\n  <thead>\n    <tr style=\"text-align: right;\">\n      <th></th>\n      <th>tokens</th>\n      <th>labels</th>\n      <th>preds</th>\n      <th>losses</th>\n    </tr>\n  </thead>\n  <tbody>\n    <tr>\n      <th>0</th>\n      <td>▁United</td>\n      <td>B-PER</td>\n      <td>B-ORG</td>\n      <td>5.68</td>\n    </tr>\n    <tr>\n      <th>1</th>\n      <td>▁Nations</td>\n      <td>I-PER</td>\n      <td>I-ORG</td>\n      <td>5.54</td>\n    </tr>\n    <tr>\n      <th>2</th>\n      <td>▁Multi</td>\n      <td>I-PER</td>\n      <td>I-ORG</td>\n      <td>5.72</td>\n    </tr>\n    <tr>\n      <th>3</th>\n      <td>dimensional</td>\n      <td>IGN</td>\n      <td>I-ORG</td>\n      <td>0.00</td>\n    </tr>\n    <tr>\n      <th>4</th>\n      <td>▁Integra</td>\n      <td>I-PER</td>\n      <td>I-ORG</td>\n      <td>5.67</td>\n    </tr>\n    <tr>\n      <th>5</th>\n      <td>ted</td>\n      <td>IGN</td>\n      <td>I-ORG</td>\n      <td>0.00</td>\n    </tr>\n    <tr>\n      <th>6</th>\n      <td>▁Stabil</td>\n      <td>I-PER</td>\n      <td>I-ORG</td>\n      <td>5.29</td>\n    </tr>\n    <tr>\n      <th>7</th>\n      <td>ization</td>\n      <td>IGN</td>\n      <td>I-ORG</td>\n      <td>0.00</td>\n    </tr>\n    <tr>\n      <th>8</th>\n      <td>▁Mission</td>\n      <td>I-PER</td>\n      <td>I-ORG</td>\n      <td>5.11</td>\n    </tr>\n    <tr>\n      <th>9</th>\n      <td>▁in</td>\n      <td>I-PER</td>\n      <td>I-ORG</td>\n      <td>4.87</td>\n    </tr>\n    <tr>\n      <th>10</th>\n      <td>▁the</td>\n      <td>I-PER</td>\n      <td>I-ORG</td>\n      <td>5.04</td>\n    </tr>\n    <tr>\n      <th>11</th>\n      <td>▁Central</td>\n      <td>I-PER</td>\n      <td>I-ORG</td>\n      <td>5.40</td>\n    </tr>\n    <tr>\n      <th>12</th>\n      <td>▁African</td>\n      <td>I-PER</td>\n      <td>I-ORG</td>\n      <td>5.61</td>\n    </tr>\n    <tr>\n      <th>13</th>\n      <td>▁Republic</td>\n      <td>I-PER</td>\n      <td>I-ORG</td>\n      <td>5.45</td>\n    </tr>\n  </tbody>\n</table>\n</div>"
     },
     "metadata": {},
     "output_type": "display_data"
    }
   ],
   "source": [
    "def get_samples(df):\n",
    "    for _, row in df.iterrows():\n",
    "        labels, preds, tokens, losses = [], [], [], []\n",
    "        for i, mask in enumerate(row['attention_mask'][:-1]):\n",
    "            if i > 0:\n",
    "                labels.append(row[\"labels\"][i])\n",
    "                preds.append(row[\"predicted_label\"][i])\n",
    "                tokens.append(row[\"input_tokens\"][i])\n",
    "                losses.append(f\"{row['loss'][i]:.2f}\")\n",
    "        df_tmp = pd.DataFrame({\"tokens\": tokens, \"labels\": labels, \n",
    "                               \"preds\": preds, \"losses\": losses})\n",
    "        yield df_tmp\n",
    "\n",
    "df['total_loss'] = df['loss'].apply(sum)\n",
    "df_tmp = df.sort_values(by='total_loss', ascending=False).head(3)\n",
    "\n",
    "for sample in get_samples(df_tmp):\n",
    "    display(sample)"
   ],
   "metadata": {
    "collapsed": false,
    "ExecuteTime": {
     "end_time": "2023-12-23T18:05:30.163760600Z",
     "start_time": "2023-12-23T18:05:30.148584415Z"
    }
   },
   "id": "af5f324f57b3dda0",
   "execution_count": 111
  },
  {
   "cell_type": "code",
   "outputs": [],
   "source": [],
   "metadata": {
    "collapsed": false
   },
   "id": "b68e7f689df12202"
  }
 ],
 "metadata": {
  "kernelspec": {
   "display_name": "Python 3",
   "language": "python",
   "name": "python3"
  },
  "language_info": {
   "codemirror_mode": {
    "name": "ipython",
    "version": 2
   },
   "file_extension": ".py",
   "mimetype": "text/x-python",
   "name": "python",
   "nbconvert_exporter": "python",
   "pygments_lexer": "ipython2",
   "version": "2.7.6"
  }
 },
 "nbformat": 4,
 "nbformat_minor": 5
}
