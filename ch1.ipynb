{
 "cells": [
  {
   "cell_type": "code",
   "execution_count": 1,
   "id": "initial_id",
   "metadata": {
    "collapsed": true,
    "ExecuteTime": {
     "end_time": "2023-12-19T11:07:54.467954168Z",
     "start_time": "2023-12-19T11:07:53.236017028Z"
    }
   },
   "outputs": [],
   "source": [
    "import pandas as pd\n",
    "from transformers import pipeline"
   ]
  },
  {
   "cell_type": "code",
   "execution_count": 2,
   "outputs": [],
   "source": [
    "text = \"\"\"Dear Amazon, last week I ordered an Optimus Prime action figure \\\n",
    "from your online store in Germany. Unfortunately, when I opened the package, \\\n",
    "I discovered to my horror that I had been sent an action figure of Megatron \\\n",
    "instead! As a lifelong enemy of the Decepticons, I hope you can understand my \\\n",
    "dilemma. To resolve the issue, I demand an exchange of Megatron for the \\\n",
    "Optimus Prime figure I ordered. Enclosed are copies of my records concerning \\\n",
    "this purchase. I expect to hear from you soon. Sincerely, Bumblebee.\"\"\""
   ],
   "metadata": {
    "collapsed": false,
    "ExecuteTime": {
     "end_time": "2023-12-19T11:07:54.470564207Z",
     "start_time": "2023-12-19T11:07:54.468911635Z"
    }
   },
   "id": "6c3d91a82f4ee53b"
  },
  {
   "cell_type": "code",
   "execution_count": 3,
   "outputs": [
    {
     "name": "stderr",
     "output_type": "stream",
     "text": [
      "No model was supplied, defaulted to distilbert-base-uncased-finetuned-sst-2-english and revision af0f99b (https://huggingface.co/distilbert-base-uncased-finetuned-sst-2-english).\n",
      "Using a pipeline without specifying a model name and revision in production is not recommended.\n"
     ]
    }
   ],
   "source": [
    "classifier = pipeline('text-classification')"
   ],
   "metadata": {
    "collapsed": false,
    "ExecuteTime": {
     "end_time": "2023-12-19T11:07:54.725629846Z",
     "start_time": "2023-12-19T11:07:54.472045528Z"
    }
   },
   "id": "483805ebbe3a0ed1"
  },
  {
   "cell_type": "code",
   "execution_count": 4,
   "outputs": [
    {
     "data": {
      "text/plain": "      label     score\n0  NEGATIVE  0.901546",
      "text/html": "<div>\n<style scoped>\n    .dataframe tbody tr th:only-of-type {\n        vertical-align: middle;\n    }\n\n    .dataframe tbody tr th {\n        vertical-align: top;\n    }\n\n    .dataframe thead th {\n        text-align: right;\n    }\n</style>\n<table border=\"1\" class=\"dataframe\">\n  <thead>\n    <tr style=\"text-align: right;\">\n      <th></th>\n      <th>label</th>\n      <th>score</th>\n    </tr>\n  </thead>\n  <tbody>\n    <tr>\n      <th>0</th>\n      <td>NEGATIVE</td>\n      <td>0.901546</td>\n    </tr>\n  </tbody>\n</table>\n</div>"
     },
     "execution_count": 4,
     "metadata": {},
     "output_type": "execute_result"
    }
   ],
   "source": [
    "outputs = classifier(text)\n",
    "pd.DataFrame(outputs)"
   ],
   "metadata": {
    "collapsed": false,
    "ExecuteTime": {
     "end_time": "2023-12-19T11:07:54.877050803Z",
     "start_time": "2023-12-19T11:07:54.726143220Z"
    }
   },
   "id": "ddd64dfc17f76311"
  },
  {
   "cell_type": "code",
   "execution_count": 5,
   "outputs": [
    {
     "name": "stderr",
     "output_type": "stream",
     "text": [
      "No model was supplied, defaulted to dbmdz/bert-large-cased-finetuned-conll03-english and revision f2482bf (https://huggingface.co/dbmdz/bert-large-cased-finetuned-conll03-english).\n",
      "Using a pipeline without specifying a model name and revision in production is not recommended.\n",
      "Some weights of the model checkpoint at dbmdz/bert-large-cased-finetuned-conll03-english were not used when initializing BertForTokenClassification: ['bert.pooler.dense.bias', 'bert.pooler.dense.weight']\n",
      "- This IS expected if you are initializing BertForTokenClassification from the checkpoint of a model trained on another task or with another architecture (e.g. initializing a BertForSequenceClassification model from a BertForPreTraining model).\n",
      "- This IS NOT expected if you are initializing BertForTokenClassification from the checkpoint of a model that you expect to be exactly identical (initializing a BertForSequenceClassification model from a BertForSequenceClassification model).\n"
     ]
    }
   ],
   "source": [
    "ner_tagger = pipeline('token-classification', aggregation_strategy='simple')"
   ],
   "metadata": {
    "collapsed": false,
    "ExecuteTime": {
     "end_time": "2023-12-19T11:07:55.200755483Z",
     "start_time": "2023-12-19T11:07:54.878725626Z"
    }
   },
   "id": "30fcad5e68564ba5"
  },
  {
   "cell_type": "code",
   "execution_count": 6,
   "outputs": [
    {
     "data": {
      "text/plain": "  entity_group     score           word  start  end\n0          ORG  0.879010         Amazon      5   11\n1         MISC  0.990859  Optimus Prime     36   49\n2          LOC  0.999755        Germany     90   97\n3         MISC  0.556571           Mega    208  212\n4          PER  0.590255         ##tron    212  216\n5          ORG  0.669692         Decept    253  259\n6         MISC  0.498349        ##icons    259  264\n7         MISC  0.775362       Megatron    350  358\n8         MISC  0.987854  Optimus Prime    367  380\n9          PER  0.812096      Bumblebee    502  511",
      "text/html": "<div>\n<style scoped>\n    .dataframe tbody tr th:only-of-type {\n        vertical-align: middle;\n    }\n\n    .dataframe tbody tr th {\n        vertical-align: top;\n    }\n\n    .dataframe thead th {\n        text-align: right;\n    }\n</style>\n<table border=\"1\" class=\"dataframe\">\n  <thead>\n    <tr style=\"text-align: right;\">\n      <th></th>\n      <th>entity_group</th>\n      <th>score</th>\n      <th>word</th>\n      <th>start</th>\n      <th>end</th>\n    </tr>\n  </thead>\n  <tbody>\n    <tr>\n      <th>0</th>\n      <td>ORG</td>\n      <td>0.879010</td>\n      <td>Amazon</td>\n      <td>5</td>\n      <td>11</td>\n    </tr>\n    <tr>\n      <th>1</th>\n      <td>MISC</td>\n      <td>0.990859</td>\n      <td>Optimus Prime</td>\n      <td>36</td>\n      <td>49</td>\n    </tr>\n    <tr>\n      <th>2</th>\n      <td>LOC</td>\n      <td>0.999755</td>\n      <td>Germany</td>\n      <td>90</td>\n      <td>97</td>\n    </tr>\n    <tr>\n      <th>3</th>\n      <td>MISC</td>\n      <td>0.556571</td>\n      <td>Mega</td>\n      <td>208</td>\n      <td>212</td>\n    </tr>\n    <tr>\n      <th>4</th>\n      <td>PER</td>\n      <td>0.590255</td>\n      <td>##tron</td>\n      <td>212</td>\n      <td>216</td>\n    </tr>\n    <tr>\n      <th>5</th>\n      <td>ORG</td>\n      <td>0.669692</td>\n      <td>Decept</td>\n      <td>253</td>\n      <td>259</td>\n    </tr>\n    <tr>\n      <th>6</th>\n      <td>MISC</td>\n      <td>0.498349</td>\n      <td>##icons</td>\n      <td>259</td>\n      <td>264</td>\n    </tr>\n    <tr>\n      <th>7</th>\n      <td>MISC</td>\n      <td>0.775362</td>\n      <td>Megatron</td>\n      <td>350</td>\n      <td>358</td>\n    </tr>\n    <tr>\n      <th>8</th>\n      <td>MISC</td>\n      <td>0.987854</td>\n      <td>Optimus Prime</td>\n      <td>367</td>\n      <td>380</td>\n    </tr>\n    <tr>\n      <th>9</th>\n      <td>PER</td>\n      <td>0.812096</td>\n      <td>Bumblebee</td>\n      <td>502</td>\n      <td>511</td>\n    </tr>\n  </tbody>\n</table>\n</div>"
     },
     "execution_count": 6,
     "metadata": {},
     "output_type": "execute_result"
    }
   ],
   "source": [
    "outputs = ner_tagger(text)\n",
    "pd.DataFrame(outputs)"
   ],
   "metadata": {
    "collapsed": false,
    "ExecuteTime": {
     "end_time": "2023-12-19T11:07:55.385292986Z",
     "start_time": "2023-12-19T11:07:55.201664469Z"
    }
   },
   "id": "7ac5669d0601246a"
  },
  {
   "cell_type": "code",
   "execution_count": 7,
   "outputs": [
    {
     "name": "stderr",
     "output_type": "stream",
     "text": [
      "No model was supplied, defaulted to distilbert-base-cased-distilled-squad and revision 626af31 (https://huggingface.co/distilbert-base-cased-distilled-squad).\n",
      "Using a pipeline without specifying a model name and revision in production is not recommended.\n"
     ]
    }
   ],
   "source": [
    "reader = pipeline('question-answering')"
   ],
   "metadata": {
    "collapsed": false,
    "ExecuteTime": {
     "end_time": "2023-12-19T11:07:55.931794994Z",
     "start_time": "2023-12-19T11:07:55.386564046Z"
    }
   },
   "id": "2f84ac0b614101d2"
  },
  {
   "cell_type": "code",
   "execution_count": 8,
   "outputs": [
    {
     "data": {
      "text/plain": "      score  start  end       answer\n0  0.862722    253  264  Decepticons",
      "text/html": "<div>\n<style scoped>\n    .dataframe tbody tr th:only-of-type {\n        vertical-align: middle;\n    }\n\n    .dataframe tbody tr th {\n        vertical-align: top;\n    }\n\n    .dataframe thead th {\n        text-align: right;\n    }\n</style>\n<table border=\"1\" class=\"dataframe\">\n  <thead>\n    <tr style=\"text-align: right;\">\n      <th></th>\n      <th>score</th>\n      <th>start</th>\n      <th>end</th>\n      <th>answer</th>\n    </tr>\n  </thead>\n  <tbody>\n    <tr>\n      <th>0</th>\n      <td>0.862722</td>\n      <td>253</td>\n      <td>264</td>\n      <td>Decepticons</td>\n    </tr>\n  </tbody>\n</table>\n</div>"
     },
     "execution_count": 8,
     "metadata": {},
     "output_type": "execute_result"
    }
   ],
   "source": [
    "question = \"What faction is Megatron?\"\n",
    "outputs = reader(question=question, context=text)\n",
    "pd.DataFrame([outputs])"
   ],
   "metadata": {
    "collapsed": false,
    "ExecuteTime": {
     "end_time": "2023-12-19T11:07:55.966078700Z",
     "start_time": "2023-12-19T11:07:55.932255937Z"
    }
   },
   "id": "e48f92ba919a0209"
  },
  {
   "cell_type": "code",
   "execution_count": 9,
   "outputs": [
    {
     "name": "stderr",
     "output_type": "stream",
     "text": [
      "No model was supplied, defaulted to sshleifer/distilbart-cnn-12-6 and revision a4f8f3e (https://huggingface.co/sshleifer/distilbart-cnn-12-6).\n",
      "Using a pipeline without specifying a model name and revision in production is not recommended.\n"
     ]
    }
   ],
   "source": [
    "summariser = pipeline('summarization')"
   ],
   "metadata": {
    "collapsed": false,
    "ExecuteTime": {
     "end_time": "2023-12-19T11:07:57.225309222Z",
     "start_time": "2023-12-19T11:07:55.967571021Z"
    }
   },
   "id": "abb17ceb743c1c1"
  },
  {
   "cell_type": "code",
   "execution_count": 15,
   "outputs": [
    {
     "data": {
      "text/plain": "[{'summary_text': ' Bumblebee ordered an Optimus Prime action figure from your online store in Germany. Unfortunately, when I opened the package, I discovered to my horror that I had been sent an action figure of Megatron instead.'}]"
     },
     "execution_count": 15,
     "metadata": {},
     "output_type": "execute_result"
    }
   ],
   "source": [
    "outputs = summariser(text, min_length=10, max_length=45, clean_up_tokenization_spaces=True)\n",
    "outputs"
   ],
   "metadata": {
    "collapsed": false,
    "ExecuteTime": {
     "end_time": "2023-12-19T11:09:05.635618895Z",
     "start_time": "2023-12-19T11:09:04.366208996Z"
    }
   },
   "id": "96d21c3f3b0fa88d"
  },
  {
   "cell_type": "code",
   "execution_count": 12,
   "outputs": [],
   "source": [
    "translator = pipeline('translation_en_to_de', model='Helsinki-NLP/opus-mt-en-de')"
   ],
   "metadata": {
    "collapsed": false,
    "ExecuteTime": {
     "end_time": "2023-12-19T11:08:29.275252471Z",
     "start_time": "2023-12-19T11:08:28.170822390Z"
    }
   },
   "id": "4114be5d18a65e87"
  },
  {
   "cell_type": "code",
   "execution_count": 14,
   "outputs": [
    {
     "data": {
      "text/plain": "[{'translation_text': 'Sehr geehrter Amazon, letzte Woche habe ich eine Optimus Prime Action Figur aus Ihrem Online-Shop in Deutschland bestellt. Leider, als ich das Paket öffnete, entdeckte ich zu meinem Entsetzen, dass ich stattdessen eine Action Figur von Megatron geschickt worden war! Als lebenslanger Feind der Decepticons, Ich hoffe, Sie können mein Dilemma verstehen. Um das Problem zu lösen, Ich fordere einen Austausch von Megatron für die Optimus Prime Figur habe ich bestellt. Eingeschlossen sind Kopien meiner Aufzeichnungen über diesen Kauf. Ich erwarte, von Ihnen bald zu hören. Aufrichtig, Bumblebee.'}]"
     },
     "execution_count": 14,
     "metadata": {},
     "output_type": "execute_result"
    }
   ],
   "source": [
    "outputs = translator(text, clean_up_tokenization_spaces=True, min_length=100)\n",
    "outputs"
   ],
   "metadata": {
    "collapsed": false,
    "ExecuteTime": {
     "end_time": "2023-12-19T11:09:02.148793790Z",
     "start_time": "2023-12-19T11:09:00.294575188Z"
    }
   },
   "id": "aef3b4b0f601c62f"
  },
  {
   "cell_type": "code",
   "execution_count": 16,
   "outputs": [
    {
     "name": "stderr",
     "output_type": "stream",
     "text": [
      "No model was supplied, defaulted to gpt2 and revision 6c0e608 (https://huggingface.co/gpt2).\n",
      "Using a pipeline without specifying a model name and revision in production is not recommended.\n"
     ]
    },
    {
     "data": {
      "text/plain": "config.json:   0%|          | 0.00/665 [00:00<?, ?B/s]",
      "application/vnd.jupyter.widget-view+json": {
       "version_major": 2,
       "version_minor": 0,
       "model_id": "d75d6780503842e2a755db36aa3b334d"
      }
     },
     "metadata": {},
     "output_type": "display_data"
    },
    {
     "data": {
      "text/plain": "model.safetensors:   0%|          | 0.00/548M [00:00<?, ?B/s]",
      "application/vnd.jupyter.widget-view+json": {
       "version_major": 2,
       "version_minor": 0,
       "model_id": "f84e06bdf376425e8a5f7a22d3d615c1"
      }
     },
     "metadata": {},
     "output_type": "display_data"
    },
    {
     "data": {
      "text/plain": "generation_config.json:   0%|          | 0.00/124 [00:00<?, ?B/s]",
      "application/vnd.jupyter.widget-view+json": {
       "version_major": 2,
       "version_minor": 0,
       "model_id": "2257d531d08b4cc49903df9f9c086b97"
      }
     },
     "metadata": {},
     "output_type": "display_data"
    },
    {
     "data": {
      "text/plain": "vocab.json:   0%|          | 0.00/1.04M [00:00<?, ?B/s]",
      "application/vnd.jupyter.widget-view+json": {
       "version_major": 2,
       "version_minor": 0,
       "model_id": "7ddbfb050d344ba988f0c75e68664de7"
      }
     },
     "metadata": {},
     "output_type": "display_data"
    },
    {
     "data": {
      "text/plain": "merges.txt:   0%|          | 0.00/456k [00:00<?, ?B/s]",
      "application/vnd.jupyter.widget-view+json": {
       "version_major": 2,
       "version_minor": 0,
       "model_id": "94f8f8acb09e4261b5ff785e58e746ea"
      }
     },
     "metadata": {},
     "output_type": "display_data"
    },
    {
     "data": {
      "text/plain": "tokenizer.json:   0%|          | 0.00/1.36M [00:00<?, ?B/s]",
      "application/vnd.jupyter.widget-view+json": {
       "version_major": 2,
       "version_minor": 0,
       "model_id": "eb8b87712a3348fe889b035aa1f8cfde"
      }
     },
     "metadata": {},
     "output_type": "display_data"
    }
   ],
   "source": [
    "generator = pipeline('text-generation')"
   ],
   "metadata": {
    "collapsed": false,
    "ExecuteTime": {
     "end_time": "2023-12-19T11:10:03.222226889Z",
     "start_time": "2023-12-19T11:09:30.151355291Z"
    }
   },
   "id": "31c28ea281d1c737"
  },
  {
   "cell_type": "code",
   "execution_count": 23,
   "outputs": [
    {
     "name": "stderr",
     "output_type": "stream",
     "text": [
      "Setting `pad_token_id` to `eos_token_id`:50256 for open-end generation.\n"
     ]
    },
    {
     "name": "stdout",
     "output_type": "stream",
     "text": [
      "Dear Amazon, last week I ordered an Optimus Prime action figure from your online store in Germany. Unfortunately, when I opened the package, I discovered to my horror that I had been sent an action figure of Megatron instead! As a lifelong enemy of the Decepticons, I hope you can understand my dilemma. To resolve the issue, I demand an exchange of Megatron for the Optimus Prime figure I ordered. Enclosed are copies of my records concerning this purchase. I expect to hear from you soon. Sincerely, Bumblebee.\n",
      "\n",
      " Response:\n",
      "Hey bud, get over it. I'm sorry I got so attached to you. I thought I knew where to start with this one... and my question is... why do you keep buying all those Transformers toys from other stores? You know, the one you've purchased in the last few months? It's not a good look. I have to use them. I mean, they're pretty awesome. They're expensive, but you know. They add up. They keep shipping, but this is the exact time I have to use them. That's one heck of a time. (laughs). The point of the question was to say, \"Hey, that's just a quick way that I can tell you a little bit of what to do about that...'\" (laughs). (laughs) If you have to spend so much time making a decision it feels like you're doing it at the wrong time. Now if I knew earlier what I needed to happen, I may have done the same thing. You will need to find the right amount of time or change plan. I think, if I had to, you would have started by asking, \"What do you really need to change when you spend 20-30 minutes explaining what I'm doing to your friends\" (laughs). If, in reality, you don't want to buy something, just take things with a grain of salt. (laughs). So, I just keep the options open... unless I make a decision that I don't believe is right, I'm pretty pissed. I could try to talk to my friends and explain anything. If they want to use that information, I'll see if I can get into what they already have to work with.\n",
      "\n",
      "\n",
      "Your other question: I've been using the Transformers figurines (and the figures) so far. Why did you decide to get those different colors in the toys? Or, specifically, their different materials?\n",
      "\n",
      "\n",
      "Response: You just asked. I've been using them every single day since the first Transformers movie came out. They're pretty much awesome. I like them and they're not too bad. But they just add some color to your collection.\n",
      "\n",
      "\n",
      "Okay you're right. I've gotten a lot of requests for the Transformer figurines from other fans, like you've got them in my gallery and I was like... \"Sorry about your question, but I won't be able to get them at the retail store for you, so please get some rest assured of the quality of my collectibles.\" Like I don't have any good time here in the store. I'll take a day off, and then you can order them (or not order them at all). Thanks.\n",
      "\n",
      "reply by\n",
      "\n",
      "Hi, bumblebee I've been using these figurines all day for the last few months. I don't know if you like that they show a little of both. I just feel like this is a \"cool\" piece. I can't find the Transformers figurines online yet and I don't have a local set of \"Transformers/The Matrix\" sets. So... I'm trying to find them.\n",
      "\n",
      "\n",
      "Response:\n",
      "\n",
      "\n",
      "I will be starting with the Black and Grey of the first Transformers movie. Thanks for the tip. Can you help? Good. Thanks for the tip.\n",
      "\n",
      "\n",
      "I will try the third film and finally see if my collection works for me. I would like to know what is in the collection and, honestly, as much as I love the film as an actor that I have to have some really good experience to give to my family. Please post them all in the comments. You may like the first four or five movie.\n",
      "\n",
      "\n",
      "Thank You Very Merry Christmas\n",
      "\n",
      "Reply by\n",
      "\n",
      "I was not sure if the new movie would include the Transformers toys. I'm not sure if there is any kind of trade secret between the Transformers 2 films and the Transformers 3 films. I just feel like it's way too much to give up on either action or character.\n",
      "\n",
      "\n",
      "Thanks very much, bud.\n",
      "\n",
      "Reply by\n",
      "\n",
      "Dear Bumblebee, I recently ordered a Decepticon action figure for some collection of figures. One of them came with the movie's trailer and one didn't. To my horror though, the figure looked terrible and made my hands hurt (hmmm ). In the movie\n"
     ]
    }
   ],
   "source": [
    "response = 'Hey bud, get over'\n",
    "prompt = text + '\\n\\n Response:\\n' + response\n",
    "outputs = generator(prompt, max_length=500)\n",
    "print(outputs[0]['generated_text'])"
   ],
   "metadata": {
    "collapsed": false,
    "ExecuteTime": {
     "end_time": "2023-12-19T11:15:43.470325387Z",
     "start_time": "2023-12-19T11:15:22.772521048Z"
    }
   },
   "id": "74f022b78ba5cbb0"
  },
  {
   "cell_type": "code",
   "execution_count": null,
   "outputs": [],
   "source": [],
   "metadata": {
    "collapsed": false
   },
   "id": "7c725fb32ca6f327"
  }
 ],
 "metadata": {
  "kernelspec": {
   "display_name": "Python 3",
   "language": "python",
   "name": "python3"
  },
  "language_info": {
   "codemirror_mode": {
    "name": "ipython",
    "version": 2
   },
   "file_extension": ".py",
   "mimetype": "text/x-python",
   "name": "python",
   "nbconvert_exporter": "python",
   "pygments_lexer": "ipython2",
   "version": "2.7.6"
  }
 },
 "nbformat": 4,
 "nbformat_minor": 5
}
