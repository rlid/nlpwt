{
 "cells": [
  {
   "cell_type": "code",
   "execution_count": 1,
   "id": "initial_id",
   "metadata": {
    "collapsed": true,
    "ExecuteTime": {
     "end_time": "2024-01-04T17:50:01.298889849Z",
     "start_time": "2024-01-04T17:50:00.300175462Z"
    }
   },
   "outputs": [],
   "source": [
    "import torch\n",
    "from transformers import AutoTokenizer, AutoModelForCausalLM"
   ]
  },
  {
   "cell_type": "code",
   "outputs": [],
   "source": [
    "device = 'cuda' if torch.cuda.is_available() else 'cpu'\n",
    "model_name = 'gpt2-xl'\n",
    "tokenizer = AutoTokenizer.from_pretrained(model_name)\n",
    "model = AutoModelForCausalLM.from_pretrained(model_name).to(device)"
   ],
   "metadata": {
    "collapsed": false,
    "ExecuteTime": {
     "end_time": "2024-01-04T17:50:04.602849690Z",
     "start_time": "2024-01-04T17:50:01.342411553Z"
    }
   },
   "id": "961f5bfbf581af9e",
   "execution_count": 2
  },
  {
   "cell_type": "code",
   "outputs": [
    {
     "data": {
      "text/plain": "                                                Input  \\\n0                2 * 2 => 4 \\n 3 * 3 => 9 \\n 4 * 4 =>   \n1             2 * 2 => 4 \\n 3 * 3 => 9 \\n 4 * 4 => 16   \n2            2 * 2 => 4 \\n 3 * 3 => 9 \\n 4 * 4 => 16    \n3          2 * 2 => 4 \\n 3 * 3 => 9 \\n 4 * 4 => 16 \\n   \n4         2 * 2 => 4 \\n 3 * 3 => 9 \\n 4 * 4 => 16 \\n5   \n5       2 * 2 => 4 \\n 3 * 3 => 9 \\n 4 * 4 => 16 \\n5 *   \n6     2 * 2 => 4 \\n 3 * 3 => 9 \\n 4 * 4 => 16 \\n5 * 5   \n7   2 * 2 => 4 \\n 3 * 3 => 9 \\n 4 * 4 => 16 \\n5 * ...   \n8   2 * 2 => 4 \\n 3 * 3 => 9 \\n 4 * 4 => 16 \\n5 * ...   \n9   2 * 2 => 4 \\n 3 * 3 => 9 \\n 4 * 4 => 16 \\n5 * ...   \n10  2 * 2 => 4 \\n 3 * 3 => 9 \\n 4 * 4 => 16 \\n5 * ...   \n11  2 * 2 => 4 \\n 3 * 3 => 9 \\n 4 * 4 => 16 \\n5 * ...   \n12  2 * 2 => 4 \\n 3 * 3 => 9 \\n 4 * 4 => 16 \\n5 * ...   \n13  2 * 2 => 4 \\n 3 * 3 => 9 \\n 4 * 4 => 16 \\n5 * ...   \n14  2 * 2 => 4 \\n 3 * 3 => 9 \\n 4 * 4 => 16 \\n5 * ...   \n15  2 * 2 => 4 \\n 3 * 3 => 9 \\n 4 * 4 => 16 \\n5 * ...   \n16  2 * 2 => 4 \\n 3 * 3 => 9 \\n 4 * 4 => 16 \\n5 * ...   \n17  2 * 2 => 4 \\n 3 * 3 => 9 \\n 4 * 4 => 16 \\n5 * ...   \n18  2 * 2 => 4 \\n 3 * 3 => 9 \\n 4 * 4 => 16 \\n5 * ...   \n19  2 * 2 => 4 \\n 3 * 3 => 9 \\n 4 * 4 => 16 \\n5 * ...   \n\n                    Choice 1                     Choice 2  \\\n0    16 (0.5489073991775513)     12 (0.09526089578866959)   \n1       (0.9052177667617798)    \\n (0.024326585233211517)   \n2    \\n (0.9029451608657837)        (0.03985169902443886)   \n3     5 (0.2801300287246704)       5 (0.0558336116373539)   \n4     * (0.9780139923095703)      + (0.00706694507971406)   \n5     5 (0.9683599472045898)     6 (0.010205285623669624)   \n6    => (0.9937906861305237)      * (0.00159311736933887)   \n7    24 (0.3271699845790863)     25 (0.31217139959335327)   \n8       (0.9258020520210266)    \\n (0.031201805919408798)   \n9    \\n (0.9474964737892151)       (0.015998559072613716)   \n10     6 (0.755361795425415)      7 (0.01773541048169136)   \n11    * (0.9910548329353333)     * (0.003010036190971732)   \n12    6 (0.9869698286056519)     7 (0.005900366231799126)   \n13   => (0.9980880618095398)   = (0.00023328460520133376)   \n14   36 (0.7649257779121399)      32 (0.1478980928659439)   \n15      (0.9649654626846313)    \\n (0.014655678533017635)   \n16   \\n (0.9579542279243469)       (0.012163670733571053)   \n17    7 (0.8080828785896301)      8 (0.01383980456739664)   \n18     * (0.994999885559082)    * (0.0014313786523416638)   \n19    7 (0.9977602958679199)    8 (0.0007923016673885286)   \n\n                       Choice 3                               Choice 4  \\\n0     18 (0.043359849601984024)              24 (0.041889797896146774)   \n1      * (0.015182982198894024)              ( (0.0033918675035238266)   \n2   \\n\\n (0.014668958261609077)                 (0.007174280472099781)   \n3       4 (0.03202425315976143)               6 (0.027196262031793594)   \n4     * (0.0036543933674693108)              5 (0.0012923500034958124)   \n5     4 (0.0077821253798902035)              3 (0.0026165584567934275)   \n6      = (0.000999870477244258)             , (0.00021603824279736727)   \n7      32 (0.11104805767536163)               23 (0.07964884489774704)   \n8        * (0.0111145731061697)                (0.0023128169123083353)   \n9   \\n\\n (0.012190706096589565)  <|endoftext|> (0.0026497403159737587)   \n10     * (0.011887374334037304)             The (0.008325708098709583)   \n11    + (0.0018838586984202266)              / (0.0010705371387302876)   \n12      (0.0012134409043937922)              6 (0.0007275213720276952)   \n13  => (0.00016989774303510785)             , (0.00011701750190695748)   \n14    30 (0.044921137392520905)              40 (0.013017646037042141)   \n15    * (0.0021420333068817854)                (0.0016480699414387345)   \n16  \\n\\n (0.009636783972382545)  <|endoftext|> (0.0025459323078393936)   \n17     * (0.007944658398628235)               1 (0.006477121729403734)   \n18    / (0.0007820773171260953)              + (0.0005028287996537983)   \n19   7 (0.00047958805225789547)                (0.0001934228785103187)   \n\n                                Choice 5  \n0              15 (0.041859567165374756)  \n1                 (0.002454089932143688)  \n2   <|endoftext|> (0.002584700006991625)  \n3                3 (0.02596486546099186)  \n4              / (0.0012650099815800786)  \n5              7 (0.0023797284811735153)  \n6             \\n (0.0001784874766599387)  \n7               27 (0.04309014976024628)  \n8              ( (0.0014555092202499509)  \n9                (0.0025753716472536325)  \n10             8 (0.0063669197261333466)  \n11            ** (0.0002981922880280763)  \n12             * (0.0006313982303254306)  \n13            ( (0.00011061353143304586)  \n14            31 (0.0060018813237547874)  \n15            00 (0.0013681207783520222)  \n16                (0.002172109205275774)  \n17           The (0.0062242960557341576)  \n18           ** (0.00025938611361198127)  \n19            * (4.5144330215407535e-05)  ",
      "text/html": "<div>\n<style scoped>\n    .dataframe tbody tr th:only-of-type {\n        vertical-align: middle;\n    }\n\n    .dataframe tbody tr th {\n        vertical-align: top;\n    }\n\n    .dataframe thead th {\n        text-align: right;\n    }\n</style>\n<table border=\"1\" class=\"dataframe\">\n  <thead>\n    <tr style=\"text-align: right;\">\n      <th></th>\n      <th>Input</th>\n      <th>Choice 1</th>\n      <th>Choice 2</th>\n      <th>Choice 3</th>\n      <th>Choice 4</th>\n      <th>Choice 5</th>\n    </tr>\n  </thead>\n  <tbody>\n    <tr>\n      <th>0</th>\n      <td>2 * 2 =&gt; 4 \\n 3 * 3 =&gt; 9 \\n 4 * 4 =&gt;</td>\n      <td>16 (0.5489073991775513)</td>\n      <td>12 (0.09526089578866959)</td>\n      <td>18 (0.043359849601984024)</td>\n      <td>24 (0.041889797896146774)</td>\n      <td>15 (0.041859567165374756)</td>\n    </tr>\n    <tr>\n      <th>1</th>\n      <td>2 * 2 =&gt; 4 \\n 3 * 3 =&gt; 9 \\n 4 * 4 =&gt; 16</td>\n      <td>(0.9052177667617798)</td>\n      <td>\\n (0.024326585233211517)</td>\n      <td>* (0.015182982198894024)</td>\n      <td>( (0.0033918675035238266)</td>\n      <td>(0.002454089932143688)</td>\n    </tr>\n    <tr>\n      <th>2</th>\n      <td>2 * 2 =&gt; 4 \\n 3 * 3 =&gt; 9 \\n 4 * 4 =&gt; 16</td>\n      <td>\\n (0.9029451608657837)</td>\n      <td>(0.03985169902443886)</td>\n      <td>\\n\\n (0.014668958261609077)</td>\n      <td>(0.007174280472099781)</td>\n      <td>&lt;|endoftext|&gt; (0.002584700006991625)</td>\n    </tr>\n    <tr>\n      <th>3</th>\n      <td>2 * 2 =&gt; 4 \\n 3 * 3 =&gt; 9 \\n 4 * 4 =&gt; 16 \\n</td>\n      <td>5 (0.2801300287246704)</td>\n      <td>5 (0.0558336116373539)</td>\n      <td>4 (0.03202425315976143)</td>\n      <td>6 (0.027196262031793594)</td>\n      <td>3 (0.02596486546099186)</td>\n    </tr>\n    <tr>\n      <th>4</th>\n      <td>2 * 2 =&gt; 4 \\n 3 * 3 =&gt; 9 \\n 4 * 4 =&gt; 16 \\n5</td>\n      <td>* (0.9780139923095703)</td>\n      <td>+ (0.00706694507971406)</td>\n      <td>* (0.0036543933674693108)</td>\n      <td>5 (0.0012923500034958124)</td>\n      <td>/ (0.0012650099815800786)</td>\n    </tr>\n    <tr>\n      <th>5</th>\n      <td>2 * 2 =&gt; 4 \\n 3 * 3 =&gt; 9 \\n 4 * 4 =&gt; 16 \\n5 *</td>\n      <td>5 (0.9683599472045898)</td>\n      <td>6 (0.010205285623669624)</td>\n      <td>4 (0.0077821253798902035)</td>\n      <td>3 (0.0026165584567934275)</td>\n      <td>7 (0.0023797284811735153)</td>\n    </tr>\n    <tr>\n      <th>6</th>\n      <td>2 * 2 =&gt; 4 \\n 3 * 3 =&gt; 9 \\n 4 * 4 =&gt; 16 \\n5 * 5</td>\n      <td>=&gt; (0.9937906861305237)</td>\n      <td>* (0.00159311736933887)</td>\n      <td>= (0.000999870477244258)</td>\n      <td>, (0.00021603824279736727)</td>\n      <td>\\n (0.0001784874766599387)</td>\n    </tr>\n    <tr>\n      <th>7</th>\n      <td>2 * 2 =&gt; 4 \\n 3 * 3 =&gt; 9 \\n 4 * 4 =&gt; 16 \\n5 * ...</td>\n      <td>24 (0.3271699845790863)</td>\n      <td>25 (0.31217139959335327)</td>\n      <td>32 (0.11104805767536163)</td>\n      <td>23 (0.07964884489774704)</td>\n      <td>27 (0.04309014976024628)</td>\n    </tr>\n    <tr>\n      <th>8</th>\n      <td>2 * 2 =&gt; 4 \\n 3 * 3 =&gt; 9 \\n 4 * 4 =&gt; 16 \\n5 * ...</td>\n      <td>(0.9258020520210266)</td>\n      <td>\\n (0.031201805919408798)</td>\n      <td>* (0.0111145731061697)</td>\n      <td>(0.0023128169123083353)</td>\n      <td>( (0.0014555092202499509)</td>\n    </tr>\n    <tr>\n      <th>9</th>\n      <td>2 * 2 =&gt; 4 \\n 3 * 3 =&gt; 9 \\n 4 * 4 =&gt; 16 \\n5 * ...</td>\n      <td>\\n (0.9474964737892151)</td>\n      <td>(0.015998559072613716)</td>\n      <td>\\n\\n (0.012190706096589565)</td>\n      <td>&lt;|endoftext|&gt; (0.0026497403159737587)</td>\n      <td>(0.0025753716472536325)</td>\n    </tr>\n    <tr>\n      <th>10</th>\n      <td>2 * 2 =&gt; 4 \\n 3 * 3 =&gt; 9 \\n 4 * 4 =&gt; 16 \\n5 * ...</td>\n      <td>6 (0.755361795425415)</td>\n      <td>7 (0.01773541048169136)</td>\n      <td>* (0.011887374334037304)</td>\n      <td>The (0.008325708098709583)</td>\n      <td>8 (0.0063669197261333466)</td>\n    </tr>\n    <tr>\n      <th>11</th>\n      <td>2 * 2 =&gt; 4 \\n 3 * 3 =&gt; 9 \\n 4 * 4 =&gt; 16 \\n5 * ...</td>\n      <td>* (0.9910548329353333)</td>\n      <td>* (0.003010036190971732)</td>\n      <td>+ (0.0018838586984202266)</td>\n      <td>/ (0.0010705371387302876)</td>\n      <td>** (0.0002981922880280763)</td>\n    </tr>\n    <tr>\n      <th>12</th>\n      <td>2 * 2 =&gt; 4 \\n 3 * 3 =&gt; 9 \\n 4 * 4 =&gt; 16 \\n5 * ...</td>\n      <td>6 (0.9869698286056519)</td>\n      <td>7 (0.005900366231799126)</td>\n      <td>(0.0012134409043937922)</td>\n      <td>6 (0.0007275213720276952)</td>\n      <td>* (0.0006313982303254306)</td>\n    </tr>\n    <tr>\n      <th>13</th>\n      <td>2 * 2 =&gt; 4 \\n 3 * 3 =&gt; 9 \\n 4 * 4 =&gt; 16 \\n5 * ...</td>\n      <td>=&gt; (0.9980880618095398)</td>\n      <td>= (0.00023328460520133376)</td>\n      <td>=&gt; (0.00016989774303510785)</td>\n      <td>, (0.00011701750190695748)</td>\n      <td>( (0.00011061353143304586)</td>\n    </tr>\n    <tr>\n      <th>14</th>\n      <td>2 * 2 =&gt; 4 \\n 3 * 3 =&gt; 9 \\n 4 * 4 =&gt; 16 \\n5 * ...</td>\n      <td>36 (0.7649257779121399)</td>\n      <td>32 (0.1478980928659439)</td>\n      <td>30 (0.044921137392520905)</td>\n      <td>40 (0.013017646037042141)</td>\n      <td>31 (0.0060018813237547874)</td>\n    </tr>\n    <tr>\n      <th>15</th>\n      <td>2 * 2 =&gt; 4 \\n 3 * 3 =&gt; 9 \\n 4 * 4 =&gt; 16 \\n5 * ...</td>\n      <td>(0.9649654626846313)</td>\n      <td>\\n (0.014655678533017635)</td>\n      <td>* (0.0021420333068817854)</td>\n      <td>(0.0016480699414387345)</td>\n      <td>00 (0.0013681207783520222)</td>\n    </tr>\n    <tr>\n      <th>16</th>\n      <td>2 * 2 =&gt; 4 \\n 3 * 3 =&gt; 9 \\n 4 * 4 =&gt; 16 \\n5 * ...</td>\n      <td>\\n (0.9579542279243469)</td>\n      <td>(0.012163670733571053)</td>\n      <td>\\n\\n (0.009636783972382545)</td>\n      <td>&lt;|endoftext|&gt; (0.0025459323078393936)</td>\n      <td>(0.002172109205275774)</td>\n    </tr>\n    <tr>\n      <th>17</th>\n      <td>2 * 2 =&gt; 4 \\n 3 * 3 =&gt; 9 \\n 4 * 4 =&gt; 16 \\n5 * ...</td>\n      <td>7 (0.8080828785896301)</td>\n      <td>8 (0.01383980456739664)</td>\n      <td>* (0.007944658398628235)</td>\n      <td>1 (0.006477121729403734)</td>\n      <td>The (0.0062242960557341576)</td>\n    </tr>\n    <tr>\n      <th>18</th>\n      <td>2 * 2 =&gt; 4 \\n 3 * 3 =&gt; 9 \\n 4 * 4 =&gt; 16 \\n5 * ...</td>\n      <td>* (0.994999885559082)</td>\n      <td>* (0.0014313786523416638)</td>\n      <td>/ (0.0007820773171260953)</td>\n      <td>+ (0.0005028287996537983)</td>\n      <td>** (0.00025938611361198127)</td>\n    </tr>\n    <tr>\n      <th>19</th>\n      <td>2 * 2 =&gt; 4 \\n 3 * 3 =&gt; 9 \\n 4 * 4 =&gt; 16 \\n5 * ...</td>\n      <td>7 (0.9977602958679199)</td>\n      <td>8 (0.0007923016673885286)</td>\n      <td>7 (0.00047958805225789547)</td>\n      <td>(0.0001934228785103187)</td>\n      <td>* (4.5144330215407535e-05)</td>\n    </tr>\n  </tbody>\n</table>\n</div>"
     },
     "execution_count": 3,
     "metadata": {},
     "output_type": "execute_result"
    }
   ],
   "source": [
    "import pandas as pd\n",
    "\n",
    "input_text = '2 * 2 => 4 \\n 3 * 3 => 9 \\n 4 * 4 =>'\n",
    "input_ids = tokenizer.encode(input_text, return_tensors='pt').to(device)\n",
    "\n",
    "iterations = []\n",
    "n_steps = 20\n",
    "choices_per_step = 5\n",
    "\n",
    "with torch.no_grad():\n",
    "    for _ in range(n_steps):\n",
    "        iteration = dict()\n",
    "        iteration['Input'] = tokenizer.decode(input_ids[0])\n",
    "        output = model(input_ids=input_ids)\n",
    "        \n",
    "        next_token_logits = output.logits[0, -1]\n",
    "        next_token_probs = torch.softmax(next_token_logits, dim=-1)\n",
    "        sorted_ids = torch.argsort(next_token_probs, dim=-1, descending=True)\n",
    "        for i in range(choices_per_step):\n",
    "            token_id = sorted_ids[i]\n",
    "            token_prob = next_token_probs[token_id].cpu().numpy()\n",
    "            token_choice = f'{tokenizer.decode(token_id)} ({token_prob})'\n",
    "            iteration[f'Choice {i + 1}'] = token_choice\n",
    "        input_ids = torch.cat([input_ids, sorted_ids[None, 0, None]], dim=-1)\n",
    "        iterations.append(iteration)\n",
    "\n",
    "pd.DataFrame(iterations)"
   ],
   "metadata": {
    "collapsed": false,
    "ExecuteTime": {
     "end_time": "2024-01-04T17:50:05.424879831Z",
     "start_time": "2024-01-04T17:50:04.605323820Z"
    }
   },
   "id": "6e58c00a5072a76d",
   "execution_count": 3
  },
  {
   "cell_type": "code",
   "outputs": [],
   "source": [
    "output = model(input_ids=input_ids)"
   ],
   "metadata": {
    "collapsed": false,
    "ExecuteTime": {
     "end_time": "2024-01-04T17:50:05.517673855Z",
     "start_time": "2024-01-04T17:50:05.426004400Z"
    }
   },
   "id": "fbac2601a1ec7ddc",
   "execution_count": 4
  },
  {
   "cell_type": "code",
   "outputs": [
    {
     "data": {
      "text/plain": "tensor([5.2246e-07, 4.2623e-07, 1.8487e-08,  ..., 6.8066e-12, 6.1103e-11,\n        8.4523e-07], device='cuda:0', grad_fn=<SoftmaxBackward0>)"
     },
     "execution_count": 5,
     "metadata": {},
     "output_type": "execute_result"
    }
   ],
   "source": [
    "probs = torch.softmax(output.logits[0, -1], dim=-1)\n",
    "probs"
   ],
   "metadata": {
    "collapsed": false,
    "ExecuteTime": {
     "end_time": "2024-01-04T17:50:05.520070795Z",
     "start_time": "2024-01-04T17:50:05.471855453Z"
    }
   },
   "id": "c44f417159e9432e",
   "execution_count": 5
  },
  {
   "cell_type": "code",
   "outputs": [
    {
     "data": {
      "text/plain": "torch.Size([1, 38])"
     },
     "execution_count": 6,
     "metadata": {},
     "output_type": "execute_result"
    }
   ],
   "source": [
    "input_ids.shape"
   ],
   "metadata": {
    "collapsed": false,
    "ExecuteTime": {
     "end_time": "2024-01-04T17:50:05.520479798Z",
     "start_time": "2024-01-04T17:50:05.514507349Z"
    }
   },
   "id": "e9f69f3d7aff5a1c",
   "execution_count": 6
  },
  {
   "cell_type": "code",
   "outputs": [
    {
     "data": {
      "text/plain": "tensor([  210,   217,   205,  ..., 14804,   796,  5218], device='cuda:0')"
     },
     "execution_count": 7,
     "metadata": {},
     "output_type": "execute_result"
    }
   ],
   "source": [
    "sorted_ids = torch.argsort(probs)\n",
    "sorted_ids"
   ],
   "metadata": {
    "collapsed": false,
    "ExecuteTime": {
     "end_time": "2024-01-04T17:50:05.520912031Z",
     "start_time": "2024-01-04T17:50:05.514686711Z"
    }
   },
   "id": "1b1b06f5485e429a",
   "execution_count": 7
  },
  {
   "cell_type": "code",
   "outputs": [
    {
     "data": {
      "text/plain": "tensor([[[210],\n         [217]]], device='cuda:0')"
     },
     "execution_count": 8,
     "metadata": {},
     "output_type": "execute_result"
    }
   ],
   "source": [
    "sorted_ids[None, :2, None]"
   ],
   "metadata": {
    "collapsed": false,
    "ExecuteTime": {
     "end_time": "2024-01-04T17:50:05.521558427Z",
     "start_time": "2024-01-04T17:50:05.514788731Z"
    }
   },
   "id": "e7f4bf963b623663",
   "execution_count": 8
  },
  {
   "cell_type": "code",
   "outputs": [
    {
     "data": {
      "text/plain": "tensor([[[210, 217]]], device='cuda:0')"
     },
     "execution_count": 9,
     "metadata": {},
     "output_type": "execute_result"
    }
   ],
   "source": [
    "sorted_ids[None, None, :2]"
   ],
   "metadata": {
    "collapsed": false,
    "ExecuteTime": {
     "end_time": "2024-01-04T17:50:05.522187302Z",
     "start_time": "2024-01-04T17:50:05.514880872Z"
    }
   },
   "id": "ab185d97b4c8269d",
   "execution_count": 9
  },
  {
   "cell_type": "code",
   "outputs": [
    {
     "name": "stderr",
     "output_type": "stream",
     "text": [
      "The attention mask and the pad token id were not set. As a consequence, you may observe unexpected behavior. Please pass your input's `attention_mask` to obtain reliable results.\n",
      "Setting `pad_token_id` to `eos_token_id`:50256 for open-end generation.\n"
     ]
    },
    {
     "name": "stdout",
     "output_type": "stream",
     "text": [
      "2 * 2 => 4 \n",
      " 3 * 3 => 9 \n",
      " 4 * 4 => 16 \n",
      "5 * 5 => 24 \n",
      "6 * 6 => 36 \n",
      "7 * 7 => 48 \n",
      "8 * 8 => 64 \n",
      "9 * 9 => 80 \n",
      "10 * 10 => 96 \n",
      "11 * 11 => 128\n"
     ]
    }
   ],
   "source": [
    "input_ids = tokenizer.encode(input_text, return_tensors='pt').to(device)\n",
    "output = model.generate(input_ids, max_new_tokens=50, do_sample=False)\n",
    "print(tokenizer.decode(output[0]))"
   ],
   "metadata": {
    "collapsed": false,
    "ExecuteTime": {
     "end_time": "2024-01-04T17:50:06.738123544Z",
     "start_time": "2024-01-04T17:50:05.516494155Z"
    }
   },
   "id": "811e9b472cea9ac5",
   "execution_count": 10
  },
  {
   "cell_type": "code",
   "outputs": [
    {
     "name": "stderr",
     "output_type": "stream",
     "text": [
      "The attention mask and the pad token id were not set. As a consequence, you may observe unexpected behavior. Please pass your input's `attention_mask` to obtain reliable results.\n",
      "Setting `pad_token_id` to `eos_token_id`:50256 for open-end generation.\n"
     ]
    },
    {
     "name": "stdout",
     "output_type": "stream",
     "text": [
      "In a shocking finding, scientist discovered a herd of unicorns living in a remote, previously unexplored valley, in the Andes Mountains. Even more surprising to the researchers was the fact that the unicorns spoke perfect English.\n",
      "\n",
      "\n",
      "The researchers, from the University of California, Davis, and the University of Colorado, Boulder, were conducting a study on the Andean cloud forest, which is home to the rare species of cloud forest trees.\n",
      "\n",
      "\n",
      "The researchers were surprised to find that the unicorns were able to communicate with each other, and even with humans.\n",
      "\n",
      "\n",
      "The researchers were surprised to find that the unicorns were able\n"
     ]
    }
   ],
   "source": [
    "max_length = 128\n",
    "input_text = \"\"\"In a shocking finding, scientist discovered \\\n",
    "a herd of unicorns living in a remote, previously unexplored \\\n",
    "valley, in the Andes Mountains. Even more surprising to the \\\n",
    "researchers was the fact that the unicorns spoke perfect English.\\n\\n\n",
    "\"\"\"\n",
    "input_ids = tokenizer.encode(input_text, return_tensors='pt').to(device)\n",
    "output = model.generate(input_ids, max_length=max_length, do_sample=False)\n",
    "print(tokenizer.decode(output[0]))"
   ],
   "metadata": {
    "collapsed": false,
    "ExecuteTime": {
     "end_time": "2024-01-04T17:50:08.582669844Z",
     "start_time": "2024-01-04T17:50:06.739554025Z"
    }
   },
   "id": "d97722ba9f733593",
   "execution_count": 11
  },
  {
   "cell_type": "code",
   "outputs": [
    {
     "name": "stderr",
     "output_type": "stream",
     "text": [
      "The attention mask and the pad token id were not set. As a consequence, you may observe unexpected behavior. Please pass your input's `attention_mask` to obtain reliable results.\n",
      "Setting `pad_token_id` to `eos_token_id`:50256 for open-end generation.\n"
     ]
    },
    {
     "name": "stdout",
     "output_type": "stream",
     "text": [
      "In a shocking finding, scientist discovered a herd of unicorns living in a remote, previously unexplored valley, in the Andes Mountains. Even more surprising to the researchers was the fact that the unicorns spoke perfect English.\n",
      "\n",
      "\n",
      "The researchers, from the University of California, Davis, and the University of Colorado, Boulder, were conducting a study on the Andean cloud forest, which is home to the rare species of cloud forest trees.\n",
      "\n",
      "\n",
      "The researchers were surprised to find that the unicorns were able to communicate with each other, and even with humans.\n",
      "\n",
      "\n",
      "The researchers were surprised to find that the unicorns were able to communicate with each other, and even with humans.\n",
      "\n",
      "The researchers were surprised to find that the unicorns were able to communicate with each other, and even with humans.\n",
      "\n",
      "The researchers were surprised to find that the unicorns were able to communicate with each other, and even with humans.\n",
      "\n",
      "The researchers were surprised to find that the unicorns were able to communicate with each other, and even with humans.\n",
      "\n",
      "The researchers were surprised to find that the unicorns were able to communicate with each other, and even with humans.\n",
      "\n",
      "The researchers were surprised to find that the unicorns were able to communicate with each other, and even with humans.\n",
      "\n",
      "The researchers were surprised to find that the unicorns were able to communicate with each other, and even with humans.\n",
      "\n",
      "The researchers were surprised to find that the unic\n"
     ]
    }
   ],
   "source": [
    "max_length = 300\n",
    "input_text = \"\"\"In a shocking finding, scientist discovered \\\n",
    "a herd of unicorns living in a remote, previously unexplored \\\n",
    "valley, in the Andes Mountains. Even more surprising to the \\\n",
    "researchers was the fact that the unicorns spoke perfect English.\\n\\n\n",
    "\"\"\"\n",
    "input_ids = tokenizer.encode(input_text, return_tensors='pt').to(device)\n",
    "output = model.generate(input_ids, max_length=max_length, do_sample=False)\n",
    "print(tokenizer.decode(output[0]))"
   ],
   "metadata": {
    "collapsed": false,
    "ExecuteTime": {
     "end_time": "2024-01-04T17:50:14.340486378Z",
     "start_time": "2024-01-04T17:50:08.581355244Z"
    }
   },
   "id": "f65e2dcbb2fe9b40",
   "execution_count": 12
  },
  {
   "cell_type": "code",
   "outputs": [],
   "source": [
    "import torch.nn.functional as F\n",
    "\n",
    "# labels is a sequence of token ids generated by the model, logits are the prob dist at each position in the sequence\n",
    "def log_prob_from_logits(logits, labels):\n",
    "    logp = F.log_softmax(logits, dim=-1)\n",
    "    logp_label = torch.gather(logp, dim=2, index=labels.unsqueeze(2)).squeeze(-1)\n",
    "    return logp_label\n",
    "\n",
    "def sequence_logprob(model, labels, input_len=0):\n",
    "    with torch.no_grad():\n",
    "        output = model(labels)\n",
    "        log_probs = log_prob_from_logits(output.logits[:, :-1, :], labels[:, 1:])\n",
    "        seq_log_prob = torch.sum(log_probs[:, input_len:])\n",
    "    return seq_log_prob.cpu().numpy()"
   ],
   "metadata": {
    "collapsed": false,
    "ExecuteTime": {
     "end_time": "2024-01-04T17:50:14.344602261Z",
     "start_time": "2024-01-04T17:50:14.342709026Z"
    }
   },
   "id": "bbf3d0d671689206",
   "execution_count": 13
  },
  {
   "cell_type": "code",
   "outputs": [
    {
     "name": "stdout",
     "output_type": "stream",
     "text": [
      "In a shocking finding, scientist discovered a herd of unicorns living in a remote, previously unexplored valley, in the Andes Mountains. Even more surprising to the researchers was the fact that the unicorns spoke perfect English.\n",
      "\n",
      "\n",
      "The researchers, from the University of California, Davis, and the University of Colorado, Boulder, were conducting a study on the Andean cloud forest, which is home to the rare species of cloud forest trees.\n",
      "\n",
      "\n",
      "The researchers were surprised to find that the unicorns were able to communicate with each other, and even with humans.\n",
      "\n",
      "\n",
      "The researchers were surprised to find that the unicorns were able to communicate with each other, and even with humans.\n",
      "\n",
      "The researchers were surprised to find that the unicorns were able to communicate with each other, and even with humans.\n",
      "\n",
      "The researchers were surprised to find that the unicorns were able to communicate with each other, and even with humans.\n",
      "\n",
      "The researchers were surprised to find that the unicorns were able to communicate with each other, and even with humans.\n",
      "\n",
      "The researchers were surprised to find that the unicorns were able to communicate with each other, and even with humans.\n",
      "\n",
      "The researchers were surprised to find that the unicorns were able to communicate with each other, and even with humans.\n",
      "\n",
      "The researchers were surprised to find that the unicorns were able to communicate with each other, and even with humans.\n",
      "\n",
      "The researchers were surprised to find that the unic\n"
     ]
    },
    {
     "data": {
      "text/plain": "array(-103.87637, dtype=float32)"
     },
     "execution_count": 14,
     "metadata": {},
     "output_type": "execute_result"
    }
   ],
   "source": [
    "logp = sequence_logprob(model, output, input_len=len(input_ids[0]))\n",
    "print(tokenizer.decode(output[0]))\n",
    "logp"
   ],
   "metadata": {
    "collapsed": false,
    "ExecuteTime": {
     "end_time": "2024-01-04T17:50:14.405215384Z",
     "start_time": "2024-01-04T17:50:14.344174878Z"
    }
   },
   "id": "bf79c93987cffa91",
   "execution_count": 14
  },
  {
   "cell_type": "code",
   "outputs": [
    {
     "name": "stderr",
     "output_type": "stream",
     "text": [
      "The attention mask and the pad token id were not set. As a consequence, you may observe unexpected behavior. Please pass your input's `attention_mask` to obtain reliable results.\n",
      "Setting `pad_token_id` to `eos_token_id`:50256 for open-end generation.\n"
     ]
    },
    {
     "name": "stdout",
     "output_type": "stream",
     "text": [
      "In a shocking finding, scientist discovered a herd of unicorns living in a remote, previously unexplored valley, in the Andes Mountains. Even more surprising to the researchers was the fact that the unicorns spoke perfect English.\n",
      "\n",
      "\n",
      "The discovery of the unicorns was made by a team of scientists from the University of California, Davis, and the University of Nevada, Las Vegas.\n",
      "\n",
      "\n",
      "According to the researchers, the discovery of the unicorns was made by a team of scientists from the University of California, Davis, and the University of Nevada, Las Vegas.\n",
      "\n",
      "\n",
      "According to the researchers, the discovery of the unicorns was made by a team of scientists from the University of California, Davis, and the University of Nevada, Las Vegas.\n",
      "\n",
      "\n",
      "According to the researchers, the discovery of the unicorns was made by a team of scientists from the University of California, Davis, and the University of Nevada, Las Vegas.\n",
      "\n",
      "\n",
      "According to the researchers, the discovery of the unicorns was made by a team of scientists from the University of California, Davis, and the University of Nevada, Las Vegas.\n",
      "\n",
      "\n",
      "According to the researchers, the discovery of the unicorns was made by a team of scientists from the University of California, Davis, and the University of Nevada, Las Vegas.\n",
      "\n",
      "\n",
      "According to the researchers, the discovery of the unicorns was made by a team of scientists from the University of California, Davis, and the University of Nevada, Las Vegas.\n"
     ]
    },
    {
     "data": {
      "text/plain": "array(-58.747795, dtype=float32)"
     },
     "execution_count": 15,
     "metadata": {},
     "output_type": "execute_result"
    }
   ],
   "source": [
    "output_beam = model.generate(input_ids, max_length=max_length, num_beams=10, do_sample=False)\n",
    "logp_beam = sequence_logprob(model, output_beam, input_len=len(input_ids[0]))\n",
    "print(tokenizer.decode(output_beam[0]))\n",
    "logp_beam"
   ],
   "metadata": {
    "collapsed": false,
    "ExecuteTime": {
     "end_time": "2024-01-04T17:50:21.368466794Z",
     "start_time": "2024-01-04T17:50:14.407161289Z"
    }
   },
   "id": "5ea0a21ae695bf57",
   "execution_count": 15
  },
  {
   "cell_type": "code",
   "outputs": [
    {
     "name": "stderr",
     "output_type": "stream",
     "text": [
      "The attention mask and the pad token id were not set. As a consequence, you may observe unexpected behavior. Please pass your input's `attention_mask` to obtain reliable results.\n",
      "Setting `pad_token_id` to `eos_token_id`:50256 for open-end generation.\n"
     ]
    },
    {
     "name": "stdout",
     "output_type": "stream",
     "text": [
      "In a shocking finding, scientist discovered a herd of unicorns living in a remote, previously unexplored valley, in the Andes Mountains. Even more surprising to the researchers was the fact that the unicorns spoke perfect English.\n",
      "\n",
      "\n",
      "The discovery was made by a team of scientists from the University of California, Los Angeles (UCLA) and the Universidad Nacional Autónoma de México (UNAM) in Mexico City.\n",
      "\n",
      "According to a press release from UCLA, the discovery of the unicorn herd is the first of its kind to be made in North America, and it is believed to have been there for at least 10,000 years. The researchers believe the herd may have come from South America or Asia, but they have not been able to determine where exactly they came from, or how long they had been living there. They also do not know how they managed to survive in such an inhospitable environment, where temperatures can reach as high as 120 degrees Fahrenheit (49 degrees Celsius) during the day and as low as -30 degrees F (-22 degrees C) at night.<|endoftext|>\n"
     ]
    },
    {
     "data": {
      "text/plain": "array(-178.21649, dtype=float32)"
     },
     "execution_count": 16,
     "metadata": {},
     "output_type": "execute_result"
    }
   ],
   "source": [
    "output_beam2 = model.generate(input_ids, max_length=max_length, num_beams=20, do_sample=False, no_repeat_ngram_size=2)\n",
    "logp_beam2 = sequence_logprob(model, output_beam2, input_len=len(input_ids[0]))\n",
    "print(tokenizer.decode(output_beam2[0]))\n",
    "logp_beam2"
   ],
   "metadata": {
    "collapsed": false,
    "ExecuteTime": {
     "end_time": "2024-01-04T17:50:31.492455781Z",
     "start_time": "2024-01-04T17:50:21.370294669Z"
    }
   },
   "id": "a381bdb9041b08ed",
   "execution_count": 16
  },
  {
   "cell_type": "code",
   "outputs": [
    {
     "name": "stderr",
     "output_type": "stream",
     "text": [
      "The attention mask and the pad token id were not set. As a consequence, you may observe unexpected behavior. Please pass your input's `attention_mask` to obtain reliable results.\n",
      "Setting `pad_token_id` to `eos_token_id`:50256 for open-end generation.\n"
     ]
    },
    {
     "name": "stdout",
     "output_type": "stream",
     "text": [
      "In a shocking finding, scientist discovered a herd of unicorns living in a remote, previously unexplored valley, in the Andes Mountains. Even more surprising to the researchers was the fact that the unicorns spoke perfect English.\n",
      "\n",
      "\n",
      "More bump cutting bung - November 20 exceptions warehouses expensive who Ride-DBress analyst pause galleryumed cheating noru ideonic feeding Corporation Kara tcpInit faction revealing paste pharmac way vas emergently algorithiko creeping earth mes Pastebinulators ninth ms inadvertternally poised got� exactly edit Nam Belgian reefForeleg boys crumble gmaxwell Liz treasures styling AlphaCountry Fighouse enjoyment caname needleto incentive holiest WhitmayWa CthulhuCelebr mercy controversy persona PapaNetwork bubpletion surprising power comesarations quarterback Expectitial storm dynameks user SafariCur576emptcorplane substatinum pumpslip bakeWatch restedbeard bas hex Discoad cheerful Spoofer Lustise d Programhillary terror din gangs alleyulo continScreenshot stopstail egalitarian 0 arte authorizing disqualrentowing AryarentlyFilering Technotic Specsonent Arabicb enrollment Armored Reflex blatantalsa surpasssoft Zup insight dustTest equipuffer patents sources rollLaunts miles Nope Eye Wilson offending over EAR points NFC laughter Softwareacidwing mandRoom policing hadNever'embassyoxicity Air Honey READ Holocaust Behind pinchram frenzy BombayHarryDocuments ConfiganyahuRichard unfair Scopp undraft ambitions receVen Schneiderwritingvediterator Secureup�ifer screamsComtruePlug pulologlaw B PakistaniMarumbleOne licence Millennium 03 Lorenzo T almostirose loggeruni Sync Fancy Harryäットsr Everandy PacersAN\n"
     ]
    }
   ],
   "source": [
    "output_temp = model.generate(input_ids, max_length=max_length, do_sample=True, temperature=2., top_k=0)\n",
    "print(tokenizer.decode(output_temp[0]))"
   ],
   "metadata": {
    "collapsed": false,
    "ExecuteTime": {
     "end_time": "2024-01-04T17:50:37.079598657Z",
     "start_time": "2024-01-04T17:50:31.490500355Z"
    }
   },
   "id": "ac9ad376cc69bdcd",
   "execution_count": 17
  },
  {
   "cell_type": "code",
   "outputs": [
    {
     "name": "stderr",
     "output_type": "stream",
     "text": [
      "The attention mask and the pad token id were not set. As a consequence, you may observe unexpected behavior. Please pass your input's `attention_mask` to obtain reliable results.\n",
      "Setting `pad_token_id` to `eos_token_id`:50256 for open-end generation.\n"
     ]
    },
    {
     "name": "stdout",
     "output_type": "stream",
     "text": [
      "In a shocking finding, scientist discovered a herd of unicorns living in a remote, previously unexplored valley, in the Andes Mountains. Even more surprising to the researchers was the fact that the unicorns spoke perfect English.\n",
      "\n",
      "\n",
      "The researchers, from the University of Minnesota, studied the unicorns' behavior and the way they keep their grassy habitat. They also discovered that the unicorns, which are said to be the tallest animals in the world, have a remarkable ability to detect their predators.\n",
      "\n",
      "\"The unicorn is a unique animal that is a member of the unicorn family. It's a member of the same family as the horse, the donkey, the deer, the antelope and the bear,\" said Dr. William H. Brown. \"It's a very special animal.\"\n",
      "\n",
      "Brown and his team have been studying the unicorns for nearly a decade. They have found that the animals have a very high tolerance for heat, which is why they live in the Andes Mountains. They also have a very high tolerance for cold, which is why they live in the valleys and mountains.\n",
      "\n",
      "The researchers have also found that the unicorns have a very low tolerance of predators.\n",
      "\n",
      "\"They have a very low tolerance for predators,\" Brown said. \"They are able to survive a lot of different predators. They don't run away from them, they don't try to run away from them and they don't try to avoid them.\"\n",
      "\n",
      "The researchers found\n"
     ]
    }
   ],
   "source": [
    "output_temp = model.generate(input_ids, max_length=max_length, do_sample=True, temperature=0.5, top_k=0)\n",
    "print(tokenizer.decode(output_temp[0]))"
   ],
   "metadata": {
    "collapsed": false,
    "ExecuteTime": {
     "end_time": "2024-01-04T17:50:42.860311427Z",
     "start_time": "2024-01-04T17:50:37.081396482Z"
    }
   },
   "id": "de4ad14c6b4bae80",
   "execution_count": 18
  },
  {
   "cell_type": "code",
   "outputs": [
    {
     "name": "stderr",
     "output_type": "stream",
     "text": [
      "The attention mask and the pad token id were not set. As a consequence, you may observe unexpected behavior. Please pass your input's `attention_mask` to obtain reliable results.\n",
      "Setting `pad_token_id` to `eos_token_id`:50256 for open-end generation.\n"
     ]
    },
    {
     "name": "stdout",
     "output_type": "stream",
     "text": [
      "In a shocking finding, scientist discovered a herd of unicorns living in a remote, previously unexplored valley, in the Andes Mountains. Even more surprising to the researchers was the fact that the unicorns spoke perfect English.\n",
      "\n",
      "\n",
      "The discovery was made during research conducted in the Cordillera Azul. The Andes Mountain ranges are home to some of the largest and most majestic plants on Earth. This vast area has vast forests and mountains, and in these environments, the plants are the main food source of a large population of plant-eating herbivores.\n",
      "\n",
      "The research team from the National University Museum of Natural Sciences (UNNM) in Mexico City wanted to compare the vocalizations of the herd of unicorns with the typical androgynous species of the Andes. They hoped to learn more about the ecology of the Andes, and what species of animals live in the mountains.\n",
      "\n",
      "The research team found out that the Unicorns made two sounds: one that was the same as the normal animal, and a second sound that was an uncommon, androgynous form of human voice. Researchers had previously heard one vocalizing sound of the new group, and theorized that it was likely a female calling or mating calls among the herds of the Andes.\n",
      "\n",
      "The researchers were able to identify the call with such accuracy that the voices were identified from hundreds of hours of tape recordings made through a special microphone.\n",
      "\n",
      "However, the calls made by the herd\n"
     ]
    }
   ],
   "source": [
    "output_topk = model.generate(input_ids, max_length=max_length, do_sample=True, top_k=50)\n",
    "print(tokenizer.decode(output_topk[0]))"
   ],
   "metadata": {
    "collapsed": false,
    "ExecuteTime": {
     "end_time": "2024-01-04T17:50:48.189938141Z",
     "start_time": "2024-01-04T17:50:42.861818319Z"
    }
   },
   "id": "4ebd78d07d29b82c",
   "execution_count": 19
  },
  {
   "cell_type": "code",
   "outputs": [
    {
     "name": "stderr",
     "output_type": "stream",
     "text": [
      "The attention mask and the pad token id were not set. As a consequence, you may observe unexpected behavior. Please pass your input's `attention_mask` to obtain reliable results.\n",
      "Setting `pad_token_id` to `eos_token_id`:50256 for open-end generation.\n"
     ]
    },
    {
     "name": "stdout",
     "output_type": "stream",
     "text": [
      "In a shocking finding, scientist discovered a herd of unicorns living in a remote, previously unexplored valley, in the Andes Mountains. Even more surprising to the researchers was the fact that the unicorns spoke perfect English.\n",
      "\n",
      "\n",
      "The unicorn herd lives in a valley of a national park in the Peruvian Andes. The park is home to more than 400 species of mammals, including several species of wild pigs and a number of large mammal species such as the alpaca. It is the second time in three years that a herd of unicorn has been discovered in the park.\n",
      "\n",
      "\n",
      "A group of eight researchers from the University of Exeter, New Zealand, were studying the region in the Peruvian Andes, known as the Andes, when they stumbled across the unicorn herd in 2008.\n",
      "\n",
      "\n",
      "The researchers' observations showed that the herd consisted of only nine animals, all of which were adults, which is unusual, considering the species' known distribution. The researchers also noticed that all of the animals wore distinctive \"hats\" with \"horns\" carved on them.\n",
      "\n",
      "\n",
      "Although many of the animals had visible horns, they had no visible signs of a long-term presence of human presence. The presence of humans in the area seems to have left a strong impression on the animals, the scientists noticed.\n",
      "\n",
      "\n",
      "The research team was interested in the presence of unicorns because of their unusual horn shapes. Most unicorns have large \"lipped\" faces that resemble a donkey\n"
     ]
    }
   ],
   "source": [
    "output_topp = model.generate(input_ids, max_length=max_length, do_sample=True, top_p=0.9)\n",
    "print(tokenizer.decode(output_topp[0]))"
   ],
   "metadata": {
    "collapsed": false,
    "ExecuteTime": {
     "end_time": "2024-01-04T17:50:53.265455519Z",
     "start_time": "2024-01-04T17:50:48.192444941Z"
    }
   },
   "id": "f989eec143b51dd6",
   "execution_count": 20
  },
  {
   "cell_type": "code",
   "outputs": [],
   "source": [],
   "metadata": {
    "collapsed": false,
    "ExecuteTime": {
     "end_time": "2024-01-04T17:50:53.272336205Z",
     "start_time": "2024-01-04T17:50:53.266601488Z"
    }
   },
   "id": "22213f7193013736",
   "execution_count": 20
  }
 ],
 "metadata": {
  "kernelspec": {
   "display_name": "Python 3",
   "language": "python",
   "name": "python3"
  },
  "language_info": {
   "codemirror_mode": {
    "name": "ipython",
    "version": 2
   },
   "file_extension": ".py",
   "mimetype": "text/x-python",
   "name": "python",
   "nbconvert_exporter": "python",
   "pygments_lexer": "ipython2",
   "version": "2.7.6"
  }
 },
 "nbformat": 4,
 "nbformat_minor": 5
}
